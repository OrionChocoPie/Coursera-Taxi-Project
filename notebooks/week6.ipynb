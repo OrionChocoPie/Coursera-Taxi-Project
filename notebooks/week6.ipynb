{
 "cells": [
  {
   "cell_type": "code",
   "execution_count": 1,
   "metadata": {},
   "outputs": [],
   "source": [
    "import numpy as np\n",
    "import pandas as pd\n",
    "\n",
    "import matplotlib.pyplot as plt\n",
    "import seaborn as sns\n",
    "%matplotlib inline\n",
    "\n",
    "import warnings"
   ]
  },
  {
   "cell_type": "code",
   "execution_count": 2,
   "metadata": {},
   "outputs": [],
   "source": [
    "from sklearn.linear_model import Lasso"
   ]
  },
  {
   "cell_type": "code",
   "execution_count": 3,
   "metadata": {},
   "outputs": [],
   "source": [
    "import dask.dataframe as dd"
   ]
  },
  {
   "cell_type": "markdown",
   "metadata": {},
   "source": [
    "На этой неделе вам предстоит попробовать добавить в вашу регрессионную модель дополнительные признаки.\n",
    "\n",
    "Во-первых, для прогнозирования можно использовать информацию, содержащуюся в сырых данных:\n",
    "\n",
    "* средняя длительность поездок\n",
    "* среднее количество пассажиров\n",
    "* среднее расстояние по счётчику\n",
    "* доли географических зон, в которые совершаются поездки\n",
    "* доли поездок, совершаемых по тарифам каждого из типов\n",
    "* доли способов оплаты поездок\n",
    "* средняя стоимость поездок\n",
    "* доли провайдеров данных\n",
    "* Все эти признаки можно использовать только с задержкой, то есть, при прогнозировании $\\hat{y}_{T+i|T}$\n",
    "\n",
    "эти признаки должны быть рассчитаны по данным не позднее момента времени $T$. Каждый из этих признаков можно использовать по-разному: как сырые значения за последние несколько часов, так и средние за последний день, неделю, месяц и т. д.\n",
    "\n",
    "Во-вторых, чтобы улучшить качество прогнозов в аномальные периоды, вы можете найти информацию о потенциально влияющих на количество поездок событиях, таких, как государственные праздники. Проанализируйте, как именно поведение пассажиров меняется во время этих событий, и создайте признаки, отражающие эти изменения. Как показывает наш опыт, правильный учёт праздничных дней часто позволяет существенно уменьшить среднюю ошибку прогноза.\n",
    "\n",
    "В-третьих, можно использовать признаки, связанные с географией. Например, скорее всего, суммарное количество поездок, совершаемых из географической зоны, пропорционально площади этой зоны. Для зон, прилегающих к аэропорту, может быть характерен специфический паттерн дневной сезонности, связанный с тем, что спрос на такси будет повышаться в те часы, когда общественный транспорт перестаёт работать. В деловом центре максимальное количество поездок будет приходиться на начало и окончание рабочего дня, на Бродвее — на время начала и окончания спектаклей. Все эти идеи не обязательно верны, мы приводим их здесь только для того, чтобы продемонстрировать принцип рассуждений. Ещё один пример географического признака: можно попробовать добавить идентификатор боро, который можно найти в файле https://s3.amazonaws.com/nyc-tlc/misc/taxi+_zone_lookup.csv. Кроме того, нам кажется перспективным использование в качестве фактора количества поездок, совершённых за прошлый час/день и т. д. из соседних географических зон, или количества поездок, совершённых за прошлый час/день в текущую географическую зону.\n",
    "\n",
    "Много примеров других признаков, которые можно использовать при регрессионном прогнозировании, можно найти в лекции Вадима Стрижова."
   ]
  },
  {
   "cell_type": "markdown",
   "metadata": {},
   "source": [
    "Чтобы сдать задание, выполните следующую последовательность действий.\n",
    "\n",
    "1. Загрузите обучающие выборки прошлой недели, перечислите используемые в моделях признаки и посчитайте $Q_{may}$ — качество прогнозов моделей, настроенных на данных до апреля 2016, в мае 2016."
   ]
  },
  {
   "cell_type": "markdown",
   "metadata": {},
   "source": [
    "Подгрузим данные, которые мы собрали на прошлой неделе"
   ]
  },
  {
   "cell_type": "code",
   "execution_count": 4,
   "metadata": {},
   "outputs": [],
   "source": [
    "april_X = pd.read_csv('april_X.csv', index_col=['tpep_pickup_datetime', 'Unnamed: 1'])\n",
    "may_X = pd.read_csv('may_X.csv', index_col=['tpep_pickup_datetime', 'Unnamed: 1'])\n",
    "june_X = pd.read_csv('june_X.csv', index_col=['tpep_pickup_datetime', 'Unnamed: 1'])\n",
    "\n",
    "train_ys = pd.read_csv('train_ys.csv', index_col=['tpep_pickup_datetime', 'Unnamed: 1'])\n",
    "test_ys = pd.read_csv('test_ys.csv', index_col=['tpep_pickup_datetime', 'Unnamed: 1'])\n",
    "valid_ys = pd.read_csv('valid_ys.csv', index_col=['tpep_pickup_datetime', 'Unnamed: 1'])"
   ]
  },
  {
   "cell_type": "markdown",
   "metadata": {},
   "source": [
    "Тогда я использовал обычную лассо модель без тюнинга параметров, так что теперь это будет нашим бейзлайном и будем улучшать результат заменой на более продвинутые алгоритмы и улучшением признаков"
   ]
  },
  {
   "cell_type": "code",
   "execution_count": 5,
   "metadata": {
    "scrolled": false
   },
   "outputs": [
    {
     "name": "stderr",
     "output_type": "stream",
     "text": [
      "C:\\ProgramData\\Anaconda3\\lib\\site-packages\\sklearn\\linear_model\\_coordinate_descent.py:476: ConvergenceWarning: Objective did not converge. You might want to increase the number of iterations. Duality gap: 1057255825.5962633, tolerance: 5153865.000252157\n",
      "  positive)\n",
      "C:\\ProgramData\\Anaconda3\\lib\\site-packages\\sklearn\\linear_model\\_coordinate_descent.py:476: ConvergenceWarning: Objective did not converge. You might want to increase the number of iterations. Duality gap: 2633419553.7985444, tolerance: 5153742.5031987345\n",
      "  positive)\n",
      "C:\\ProgramData\\Anaconda3\\lib\\site-packages\\sklearn\\linear_model\\_coordinate_descent.py:476: ConvergenceWarning: Objective did not converge. You might want to increase the number of iterations. Duality gap: 2874149380.6548967, tolerance: 5153328.431354502\n",
      "  positive)\n",
      "C:\\ProgramData\\Anaconda3\\lib\\site-packages\\sklearn\\linear_model\\_coordinate_descent.py:476: ConvergenceWarning: Objective did not converge. You might want to increase the number of iterations. Duality gap: 4868950962.064877, tolerance: 5152950.358937163\n",
      "  positive)\n",
      "C:\\ProgramData\\Anaconda3\\lib\\site-packages\\sklearn\\linear_model\\_coordinate_descent.py:476: ConvergenceWarning: Objective did not converge. You might want to increase the number of iterations. Duality gap: 5471502712.993998, tolerance: 5152866.668998184\n",
      "  positive)\n"
     ]
    }
   ],
   "source": [
    "simple_models = [Lasso().fit(april_X, train_ys[f'T+{i}'].values) for i in range(1, 7)]"
   ]
  },
  {
   "cell_type": "markdown",
   "metadata": {},
   "source": [
    "### Признаки\n",
    "\n",
    "* T - Количество поездок в текущий момент времени\n",
    "* T-1 - Количество поездок час назад\n",
    "* T-2 - Количество поездок 2 часа назад\n",
    "* T-3 - Количество поездок 3 часа назад\n",
    "* T-4 - Количество поездок 4 часа назад\n",
    "* T-5 - Количество поездок 5 часов назад\n",
    "* T-6 - Количество поездок 6 часов назад\n",
    "* T-24 - Количество поездок в тот же час, но на день раньше\n",
    "* T-48 - Количество поездок в тот же час, но на 2 дня раньше\n",
    "* day - календарный день\n",
    "* day_str - календарный день в строковом виде\n",
    "* dayofweek - календарный день недели\n",
    "* dayofweek_str - календарный день недели в строковом виде\n",
    "* hour - час\n",
    "* hour_str - час в строковом виде\n",
    "* month - календарный месяц\n",
    "* month_str - календарный месяц в строковом виде\n",
    "* year - календарный год\n",
    "* year_str - календарный год в строковом виде\n",
    "* region - номер региона в строком виде\n",
    "* halfday_sum - количество поездок за прошедшие полдня\n",
    "* day_sum - количество поездок за прошедший день\n",
    "* week_sum - количество поездок за прошедшую неделю\n",
    "* month_sum - количество поездок за прошедший месяц"
   ]
  },
  {
   "cell_type": "markdown",
   "metadata": {},
   "source": [
    "Сделаем прогноз и посчитаем ошибку, чтобы в дальнейшем на нее ориентироваться"
   ]
  },
  {
   "cell_type": "code",
   "execution_count": 6,
   "metadata": {},
   "outputs": [],
   "source": [
    "predicts = np.array([model.predict(may_X) for model in simple_models]).T\n",
    "predicts[predicts < 0] = 0"
   ]
  },
  {
   "cell_type": "code",
   "execution_count": 7,
   "metadata": {},
   "outputs": [
    {
     "data": {
      "text/plain": [
       "41.20619307898187"
      ]
     },
     "execution_count": 7,
     "metadata": {},
     "output_type": "execute_result"
    }
   ],
   "source": [
    "np.mean(np.abs(test_ys.values - np.array(predicts)))"
   ]
  },
  {
   "cell_type": "markdown",
   "metadata": {},
   "source": [
    "2. Попробуйте добавить признаки. Используйте идеи, которые мы предложили, или какие-то свои. Обучайте обновлённые модели на данных до апреля 2016 включительно и считайте качество новых прогнозов на мае. Удаётся ли вам улучшить качество? Не нужно ли увеличить сложность регрессионной модели? Если добавляемый признак не улучшает качество, всё равно оставьте доказательства этому в ноутбуке, чтобы ваши коллеги это видели при проверке."
   ]
  },
  {
   "cell_type": "markdown",
   "metadata": {},
   "source": [
    "Данных у нас очень много и чтобы упростить загрузка и обработку, мы используем Dask - аналог Pandas, только легко параллелится и загружает данные не полностью, что позволяет \"обрабатывать\" все сразу"
   ]
  },
  {
   "cell_type": "code",
   "execution_count": 8,
   "metadata": {},
   "outputs": [],
   "source": [
    "raw_data = dd.read_csv('yellow_tripdata_*.csv', parse_dates=['tpep_pickup_datetime', 'tpep_dropoff_datetime'])"
   ]
  },
  {
   "cell_type": "code",
   "execution_count": 9,
   "metadata": {},
   "outputs": [
    {
     "data": {
      "text/html": [
       "<div>\n",
       "<style scoped>\n",
       "    .dataframe tbody tr th:only-of-type {\n",
       "        vertical-align: middle;\n",
       "    }\n",
       "\n",
       "    .dataframe tbody tr th {\n",
       "        vertical-align: top;\n",
       "    }\n",
       "\n",
       "    .dataframe thead th {\n",
       "        text-align: right;\n",
       "    }\n",
       "</style>\n",
       "<table border=\"1\" class=\"dataframe\">\n",
       "  <thead>\n",
       "    <tr style=\"text-align: right;\">\n",
       "      <th></th>\n",
       "      <th>VendorID</th>\n",
       "      <th>tpep_pickup_datetime</th>\n",
       "      <th>tpep_dropoff_datetime</th>\n",
       "      <th>passenger_count</th>\n",
       "      <th>trip_distance</th>\n",
       "      <th>pickup_longitude</th>\n",
       "      <th>pickup_latitude</th>\n",
       "      <th>RateCodeID</th>\n",
       "      <th>store_and_fwd_flag</th>\n",
       "      <th>dropoff_longitude</th>\n",
       "      <th>dropoff_latitude</th>\n",
       "      <th>payment_type</th>\n",
       "      <th>fare_amount</th>\n",
       "      <th>extra</th>\n",
       "      <th>mta_tax</th>\n",
       "      <th>tip_amount</th>\n",
       "      <th>tolls_amount</th>\n",
       "      <th>improvement_surcharge</th>\n",
       "      <th>total_amount</th>\n",
       "    </tr>\n",
       "  </thead>\n",
       "  <tbody>\n",
       "    <tr>\n",
       "      <th>0</th>\n",
       "      <td>1</td>\n",
       "      <td>2015-05-05 23:37:40</td>\n",
       "      <td>2015-05-05 23:45:41</td>\n",
       "      <td>1</td>\n",
       "      <td>2.00</td>\n",
       "      <td>-74.001678</td>\n",
       "      <td>40.739311</td>\n",
       "      <td>1</td>\n",
       "      <td>N</td>\n",
       "      <td>-73.978294</td>\n",
       "      <td>40.752110</td>\n",
       "      <td>2</td>\n",
       "      <td>8.5</td>\n",
       "      <td>0.5</td>\n",
       "      <td>0.5</td>\n",
       "      <td>0.00</td>\n",
       "      <td>0.0</td>\n",
       "      <td>0.3</td>\n",
       "      <td>9.80</td>\n",
       "    </tr>\n",
       "    <tr>\n",
       "      <th>1</th>\n",
       "      <td>2</td>\n",
       "      <td>2015-05-05 23:37:40</td>\n",
       "      <td>2015-05-05 23:40:36</td>\n",
       "      <td>1</td>\n",
       "      <td>0.54</td>\n",
       "      <td>-73.930840</td>\n",
       "      <td>40.744789</td>\n",
       "      <td>1</td>\n",
       "      <td>N</td>\n",
       "      <td>-73.937515</td>\n",
       "      <td>40.749359</td>\n",
       "      <td>2</td>\n",
       "      <td>4.5</td>\n",
       "      <td>0.5</td>\n",
       "      <td>0.5</td>\n",
       "      <td>0.00</td>\n",
       "      <td>0.0</td>\n",
       "      <td>0.3</td>\n",
       "      <td>5.80</td>\n",
       "    </tr>\n",
       "    <tr>\n",
       "      <th>2</th>\n",
       "      <td>2</td>\n",
       "      <td>2015-05-05 23:37:40</td>\n",
       "      <td>2015-05-05 23:44:03</td>\n",
       "      <td>3</td>\n",
       "      <td>2.10</td>\n",
       "      <td>-74.001411</td>\n",
       "      <td>40.731087</td>\n",
       "      <td>1</td>\n",
       "      <td>N</td>\n",
       "      <td>-73.981674</td>\n",
       "      <td>40.758282</td>\n",
       "      <td>2</td>\n",
       "      <td>8.0</td>\n",
       "      <td>0.5</td>\n",
       "      <td>0.5</td>\n",
       "      <td>0.00</td>\n",
       "      <td>0.0</td>\n",
       "      <td>0.3</td>\n",
       "      <td>9.30</td>\n",
       "    </tr>\n",
       "    <tr>\n",
       "      <th>3</th>\n",
       "      <td>2</td>\n",
       "      <td>2015-05-05 23:37:40</td>\n",
       "      <td>2015-05-06 00:14:01</td>\n",
       "      <td>6</td>\n",
       "      <td>10.93</td>\n",
       "      <td>-73.970673</td>\n",
       "      <td>40.758560</td>\n",
       "      <td>1</td>\n",
       "      <td>N</td>\n",
       "      <td>-73.933762</td>\n",
       "      <td>40.670544</td>\n",
       "      <td>1</td>\n",
       "      <td>36.0</td>\n",
       "      <td>0.5</td>\n",
       "      <td>0.5</td>\n",
       "      <td>9.32</td>\n",
       "      <td>0.0</td>\n",
       "      <td>0.3</td>\n",
       "      <td>46.62</td>\n",
       "    </tr>\n",
       "    <tr>\n",
       "      <th>4</th>\n",
       "      <td>2</td>\n",
       "      <td>2015-05-05 23:37:40</td>\n",
       "      <td>2015-05-05 23:46:03</td>\n",
       "      <td>5</td>\n",
       "      <td>0.93</td>\n",
       "      <td>-73.986732</td>\n",
       "      <td>40.755878</td>\n",
       "      <td>1</td>\n",
       "      <td>N</td>\n",
       "      <td>-73.990959</td>\n",
       "      <td>40.749981</td>\n",
       "      <td>1</td>\n",
       "      <td>7.0</td>\n",
       "      <td>0.5</td>\n",
       "      <td>0.5</td>\n",
       "      <td>2.49</td>\n",
       "      <td>0.0</td>\n",
       "      <td>0.3</td>\n",
       "      <td>10.79</td>\n",
       "    </tr>\n",
       "  </tbody>\n",
       "</table>\n",
       "</div>"
      ],
      "text/plain": [
       "   VendorID tpep_pickup_datetime tpep_dropoff_datetime  passenger_count  \\\n",
       "0         1  2015-05-05 23:37:40   2015-05-05 23:45:41                1   \n",
       "1         2  2015-05-05 23:37:40   2015-05-05 23:40:36                1   \n",
       "2         2  2015-05-05 23:37:40   2015-05-05 23:44:03                3   \n",
       "3         2  2015-05-05 23:37:40   2015-05-06 00:14:01                6   \n",
       "4         2  2015-05-05 23:37:40   2015-05-05 23:46:03                5   \n",
       "\n",
       "   trip_distance  pickup_longitude  pickup_latitude  RateCodeID  \\\n",
       "0           2.00        -74.001678        40.739311           1   \n",
       "1           0.54        -73.930840        40.744789           1   \n",
       "2           2.10        -74.001411        40.731087           1   \n",
       "3          10.93        -73.970673        40.758560           1   \n",
       "4           0.93        -73.986732        40.755878           1   \n",
       "\n",
       "  store_and_fwd_flag  dropoff_longitude  dropoff_latitude  payment_type  \\\n",
       "0                  N         -73.978294         40.752110             2   \n",
       "1                  N         -73.937515         40.749359             2   \n",
       "2                  N         -73.981674         40.758282             2   \n",
       "3                  N         -73.933762         40.670544             1   \n",
       "4                  N         -73.990959         40.749981             1   \n",
       "\n",
       "   fare_amount  extra  mta_tax  tip_amount  tolls_amount  \\\n",
       "0          8.5    0.5      0.5        0.00           0.0   \n",
       "1          4.5    0.5      0.5        0.00           0.0   \n",
       "2          8.0    0.5      0.5        0.00           0.0   \n",
       "3         36.0    0.5      0.5        9.32           0.0   \n",
       "4          7.0    0.5      0.5        2.49           0.0   \n",
       "\n",
       "   improvement_surcharge  total_amount  \n",
       "0                    0.3          9.80  \n",
       "1                    0.3          5.80  \n",
       "2                    0.3          9.30  \n",
       "3                    0.3         46.62  \n",
       "4                    0.3         10.79  "
      ]
     },
     "execution_count": 9,
     "metadata": {},
     "output_type": "execute_result"
    }
   ],
   "source": [
    "raw_data.head()"
   ]
  },
  {
   "cell_type": "markdown",
   "metadata": {},
   "source": [
    "* удалим поездки с нулевой или отрицательной длительностью"
   ]
  },
  {
   "cell_type": "code",
   "execution_count": 10,
   "metadata": {},
   "outputs": [],
   "source": [
    "raw_data = raw_data[(raw_data['tpep_dropoff_datetime'] - raw_data['tpep_pickup_datetime']).dt.seconds > 0]"
   ]
  },
  {
   "cell_type": "markdown",
   "metadata": {},
   "source": [
    "* удалим поездки с нулевым или отрицательным количеством пассажиров"
   ]
  },
  {
   "cell_type": "code",
   "execution_count": 11,
   "metadata": {},
   "outputs": [],
   "source": [
    "raw_data = raw_data[raw_data['passenger_count'] > 0]"
   ]
  },
  {
   "cell_type": "markdown",
   "metadata": {},
   "source": [
    "* удалим поездки с нулевым или отрицательным расстоянием"
   ]
  },
  {
   "cell_type": "code",
   "execution_count": 12,
   "metadata": {},
   "outputs": [],
   "source": [
    "raw_data = raw_data[raw_data['trip_distance'] > 0]"
   ]
  },
  {
   "cell_type": "markdown",
   "metadata": {},
   "source": [
    "* удалим поездки с непопадающим началом в прямоугольник Нью-Йорка"
   ]
  },
  {
   "cell_type": "code",
   "execution_count": 13,
   "metadata": {},
   "outputs": [],
   "source": [
    "raw_data = raw_data[\n",
    "    (-74.25559 <= raw_data['pickup_longitude']) &\n",
    "    (raw_data['pickup_longitude'] <= -73.70001) &\n",
    "    (40.49612 <= raw_data['pickup_latitude']) &\n",
    "    (raw_data['pickup_latitude'] <= 40.91553)\n",
    "]"
   ]
  },
  {
   "cell_type": "markdown",
   "metadata": {},
   "source": [
    "Загрузим границы регионов и оставим только нужные"
   ]
  },
  {
   "cell_type": "code",
   "execution_count": 14,
   "metadata": {},
   "outputs": [
    {
     "data": {
      "text/html": [
       "<div>\n",
       "<style scoped>\n",
       "    .dataframe tbody tr th:only-of-type {\n",
       "        vertical-align: middle;\n",
       "    }\n",
       "\n",
       "    .dataframe tbody tr th {\n",
       "        vertical-align: top;\n",
       "    }\n",
       "\n",
       "    .dataframe thead th {\n",
       "        text-align: right;\n",
       "    }\n",
       "</style>\n",
       "<table border=\"1\" class=\"dataframe\">\n",
       "  <thead>\n",
       "    <tr style=\"text-align: right;\">\n",
       "      <th></th>\n",
       "      <th>region</th>\n",
       "      <th>west</th>\n",
       "      <th>east</th>\n",
       "      <th>south</th>\n",
       "      <th>north</th>\n",
       "    </tr>\n",
       "  </thead>\n",
       "  <tbody>\n",
       "    <tr>\n",
       "      <th>1074</th>\n",
       "      <td>1075</td>\n",
       "      <td>-74.022246</td>\n",
       "      <td>-74.011135</td>\n",
       "      <td>40.697437</td>\n",
       "      <td>40.705825</td>\n",
       "    </tr>\n",
       "    <tr>\n",
       "      <th>1075</th>\n",
       "      <td>1076</td>\n",
       "      <td>-74.022246</td>\n",
       "      <td>-74.011135</td>\n",
       "      <td>40.705825</td>\n",
       "      <td>40.714213</td>\n",
       "    </tr>\n",
       "    <tr>\n",
       "      <th>1076</th>\n",
       "      <td>1077</td>\n",
       "      <td>-74.022246</td>\n",
       "      <td>-74.011135</td>\n",
       "      <td>40.714213</td>\n",
       "      <td>40.722601</td>\n",
       "    </tr>\n",
       "    <tr>\n",
       "      <th>1124</th>\n",
       "      <td>1125</td>\n",
       "      <td>-74.011135</td>\n",
       "      <td>-74.000023</td>\n",
       "      <td>40.697437</td>\n",
       "      <td>40.705825</td>\n",
       "    </tr>\n",
       "    <tr>\n",
       "      <th>1125</th>\n",
       "      <td>1126</td>\n",
       "      <td>-74.011135</td>\n",
       "      <td>-74.000023</td>\n",
       "      <td>40.705825</td>\n",
       "      <td>40.714213</td>\n",
       "    </tr>\n",
       "  </tbody>\n",
       "</table>\n",
       "</div>"
      ],
      "text/plain": [
       "      region       west       east      south      north\n",
       "1074    1075 -74.022246 -74.011135  40.697437  40.705825\n",
       "1075    1076 -74.022246 -74.011135  40.705825  40.714213\n",
       "1076    1077 -74.022246 -74.011135  40.714213  40.722601\n",
       "1124    1125 -74.011135 -74.000023  40.697437  40.705825\n",
       "1125    1126 -74.011135 -74.000023  40.705825  40.714213"
      ]
     },
     "execution_count": 14,
     "metadata": {},
     "output_type": "execute_result"
    }
   ],
   "source": [
    "regions = pd.read_csv('regions.csv', sep=';')\n",
    "regions = regions[regions['region'].isin(april_X.index.levels[1])]\n",
    "regions.head()"
   ]
  },
  {
   "cell_type": "markdown",
   "metadata": {},
   "source": [
    "Создадим колонку, заранее заполнив его NaN, это поможет, чтобы убрать поездки, которые не входят в неинтересные регионы"
   ]
  },
  {
   "cell_type": "code",
   "execution_count": 15,
   "metadata": {},
   "outputs": [],
   "source": [
    "raw_data['region'] = np.nan"
   ]
  },
  {
   "cell_type": "markdown",
   "metadata": {},
   "source": [
    "Присвоим номер региона соответствующим поездкам"
   ]
  },
  {
   "cell_type": "code",
   "execution_count": 16,
   "metadata": {},
   "outputs": [],
   "source": [
    "for _, row in regions.iterrows():\n",
    "    raw_data['region'] = raw_data['region'].mask(\n",
    "        (row['west'] <= raw_data['pickup_longitude']) &\n",
    "        (row['east'] >= raw_data['pickup_longitude']) &\n",
    "        (row['south'] <= raw_data['pickup_latitude']) &\n",
    "        (row['north'] <= raw_data['pickup_latitude']),\n",
    "        row['region'])\n",
    "#     raw_data.loc[\n",
    "#         (row['west'] <= raw_data['pickup_longitude']) &\n",
    "#         (row['east'] >= raw_data['pickup_longitude']) &\n",
    "#         (row['south'] <= raw_data['pickup_latitude']) &\n",
    "#         (row['north'] <= raw_data['pickup_latitude']),\n",
    "#         'region'\n",
    "#     ] = row['region']"
   ]
  },
  {
   "cell_type": "code",
   "execution_count": 21,
   "metadata": {},
   "outputs": [],
   "source": [
    "raw_data = raw_data.dropna()"
   ]
  },
  {
   "cell_type": "code",
   "execution_count": null,
   "metadata": {},
   "outputs": [],
   "source": [
    "raw_data.groupby('region').passenger_count.sum().compute()"
   ]
  },
  {
   "cell_type": "code",
   "execution_count": null,
   "metadata": {},
   "outputs": [],
   "source": [
    "raw_data['region'].drop_duplicates().head(2)"
   ]
  },
  {
   "cell_type": "code",
   "execution_count": null,
   "metadata": {},
   "outputs": [],
   "source": [
    "raw_data['region'].unique().compute()"
   ]
  },
  {
   "cell_type": "markdown",
   "metadata": {},
   "source": [
    "Оставим только интересные нам регионы"
   ]
  },
  {
   "cell_type": "code",
   "execution_count": null,
   "metadata": {},
   "outputs": [],
   "source": [
    "raw_data = raw_data[april_X.index.levels[1].astype(str)]"
   ]
  },
  {
   "cell_type": "markdown",
   "metadata": {},
   "source": [
    "3. Когда вы примете решение остановиться и перестать добавлять признаки, постройте для каждой географической зоны и каждого конца истории от 2016.04.30 23:00 до 2016.05.31 17:00 прогнозы на 6 часов вперёд; посчитайте в ноутбуке ошибку прогноза по следующему функционалу:"
   ]
  },
  {
   "cell_type": "markdown",
   "metadata": {},
   "source": [
    "$$\n",
    "Q_{may}=\\frac{1}{R*739*6}\\sum_{r=1}^{R}{\\sum_{T=2016.04.30\\ 23:00}^{2016.05.31\\ 17:00}{\\sum_{i=1}^{6}{|\\hat{y}^r_{T|T+i} - y^r_{T+i}|}}}\n",
    "$$"
   ]
  },
  {
   "cell_type": "markdown",
   "metadata": {},
   "source": [
    "Убедитесь, что среднее качество прогнозов увеличилось."
   ]
  },
  {
   "cell_type": "code",
   "execution_count": 8,
   "metadata": {},
   "outputs": [
    {
     "data": {
      "text/plain": [
       "41.20619307898187"
      ]
     },
     "execution_count": 8,
     "metadata": {},
     "output_type": "execute_result"
    }
   ],
   "source": [
    "np.mean(np.abs(test_ys.values - np.array(predicts)))"
   ]
  },
  {
   "cell_type": "markdown",
   "metadata": {},
   "source": [
    "4. Переобучите итоговые модели на данных до мая 2016 включительно, постройте прогнозы на июнь для каждого конца истории от 2016.05.31 23:00 до 2016.06.30 17:00 и запишите все результаты в один файл в уже знакомом вам формате: *geoID, histEndDay, histEndHour, step, y*"
   ]
  },
  {
   "cell_type": "code",
   "execution_count": 9,
   "metadata": {},
   "outputs": [],
   "source": [
    "predicts = np.array([model.predict(june_X) for model in simple_models]).T\n",
    "predicts[predicts < 0] = 0"
   ]
  },
  {
   "cell_type": "code",
   "execution_count": 16,
   "metadata": {},
   "outputs": [],
   "source": [
    "valid_predict = pd.DataFrame(np.array([model.predict(june_X) for model in simple_models]).T, index=valid_ys.index)\n",
    "valid_predict = valid_predict.stack().reset_index()\n",
    "valid_predict['tpep_pickup_datetime'] = pd.to_datetime(valid_predict['tpep_pickup_datetime'])\n",
    "\n",
    "def rewrite_month(date):\n",
    "    return '0' + str(date.month) if date.month < 10 else str(date.month)\n",
    "\n",
    "def rewrite_day(date):\n",
    "    return '0' + str(date.day) if date.day < 10 else str(date.day)\n",
    "\n",
    "reg_date = valid_predict['level_1'].astype(str) + \\\n",
    "        '_' + valid_predict['tpep_pickup_datetime'].dt.year.astype(str) + \\\n",
    "        '-'+ valid_predict['tpep_pickup_datetime'].apply(rewrite_month) + \\\n",
    "        '-' + valid_predict['tpep_pickup_datetime'].apply(rewrite_day) + \\\n",
    "        '_' + valid_predict['tpep_pickup_datetime'].dt.hour.astype(str) + \\\n",
    "        '_' + (valid_predict['level_2'] + 1).astype(str)\n",
    "\n",
    "valid_predict['id'] = reg_date\n",
    "valid_predict = valid_predict[['id', 0]]\n",
    "valid_predict.columns = ['id', 'y']\n",
    "\n",
    "valid_predict.to_csv('to_kaggle_week6.csv', index=False)"
   ]
  },
  {
   "cell_type": "markdown",
   "metadata": {},
   "source": [
    "5. Загрузите полученный файл на kaggle: https://inclass.kaggle.com/c/yellowtaxi. Добавьте в ноутбук ссылку на сабмишн."
   ]
  },
  {
   "cell_type": "markdown",
   "metadata": {},
   "source": [
    "Score: 39.89764"
   ]
  },
  {
   "cell_type": "markdown",
   "metadata": {},
   "source": [
    "6. Загрузите ноутбук в форму"
   ]
  },
  {
   "cell_type": "markdown",
   "metadata": {},
   "source": [
    "Done :3"
   ]
  },
  {
   "cell_type": "code",
   "execution_count": null,
   "metadata": {},
   "outputs": [],
   "source": []
  }
 ],
 "metadata": {
  "kernelspec": {
   "display_name": "Python 3",
   "language": "python",
   "name": "python3"
  },
  "language_info": {
   "codemirror_mode": {
    "name": "ipython",
    "version": 3
   },
   "file_extension": ".py",
   "mimetype": "text/x-python",
   "name": "python",
   "nbconvert_exporter": "python",
   "pygments_lexer": "ipython3",
   "version": "3.7.6"
  }
 },
 "nbformat": 4,
 "nbformat_minor": 4
}
