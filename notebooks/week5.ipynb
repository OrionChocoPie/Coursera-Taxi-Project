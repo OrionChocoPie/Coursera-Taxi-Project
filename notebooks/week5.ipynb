{
 "cells": [
  {
   "cell_type": "code",
   "execution_count": 1,
   "metadata": {},
   "outputs": [],
   "source": [
    "import numpy as np\n",
    "import pandas as pd\n",
    "\n",
    "import matplotlib.pyplot as plt\n",
    "import seaborn as sns\n",
    "%matplotlib inline\n",
    "\n",
    "from sklearn.cluster import MiniBatchKMeans, KMeans\n",
    "from sklearn.metrics import mean_squared_error\n",
    "from sklearn.linear_model import LinearRegression\n",
    "import statsmodels.api as sm\n",
    "\n",
    "import warnings"
   ]
  },
  {
   "cell_type": "code",
   "execution_count": 2,
   "metadata": {},
   "outputs": [],
   "source": [
    "from sklearn.linear_model import LassoCV, Lasso, SGDRegressor"
   ]
  },
  {
   "cell_type": "markdown",
   "metadata": {},
   "source": [
    "Класс моделей ARIMA недостаточно богат для наших данных: с их помощью, например, никак нельзя учесть взаимосвязи между рядами. Это можно сделать с помощью векторной авторегрессии VARIMA, но её питоновская реализация не позволяет использовать регрессионные признаки. Кроме того, авторегрессионный подход не позволяет учитывать, например, взаимодействия между сезонными компонентами. Вы могли заметить, что форма суточных сезонных профилей в будни и выходные немного разная; явно моделировать этот эффект с помощью ARIMA не получится.\n",
    "\n",
    "Нам нужна более сложная модель. Давайте займёмся сведением задачи массового прогнозирования рядов к регрессионной постановке!\n",
    "\n",
    "Вам понадобится много признаков. Некоторые из них у вас уже есть — это:\n",
    "\n",
    "* идентификатор географической зоны\n",
    "* дата и время\n",
    "* количество поездок в периоды, предшествующие прогнозируемому\n",
    "* синусы, косинусы и тренды, которые вы использовали внутри регрессионной компоненты ARIMA\n",
    "* Кроме того, не спешите выбрасывать построенный вами на прошлой неделе прогнозы — из них может получиться хороший признак для регрессии!\n",
    "\n",
    "Вы можете попробовать разные регрессионный модели, но хорошие результаты, скорее всего, дадут такие, которые будут позволять признакам взаимодействовать друг с другом.\n",
    "\n",
    "Поскольку прогноз нужен на 6 часов вперёд, проще всего будет построить 6 независимых регрессионных моделей — одна для прогнозирования $\\hat{y}_{T+1|T}$, другая для $\\hat{y}_{T+2|T}$"
   ]
  },
  {
   "cell_type": "markdown",
   "metadata": {},
   "source": [
    "Чтобы сдать задание, выполните следующую последовательность действий.\n",
    "\n",
    "1. Для каждой из шести задач прогнозирования $\\hat{y}_{T+i|T}, i=1,\\dots,6 $ сформируйте выборки. Откликом будет $y_{T+i}$ при всевозможных значениях $T$, а признаки можно использовать следующие:\n",
    "\n",
    "\n",
    "* идентификатор географической зоны — категориальный\n",
    "* год, месяц, день месяца, день недели, час — эти признаки можно пробовать брать и категориальными, и непрерывными, можно даже и так, и так\n",
    "* синусы, косинусы и тренды, которые вы использовали внутри регрессионной компоненты ARIMA\n",
    "* сами значения прогнозов ARIMA $\\hat{y}_{T+i|T}^{ARIMA}$ \n",
    "* количество поездок из рассматриваемого района в моменты времени $y_T, y_{T-1}, \\dots, y_{T-K}$ (параметр $K$ можно подбирать; попробуйте начать, например, с 6)\n",
    "* количество поездок из рассматриваемого района в моменты времени $y_{T-24}, y_{T-48}, \\dots, y_{T-24*K_d}$ (параметр $K_d$ можно подбирать; попробуйте начать, например, с 2)\n",
    "* суммарное количество поездок из рассматриваемого района за предшествующие полдня, сутки, неделю, месяц\n",
    "\n",
    "Будьте внимательны при создании признаков — все факторы должны быть рассчитаны без использования информации из будущего: при прогнозировании $\\hat{y}_{T+i|T}, i=1,\\dots,6$ вы можете учитывать только значения $y$ до момента времени $T$ включительно."
   ]
  },
  {
   "cell_type": "code",
   "execution_count": 3,
   "metadata": {},
   "outputs": [],
   "source": [
    "data = pd.read_csv('full_time_region.csv', index_col='tpep_pickup_datetime', parse_dates=True)"
   ]
  },
  {
   "cell_type": "code",
   "execution_count": 4,
   "metadata": {},
   "outputs": [],
   "source": [
    "from os import listdir\n",
    "from os.path import isfile, join\n",
    "import re\n",
    "\n",
    "files = [f for f in listdir('.') if isfile(join('.', f)) and f.startswith('time_region')]\n",
    "\n",
    "data = []\n",
    "\n",
    "for file in files:\n",
    "    date = re.split('_|\\.', file)[-2]\n",
    "    time_reg = pd.read_csv('time_region_' + date + '.csv', index_col='tpep_pickup_datetime')\n",
    "    data.append(time_reg)\n",
    "\n",
    "names_of_regions = pd.read_csv('big_regions.csv').astype(str).values.reshape(-1)\n",
    "data = pd.concat(data)\n",
    "data = data[names_of_regions]\n",
    "data.index = pd.to_datetime(data.index)"
   ]
  },
  {
   "cell_type": "code",
   "execution_count": 5,
   "metadata": {},
   "outputs": [
    {
     "data": {
      "text/html": [
       "<div>\n",
       "<style scoped>\n",
       "    .dataframe tbody tr th:only-of-type {\n",
       "        vertical-align: middle;\n",
       "    }\n",
       "\n",
       "    .dataframe tbody tr th {\n",
       "        vertical-align: top;\n",
       "    }\n",
       "\n",
       "    .dataframe thead th {\n",
       "        text-align: right;\n",
       "    }\n",
       "</style>\n",
       "<table border=\"1\" class=\"dataframe\">\n",
       "  <thead>\n",
       "    <tr style=\"text-align: right;\">\n",
       "      <th></th>\n",
       "      <th>1075</th>\n",
       "      <th>1076</th>\n",
       "      <th>1077</th>\n",
       "      <th>1125</th>\n",
       "      <th>1126</th>\n",
       "      <th>1127</th>\n",
       "      <th>1128</th>\n",
       "      <th>1129</th>\n",
       "      <th>1130</th>\n",
       "      <th>1131</th>\n",
       "      <th>...</th>\n",
       "      <th>1630</th>\n",
       "      <th>1684</th>\n",
       "      <th>1733</th>\n",
       "      <th>1734</th>\n",
       "      <th>1783</th>\n",
       "      <th>2068</th>\n",
       "      <th>2069</th>\n",
       "      <th>2118</th>\n",
       "      <th>2119</th>\n",
       "      <th>2168</th>\n",
       "    </tr>\n",
       "    <tr>\n",
       "      <th>tpep_pickup_datetime</th>\n",
       "      <th></th>\n",
       "      <th></th>\n",
       "      <th></th>\n",
       "      <th></th>\n",
       "      <th></th>\n",
       "      <th></th>\n",
       "      <th></th>\n",
       "      <th></th>\n",
       "      <th></th>\n",
       "      <th></th>\n",
       "      <th></th>\n",
       "      <th></th>\n",
       "      <th></th>\n",
       "      <th></th>\n",
       "      <th></th>\n",
       "      <th></th>\n",
       "      <th></th>\n",
       "      <th></th>\n",
       "      <th></th>\n",
       "      <th></th>\n",
       "      <th></th>\n",
       "    </tr>\n",
       "  </thead>\n",
       "  <tbody>\n",
       "    <tr>\n",
       "      <th>2015-05-01 00:00:00</th>\n",
       "      <td>33</td>\n",
       "      <td>82</td>\n",
       "      <td>33</td>\n",
       "      <td>59</td>\n",
       "      <td>183</td>\n",
       "      <td>377</td>\n",
       "      <td>550</td>\n",
       "      <td>720</td>\n",
       "      <td>913</td>\n",
       "      <td>123</td>\n",
       "      <td>...</td>\n",
       "      <td>4</td>\n",
       "      <td>0</td>\n",
       "      <td>6</td>\n",
       "      <td>66</td>\n",
       "      <td>85</td>\n",
       "      <td>142</td>\n",
       "      <td>15</td>\n",
       "      <td>151</td>\n",
       "      <td>31</td>\n",
       "      <td>37</td>\n",
       "    </tr>\n",
       "    <tr>\n",
       "      <th>2015-05-01 01:00:00</th>\n",
       "      <td>18</td>\n",
       "      <td>39</td>\n",
       "      <td>21</td>\n",
       "      <td>59</td>\n",
       "      <td>115</td>\n",
       "      <td>240</td>\n",
       "      <td>310</td>\n",
       "      <td>443</td>\n",
       "      <td>808</td>\n",
       "      <td>89</td>\n",
       "      <td>...</td>\n",
       "      <td>14</td>\n",
       "      <td>0</td>\n",
       "      <td>1</td>\n",
       "      <td>1</td>\n",
       "      <td>2</td>\n",
       "      <td>15</td>\n",
       "      <td>6</td>\n",
       "      <td>90</td>\n",
       "      <td>23</td>\n",
       "      <td>32</td>\n",
       "    </tr>\n",
       "    <tr>\n",
       "      <th>2015-05-01 02:00:00</th>\n",
       "      <td>10</td>\n",
       "      <td>17</td>\n",
       "      <td>14</td>\n",
       "      <td>33</td>\n",
       "      <td>71</td>\n",
       "      <td>156</td>\n",
       "      <td>163</td>\n",
       "      <td>342</td>\n",
       "      <td>767</td>\n",
       "      <td>67</td>\n",
       "      <td>...</td>\n",
       "      <td>10</td>\n",
       "      <td>0</td>\n",
       "      <td>0</td>\n",
       "      <td>1</td>\n",
       "      <td>1</td>\n",
       "      <td>2</td>\n",
       "      <td>0</td>\n",
       "      <td>28</td>\n",
       "      <td>0</td>\n",
       "      <td>3</td>\n",
       "    </tr>\n",
       "    <tr>\n",
       "      <th>2015-05-01 03:00:00</th>\n",
       "      <td>9</td>\n",
       "      <td>10</td>\n",
       "      <td>7</td>\n",
       "      <td>8</td>\n",
       "      <td>44</td>\n",
       "      <td>103</td>\n",
       "      <td>118</td>\n",
       "      <td>207</td>\n",
       "      <td>657</td>\n",
       "      <td>62</td>\n",
       "      <td>...</td>\n",
       "      <td>14</td>\n",
       "      <td>0</td>\n",
       "      <td>0</td>\n",
       "      <td>0</td>\n",
       "      <td>0</td>\n",
       "      <td>0</td>\n",
       "      <td>0</td>\n",
       "      <td>2</td>\n",
       "      <td>1</td>\n",
       "      <td>9</td>\n",
       "    </tr>\n",
       "    <tr>\n",
       "      <th>2015-05-01 04:00:00</th>\n",
       "      <td>5</td>\n",
       "      <td>12</td>\n",
       "      <td>5</td>\n",
       "      <td>20</td>\n",
       "      <td>39</td>\n",
       "      <td>80</td>\n",
       "      <td>88</td>\n",
       "      <td>126</td>\n",
       "      <td>348</td>\n",
       "      <td>37</td>\n",
       "      <td>...</td>\n",
       "      <td>9</td>\n",
       "      <td>0</td>\n",
       "      <td>0</td>\n",
       "      <td>3</td>\n",
       "      <td>4</td>\n",
       "      <td>3</td>\n",
       "      <td>0</td>\n",
       "      <td>14</td>\n",
       "      <td>26</td>\n",
       "      <td>3</td>\n",
       "    </tr>\n",
       "  </tbody>\n",
       "</table>\n",
       "<p>5 rows × 102 columns</p>\n",
       "</div>"
      ],
      "text/plain": [
       "                      1075  1076  1077  1125  1126  1127  1128  1129  1130  \\\n",
       "tpep_pickup_datetime                                                         \n",
       "2015-05-01 00:00:00     33    82    33    59   183   377   550   720   913   \n",
       "2015-05-01 01:00:00     18    39    21    59   115   240   310   443   808   \n",
       "2015-05-01 02:00:00     10    17    14    33    71   156   163   342   767   \n",
       "2015-05-01 03:00:00      9    10     7     8    44   103   118   207   657   \n",
       "2015-05-01 04:00:00      5    12     5    20    39    80    88   126   348   \n",
       "\n",
       "                      1131  ...  1630  1684  1733  1734  1783  2068  2069  \\\n",
       "tpep_pickup_datetime        ...                                             \n",
       "2015-05-01 00:00:00    123  ...     4     0     6    66    85   142    15   \n",
       "2015-05-01 01:00:00     89  ...    14     0     1     1     2    15     6   \n",
       "2015-05-01 02:00:00     67  ...    10     0     0     1     1     2     0   \n",
       "2015-05-01 03:00:00     62  ...    14     0     0     0     0     0     0   \n",
       "2015-05-01 04:00:00     37  ...     9     0     0     3     4     3     0   \n",
       "\n",
       "                      2118  2119  2168  \n",
       "tpep_pickup_datetime                    \n",
       "2015-05-01 00:00:00    151    31    37  \n",
       "2015-05-01 01:00:00     90    23    32  \n",
       "2015-05-01 02:00:00     28     0     3  \n",
       "2015-05-01 03:00:00      2     1     9  \n",
       "2015-05-01 04:00:00     14    26     3  \n",
       "\n",
       "[5 rows x 102 columns]"
      ]
     },
     "execution_count": 5,
     "metadata": {},
     "output_type": "execute_result"
    }
   ],
   "source": [
    "data.head()"
   ]
  },
  {
   "cell_type": "markdown",
   "metadata": {},
   "source": [
    "Подготовим основу для признаков. Тут уже есть регион (но в числовом виде) и $T$ как value"
   ]
  },
  {
   "cell_type": "code",
   "execution_count": 6,
   "metadata": {
    "scrolled": true
   },
   "outputs": [],
   "source": [
    "X = pd.DataFrame(data.stack(), columns=['T'])\n",
    "\n",
    "X['datetime'] = X.reset_index().iloc[:, 0].values\n",
    "X['region'] = X.reset_index().iloc[:, 1].values"
   ]
  },
  {
   "cell_type": "markdown",
   "metadata": {},
   "source": [
    " идентификатор географической зоны — категориальный\n",
    " \n",
    " год, месяц, день месяца, день недели, час — эти признаки можно пробовать брать и категориальными, и непрерывными, можно даже и так, и так"
   ]
  },
  {
   "cell_type": "code",
   "execution_count": 7,
   "metadata": {},
   "outputs": [],
   "source": [
    "X['region'] = X['region'].astype(str)\n",
    "\n",
    "X['year'] = X['datetime'].dt.year\n",
    "X['month'] = X['datetime'].dt.month\n",
    "X['day'] = X['datetime'].dt.day\n",
    "X['dayofweek'] = X['datetime'].dt.dayofweek\n",
    "X['hour'] = X['datetime'].dt.hour\n",
    "\n",
    "X['year_str'] = X['year'].astype(str)\n",
    "X['month_str'] = X['month'].astype(str)\n",
    "X['day_str'] = X['day'].astype(str)\n",
    "X['dayofweek_str'] = X['dayofweek'].astype(str)\n",
    "X['hour_str'] = X['hour'].astype(str)\n",
    "\n",
    "X.drop('datetime', axis=1, inplace=True)"
   ]
  },
  {
   "cell_type": "markdown",
   "metadata": {},
   "source": [
    "количество поездок из рассматриваемого района в моменты времени $y_T, y_{T-1}, \\dots, y_{T-K}$ (параметр $K$ можно подбирать; попробуйте начать, например, с 6)"
   ]
  },
  {
   "cell_type": "code",
   "execution_count": 8,
   "metadata": {},
   "outputs": [],
   "source": [
    "K = 6\n",
    "\n",
    "preTs = data.shift(-1).dropna().stack()\n",
    "preTs = pd.DataFrame(preTs, columns=['T-1'])\n",
    "\n",
    "for i in range(2, K + 1):\n",
    "    preT = data.shift(i).dropna().stack()\n",
    "    preT = pd.DataFrame(preT, columns=[f'T-{i}'])\n",
    "    preTs = preTs.merge(preT, left_index=True, right_index=True)"
   ]
  },
  {
   "cell_type": "markdown",
   "metadata": {},
   "source": [
    "количество поездок из рассматриваемого района в моменты времени $y_{T-24}, y_{T-48}, \\dots, y_{T-24*K_d}$ (параметр $K_d$ можно подбирать; попробуйте начать, например, с 2)"
   ]
  },
  {
   "cell_type": "code",
   "execution_count": 9,
   "metadata": {},
   "outputs": [],
   "source": [
    "Kd = 2\n",
    "\n",
    "preTds = data.shift(-1).dropna().stack()\n",
    "preTds = pd.DataFrame(preTds, columns=['T-24'])\n",
    "\n",
    "for i in range(2, Kd + 1):\n",
    "    preTd = data.shift(i).dropna().stack()\n",
    "    preTd = pd.DataFrame(preTd, columns=[f'T-{24 * i}'])\n",
    "    preTds = preTds.merge(preTd, left_index=True, right_index=True)"
   ]
  },
  {
   "cell_type": "markdown",
   "metadata": {},
   "source": [
    "суммарное количество поездок из рассматриваемого района за предшествующие полдня, сутки, неделю, месяц"
   ]
  },
  {
   "cell_type": "code",
   "execution_count": 10,
   "metadata": {},
   "outputs": [],
   "source": [
    "halfday = data.rolling(6).sum().dropna().stack()\n",
    "halfday = pd.DataFrame(halfday, columns=['halfday_sum'])\n",
    "day = data.rolling(24).sum().dropna().stack()\n",
    "day = pd.DataFrame(day, columns=['day_sum'])\n",
    "week = data.rolling(24 * 7).sum().dropna().stack()\n",
    "week = pd.DataFrame(week, columns=['week_sum'])\n",
    "month = data.rolling(24 * 30).sum().dropna().stack()\n",
    "month = pd.DataFrame(month, columns=['month_sum'])\n",
    "\n",
    "sums = pd.merge(halfday, day, left_index=True, right_index=True)\n",
    "sums = sums.merge(week, left_index=True, right_index=True)\n",
    "sums = sums.merge(month, left_index=True, right_index=True)"
   ]
  },
  {
   "cell_type": "markdown",
   "metadata": {},
   "source": [
    "Объединим имеющиеся признаки"
   ]
  },
  {
   "cell_type": "code",
   "execution_count": 11,
   "metadata": {},
   "outputs": [],
   "source": [
    "X = X.merge(preTs, left_index=True, right_index=True)\n",
    "X = X.merge(preTds, left_index=True, right_index=True)\n",
    "X = X.merge(sums, left_index=True, right_index=True)"
   ]
  },
  {
   "cell_type": "code",
   "execution_count": 12,
   "metadata": {},
   "outputs": [
    {
     "data": {
      "text/html": [
       "<div>\n",
       "<style scoped>\n",
       "    .dataframe tbody tr th:only-of-type {\n",
       "        vertical-align: middle;\n",
       "    }\n",
       "\n",
       "    .dataframe tbody tr th {\n",
       "        vertical-align: top;\n",
       "    }\n",
       "\n",
       "    .dataframe thead th {\n",
       "        text-align: right;\n",
       "    }\n",
       "</style>\n",
       "<table border=\"1\" class=\"dataframe\">\n",
       "  <thead>\n",
       "    <tr style=\"text-align: right;\">\n",
       "      <th></th>\n",
       "      <th></th>\n",
       "      <th>T</th>\n",
       "      <th>region</th>\n",
       "      <th>year</th>\n",
       "      <th>month</th>\n",
       "      <th>day</th>\n",
       "      <th>dayofweek</th>\n",
       "      <th>hour</th>\n",
       "      <th>year_str</th>\n",
       "      <th>month_str</th>\n",
       "      <th>day_str</th>\n",
       "      <th>...</th>\n",
       "      <th>T-3</th>\n",
       "      <th>T-4</th>\n",
       "      <th>T-5</th>\n",
       "      <th>T-6</th>\n",
       "      <th>T-24</th>\n",
       "      <th>T-48</th>\n",
       "      <th>halfday_sum</th>\n",
       "      <th>day_sum</th>\n",
       "      <th>week_sum</th>\n",
       "      <th>month_sum</th>\n",
       "    </tr>\n",
       "    <tr>\n",
       "      <th>tpep_pickup_datetime</th>\n",
       "      <th></th>\n",
       "      <th></th>\n",
       "      <th></th>\n",
       "      <th></th>\n",
       "      <th></th>\n",
       "      <th></th>\n",
       "      <th></th>\n",
       "      <th></th>\n",
       "      <th></th>\n",
       "      <th></th>\n",
       "      <th></th>\n",
       "      <th></th>\n",
       "      <th></th>\n",
       "      <th></th>\n",
       "      <th></th>\n",
       "      <th></th>\n",
       "      <th></th>\n",
       "      <th></th>\n",
       "      <th></th>\n",
       "      <th></th>\n",
       "      <th></th>\n",
       "      <th></th>\n",
       "    </tr>\n",
       "  </thead>\n",
       "  <tbody>\n",
       "    <tr>\n",
       "      <th rowspan=\"5\" valign=\"top\">2015-05-30 23:00:00</th>\n",
       "      <th>1075</th>\n",
       "      <td>91</td>\n",
       "      <td>1075</td>\n",
       "      <td>2015</td>\n",
       "      <td>5</td>\n",
       "      <td>30</td>\n",
       "      <td>5</td>\n",
       "      <td>23</td>\n",
       "      <td>2015</td>\n",
       "      <td>5</td>\n",
       "      <td>30</td>\n",
       "      <td>...</td>\n",
       "      <td>116.0</td>\n",
       "      <td>128.0</td>\n",
       "      <td>161.0</td>\n",
       "      <td>157.0</td>\n",
       "      <td>63.0</td>\n",
       "      <td>109.0</td>\n",
       "      <td>700.0</td>\n",
       "      <td>1980.0</td>\n",
       "      <td>11941.0</td>\n",
       "      <td>50528.0</td>\n",
       "    </tr>\n",
       "    <tr>\n",
       "      <th>1076</th>\n",
       "      <td>189</td>\n",
       "      <td>1076</td>\n",
       "      <td>2015</td>\n",
       "      <td>5</td>\n",
       "      <td>30</td>\n",
       "      <td>5</td>\n",
       "      <td>23</td>\n",
       "      <td>2015</td>\n",
       "      <td>5</td>\n",
       "      <td>30</td>\n",
       "      <td>...</td>\n",
       "      <td>150.0</td>\n",
       "      <td>172.0</td>\n",
       "      <td>250.0</td>\n",
       "      <td>266.0</td>\n",
       "      <td>133.0</td>\n",
       "      <td>179.0</td>\n",
       "      <td>1122.0</td>\n",
       "      <td>3840.0</td>\n",
       "      <td>23396.0</td>\n",
       "      <td>102258.0</td>\n",
       "    </tr>\n",
       "    <tr>\n",
       "      <th>1077</th>\n",
       "      <td>92</td>\n",
       "      <td>1077</td>\n",
       "      <td>2015</td>\n",
       "      <td>5</td>\n",
       "      <td>30</td>\n",
       "      <td>5</td>\n",
       "      <td>23</td>\n",
       "      <td>2015</td>\n",
       "      <td>5</td>\n",
       "      <td>30</td>\n",
       "      <td>...</td>\n",
       "      <td>143.0</td>\n",
       "      <td>144.0</td>\n",
       "      <td>160.0</td>\n",
       "      <td>157.0</td>\n",
       "      <td>62.0</td>\n",
       "      <td>127.0</td>\n",
       "      <td>771.0</td>\n",
       "      <td>2337.0</td>\n",
       "      <td>15230.0</td>\n",
       "      <td>67457.0</td>\n",
       "    </tr>\n",
       "    <tr>\n",
       "      <th>1125</th>\n",
       "      <td>124</td>\n",
       "      <td>1125</td>\n",
       "      <td>2015</td>\n",
       "      <td>5</td>\n",
       "      <td>30</td>\n",
       "      <td>5</td>\n",
       "      <td>23</td>\n",
       "      <td>2015</td>\n",
       "      <td>5</td>\n",
       "      <td>30</td>\n",
       "      <td>...</td>\n",
       "      <td>123.0</td>\n",
       "      <td>106.0</td>\n",
       "      <td>131.0</td>\n",
       "      <td>109.0</td>\n",
       "      <td>93.0</td>\n",
       "      <td>117.0</td>\n",
       "      <td>693.0</td>\n",
       "      <td>1874.0</td>\n",
       "      <td>12156.0</td>\n",
       "      <td>55162.0</td>\n",
       "    </tr>\n",
       "    <tr>\n",
       "      <th>1126</th>\n",
       "      <td>366</td>\n",
       "      <td>1126</td>\n",
       "      <td>2015</td>\n",
       "      <td>5</td>\n",
       "      <td>30</td>\n",
       "      <td>5</td>\n",
       "      <td>23</td>\n",
       "      <td>2015</td>\n",
       "      <td>5</td>\n",
       "      <td>30</td>\n",
       "      <td>...</td>\n",
       "      <td>386.0</td>\n",
       "      <td>352.0</td>\n",
       "      <td>368.0</td>\n",
       "      <td>318.0</td>\n",
       "      <td>278.0</td>\n",
       "      <td>327.0</td>\n",
       "      <td>2183.0</td>\n",
       "      <td>5887.0</td>\n",
       "      <td>33189.0</td>\n",
       "      <td>148485.0</td>\n",
       "    </tr>\n",
       "  </tbody>\n",
       "</table>\n",
       "<p>5 rows × 24 columns</p>\n",
       "</div>"
      ],
      "text/plain": [
       "                             T region  year  month  day  dayofweek  hour  \\\n",
       "tpep_pickup_datetime                                                       \n",
       "2015-05-30 23:00:00  1075   91   1075  2015      5   30          5    23   \n",
       "                     1076  189   1076  2015      5   30          5    23   \n",
       "                     1077   92   1077  2015      5   30          5    23   \n",
       "                     1125  124   1125  2015      5   30          5    23   \n",
       "                     1126  366   1126  2015      5   30          5    23   \n",
       "\n",
       "                          year_str month_str day_str  ...    T-3    T-4  \\\n",
       "tpep_pickup_datetime                                  ...                 \n",
       "2015-05-30 23:00:00  1075     2015         5      30  ...  116.0  128.0   \n",
       "                     1076     2015         5      30  ...  150.0  172.0   \n",
       "                     1077     2015         5      30  ...  143.0  144.0   \n",
       "                     1125     2015         5      30  ...  123.0  106.0   \n",
       "                     1126     2015         5      30  ...  386.0  352.0   \n",
       "\n",
       "                             T-5    T-6   T-24   T-48  halfday_sum  day_sum  \\\n",
       "tpep_pickup_datetime                                                          \n",
       "2015-05-30 23:00:00  1075  161.0  157.0   63.0  109.0        700.0   1980.0   \n",
       "                     1076  250.0  266.0  133.0  179.0       1122.0   3840.0   \n",
       "                     1077  160.0  157.0   62.0  127.0        771.0   2337.0   \n",
       "                     1125  131.0  109.0   93.0  117.0        693.0   1874.0   \n",
       "                     1126  368.0  318.0  278.0  327.0       2183.0   5887.0   \n",
       "\n",
       "                           week_sum  month_sum  \n",
       "tpep_pickup_datetime                            \n",
       "2015-05-30 23:00:00  1075   11941.0    50528.0  \n",
       "                     1076   23396.0   102258.0  \n",
       "                     1077   15230.0    67457.0  \n",
       "                     1125   12156.0    55162.0  \n",
       "                     1126   33189.0   148485.0  \n",
       "\n",
       "[5 rows x 24 columns]"
      ]
     },
     "execution_count": 12,
     "metadata": {},
     "output_type": "execute_result"
    }
   ],
   "source": [
    "X.head()"
   ]
  },
  {
   "cell_type": "markdown",
   "metadata": {},
   "source": [
    "синусы, косинусы и тренды, которые вы использовали внутри регрессионной компоненты ARIMA"
   ]
  },
  {
   "cell_type": "code",
   "execution_count": 13,
   "metadata": {},
   "outputs": [],
   "source": [
    "time = pd.DataFrame(index=X.index.levels[0])\n",
    "number = 250\n",
    "row = np.arange(1, X.index.levels[0].shape[0] + 1)\n",
    "for i in range(1, number+1):\n",
    "    time['s_year_'+str(i)] = np.sin(row*2*np.pi*i/8766)\n",
    "    time['c_year_'+str(i)] = np.cos(row*2*np.pi*i/8766)\n",
    "    time['s_week_'+str(i)] = np.sin(row*2*np.pi*i/168)\n",
    "    time['c_week_'+str(i)] = np.cos(row*2*np.pi*i/168)"
   ]
  },
  {
   "cell_type": "markdown",
   "metadata": {},
   "source": [
    "Соберем будущие значения на шесть часов вперед"
   ]
  },
  {
   "cell_type": "code",
   "execution_count": 14,
   "metadata": {},
   "outputs": [],
   "source": [
    "ys = data.shift(-1).dropna().stack()\n",
    "ys = pd.DataFrame(ys, columns=['T+1'])\n",
    "\n",
    "for i in range(2, 7):\n",
    "    y = data.shift(-i).dropna().stack()\n",
    "    y = pd.DataFrame(y, columns=[f'T+{i}'])\n",
    "    ys = ys.merge(y, left_index=True, right_index=True)"
   ]
  },
  {
   "cell_type": "markdown",
   "metadata": {},
   "source": [
    "2. Разбейте каждую из шести выборок на три части:\n",
    "\n",
    "\n",
    "* обучающая, на которой будут настраиваться параметры моделей — всё до май 2016\n",
    "* тестовая, на которой вы будете подбирать значения гиперпараметров — май 2016\n",
    "* итоговая, которая не будет использоваться при настройке моделей вообще — июнь 2016"
   ]
  },
  {
   "cell_type": "code",
   "execution_count": 15,
   "metadata": {},
   "outputs": [],
   "source": [
    "april_X = X.loc[X.index.isin(X.index.levels[0][X.index.levels[0] < '2016-05-01 00:00:00'], level=0), :]\n",
    "may_X = X.loc[X.index.isin(\n",
    "    (X.index.levels[0][X.index.levels[0] >= '2016-05-01 00:00:00']) &\n",
    "    (X.index.levels[0][X.index.levels[0] < '2016-06-01 00:00:00']),\n",
    "    level=0), :]\n",
    "june_X = X.loc[X.index.isin(\n",
    "    (X.index.levels[0][X.index.levels[0] >= '2016-05-31 23:00:00']) &\n",
    "    (X.index.levels[0][X.index.levels[0] <= '2016-06-30 17:00:00']),\n",
    "    level=0), :]"
   ]
  },
  {
   "cell_type": "code",
   "execution_count": 16,
   "metadata": {
    "scrolled": false
   },
   "outputs": [],
   "source": [
    "april_time = time.loc[time.index[time.index < '2016-05-01 00:00:00'], :]\n",
    "may_time = time.loc[time.index[\n",
    "    (time.index >= '2016-05-01 00:00:00') &\n",
    "    (time.index < '2016-06-01 00:00:00')\n",
    "], :]\n",
    "june_time = time.loc[time.index[\n",
    "    (time.index >= '2016-05-31 23:00:00') &\n",
    "    (time.index <= '2016-06-30 17:00:00')\n",
    "], :]"
   ]
  },
  {
   "cell_type": "markdown",
   "metadata": {},
   "source": [
    "Очень удобно в пандасе, что при мерджинге даже мультииндексы обрабатываются автоматически))"
   ]
  },
  {
   "cell_type": "code",
   "execution_count": 17,
   "metadata": {},
   "outputs": [],
   "source": [
    "train = april_X.merge(april_time, left_index=True, right_index=True)\n",
    "test = may_X.merge(may_time, left_index=True, right_index=True)\n",
    "valid = june_X.merge(june_time, left_index=True, right_index=True)"
   ]
  },
  {
   "cell_type": "code",
   "execution_count": 18,
   "metadata": {},
   "outputs": [],
   "source": [
    "ys = ys.loc[ys.index.isin(ys.index.levels[0][ys.index.levels[0] >= april_X.index.levels[0].min()], level=0), :]\n",
    "train_ys = ys.loc[ys.index.isin(ys.index.levels[0][ys.index.levels[0] < '2016-05-01 00:00:00'], level=0), :]\n",
    "test_ys = ys.loc[ys.index.isin(\n",
    "    (ys.index.levels[0][ys.index.levels[0] >= '2016-05-01 00:00:00']) &\n",
    "    (ys.index.levels[0][ys.index.levels[0] < '2016-06-01 00:00:00']),\n",
    "    level=0), :]\n",
    "valid_ys = ys.loc[ys.index.isin(\n",
    "    (ys.index.levels[0][ys.index.levels[0] >= '2016-05-31 23:00:00']) &\n",
    "    (ys.index.levels[0][ys.index.levels[0] <= '2016-06-30 17:00:00']),\n",
    "    level=0), :]"
   ]
  },
  {
   "cell_type": "markdown",
   "metadata": {},
   "source": [
    "3. Выберите вашу любимую регрессионную модель и настройте её на каждом из шести наборов данных, подбирая гиперпараметры на мае 2016. Желательно, чтобы модель:\n",
    "\n",
    "\n",
    "* допускала попарные взаимодействия между признаками\n",
    "* была устойчивой к избыточному количеству признаков (например, использовала регуляризаторы)"
   ]
  },
  {
   "cell_type": "markdown",
   "metadata": {},
   "source": [
    "В ходе выполнения заданий за эту неделю, я столкнулся с серьезной проблемой слишком больших данных. Поэтому как простой вариант, я взял только нагенерированные признаки и на их основе Lasso построил. Даже с таким подходом ошибка уменьшилась"
   ]
  },
  {
   "cell_type": "code",
   "execution_count": 19,
   "metadata": {
    "scrolled": true
   },
   "outputs": [
    {
     "name": "stderr",
     "output_type": "stream",
     "text": [
      "C:\\ProgramData\\Anaconda3\\lib\\site-packages\\sklearn\\linear_model\\_coordinate_descent.py:476: ConvergenceWarning: Objective did not converge. You might want to increase the number of iterations. Duality gap: 1057255825.5962633, tolerance: 5153865.000252157\n",
      "  positive)\n",
      "C:\\ProgramData\\Anaconda3\\lib\\site-packages\\sklearn\\linear_model\\_coordinate_descent.py:476: ConvergenceWarning: Objective did not converge. You might want to increase the number of iterations. Duality gap: 2633419553.7985444, tolerance: 5153742.5031987345\n",
      "  positive)\n",
      "C:\\ProgramData\\Anaconda3\\lib\\site-packages\\sklearn\\linear_model\\_coordinate_descent.py:476: ConvergenceWarning: Objective did not converge. You might want to increase the number of iterations. Duality gap: 2874149380.6548967, tolerance: 5153328.431354502\n",
      "  positive)\n",
      "C:\\ProgramData\\Anaconda3\\lib\\site-packages\\sklearn\\linear_model\\_coordinate_descent.py:476: ConvergenceWarning: Objective did not converge. You might want to increase the number of iterations. Duality gap: 4868950962.064877, tolerance: 5152950.358937163\n",
      "  positive)\n",
      "C:\\ProgramData\\Anaconda3\\lib\\site-packages\\sklearn\\linear_model\\_coordinate_descent.py:476: ConvergenceWarning: Objective did not converge. You might want to increase the number of iterations. Duality gap: 5471502712.993998, tolerance: 5152866.668998184\n",
      "  positive)\n"
     ]
    }
   ],
   "source": [
    "models = [Lasso().fit(april_X, train_ys[f'T+{i}'].values) for i in range(1, 7)]"
   ]
  },
  {
   "cell_type": "code",
   "execution_count": 20,
   "metadata": {},
   "outputs": [],
   "source": [
    "# models = [Lasso().fit(april_time, train_ys[f'T+{i}'].values) for i in range(1, 7)]"
   ]
  },
  {
   "cell_type": "markdown",
   "metadata": {},
   "source": [
    "4. Выбранными моделями постройте для каждой географической зоны и каждого конца истории от 2016.04.30 23:00 до 2016.05.31 17:00 прогнозы на 6 часов вперёд; посчитайте в ноутбуке ошибку прогноза по следующему функционалу:"
   ]
  },
  {
   "cell_type": "markdown",
   "metadata": {},
   "source": [
    "$$\n",
    "Q_{may}=\\frac{1}{R*739*6}\\sum_{r=1}^{R}{\\sum_{T=2016.04.30\\ 23:00}^{2016.05.31\\ 17:00}{\\sum_{i=1}^{6}{|\\hat{y}^r_{T|T+i} - y^r_{T+i}|}}}\n",
    "$$"
   ]
  },
  {
   "cell_type": "markdown",
   "metadata": {},
   "source": [
    "Убедитесь, что ошибка полученных прогнозов, рассчитанная согласно функционалу $Q$, определённому на прошлой неделе, уменьшилась по сравнению с той, которую вы получили методом индивидуального применения моделей ARIMA. Если этого не произошло, попробуйте улучшить ваши модели."
   ]
  },
  {
   "cell_type": "code",
   "execution_count": 21,
   "metadata": {},
   "outputs": [],
   "source": [
    "predicts = np.array([model.predict(may_X) for model in models]).T\n",
    "predicts[predicts < 0] = 0"
   ]
  },
  {
   "cell_type": "code",
   "execution_count": 22,
   "metadata": {},
   "outputs": [
    {
     "data": {
      "text/plain": [
       "41.20619307898187"
      ]
     },
     "execution_count": 22,
     "metadata": {},
     "output_type": "execute_result"
    }
   ],
   "source": [
    "np.mean(np.abs(test_ys.values - np.array(predicts)))"
   ]
  },
  {
   "cell_type": "markdown",
   "metadata": {},
   "source": [
    "5. Итоговыми моделями постройте прогнозы для каждого конца истории от 2016.05.31 23:00 до 2016.06.30 17:00 и запишите все результаты в один файл в формате *geoID, histEndDay, histEndHour, step, y*. Здесь geoID — идентификатор зоны, histEndDay — день конца истории в формате id,y, где столбец id состоит из склеенных через подчёркивание идентификатора географической зоны, даты конца истории, часа конца истории и номера отсчёта, на который делается предсказание (1-6); столбец y — ваш прогноз."
   ]
  },
  {
   "cell_type": "code",
   "execution_count": 23,
   "metadata": {},
   "outputs": [],
   "source": [
    "valid_predict = pd.DataFrame(np.array([model.predict(june_X) for model in models]).T, index=valid_ys.index)\n",
    "valid_predict = valid_predict.stack().reset_index()"
   ]
  },
  {
   "cell_type": "code",
   "execution_count": 24,
   "metadata": {},
   "outputs": [],
   "source": [
    "def rewrite_month(date):\n",
    "    return '0' + str(date.month) if date.month < 10 else str(date.month)\n",
    "\n",
    "def rewrite_day(date):\n",
    "    return '0' + str(date.day) if date.day < 10 else str(date.day)"
   ]
  },
  {
   "cell_type": "code",
   "execution_count": 25,
   "metadata": {},
   "outputs": [],
   "source": [
    "reg_date = valid_predict['level_1'] + \\\n",
    "        '_' + valid_predict['tpep_pickup_datetime'].dt.year.astype(str) + \\\n",
    "        '-'+ valid_predict['tpep_pickup_datetime'].apply(rewrite_month) + \\\n",
    "        '-' + valid_predict['tpep_pickup_datetime'].apply(rewrite_day) + \\\n",
    "        '_' + valid_predict['tpep_pickup_datetime'].dt.hour.astype(str) + \\\n",
    "        '_' + (valid_predict['level_2'] + 1).astype(str)"
   ]
  },
  {
   "cell_type": "code",
   "execution_count": 26,
   "metadata": {},
   "outputs": [],
   "source": [
    "valid_predict['id'] = reg_date\n",
    "valid_predict = valid_predict[['id', 0]]\n",
    "valid_predict.columns = ['id', 'y']"
   ]
  },
  {
   "cell_type": "code",
   "execution_count": 27,
   "metadata": {},
   "outputs": [
    {
     "data": {
      "text/html": [
       "<div>\n",
       "<style scoped>\n",
       "    .dataframe tbody tr th:only-of-type {\n",
       "        vertical-align: middle;\n",
       "    }\n",
       "\n",
       "    .dataframe tbody tr th {\n",
       "        vertical-align: top;\n",
       "    }\n",
       "\n",
       "    .dataframe thead th {\n",
       "        text-align: right;\n",
       "    }\n",
       "</style>\n",
       "<table border=\"1\" class=\"dataframe\">\n",
       "  <thead>\n",
       "    <tr style=\"text-align: right;\">\n",
       "      <th></th>\n",
       "      <th>id</th>\n",
       "      <th>y</th>\n",
       "    </tr>\n",
       "  </thead>\n",
       "  <tbody>\n",
       "    <tr>\n",
       "      <th>0</th>\n",
       "      <td>1075_2016-05-31_23_1</td>\n",
       "      <td>24.808698</td>\n",
       "    </tr>\n",
       "    <tr>\n",
       "      <th>1</th>\n",
       "      <td>1075_2016-05-31_23_2</td>\n",
       "      <td>28.865819</td>\n",
       "    </tr>\n",
       "    <tr>\n",
       "      <th>2</th>\n",
       "      <td>1075_2016-05-31_23_3</td>\n",
       "      <td>34.408516</td>\n",
       "    </tr>\n",
       "    <tr>\n",
       "      <th>3</th>\n",
       "      <td>1075_2016-05-31_23_4</td>\n",
       "      <td>37.781713</td>\n",
       "    </tr>\n",
       "    <tr>\n",
       "      <th>4</th>\n",
       "      <td>1075_2016-05-31_23_5</td>\n",
       "      <td>39.797501</td>\n",
       "    </tr>\n",
       "    <tr>\n",
       "      <th>...</th>\n",
       "      <td>...</td>\n",
       "      <td>...</td>\n",
       "    </tr>\n",
       "    <tr>\n",
       "      <th>437575</th>\n",
       "      <td>2168_2016-06-30_17_2</td>\n",
       "      <td>4.099673</td>\n",
       "    </tr>\n",
       "    <tr>\n",
       "      <th>437576</th>\n",
       "      <td>2168_2016-06-30_17_3</td>\n",
       "      <td>6.414224</td>\n",
       "    </tr>\n",
       "    <tr>\n",
       "      <th>437577</th>\n",
       "      <td>2168_2016-06-30_17_4</td>\n",
       "      <td>6.070449</td>\n",
       "    </tr>\n",
       "    <tr>\n",
       "      <th>437578</th>\n",
       "      <td>2168_2016-06-30_17_5</td>\n",
       "      <td>3.131153</td>\n",
       "    </tr>\n",
       "    <tr>\n",
       "      <th>437579</th>\n",
       "      <td>2168_2016-06-30_17_6</td>\n",
       "      <td>-2.176978</td>\n",
       "    </tr>\n",
       "  </tbody>\n",
       "</table>\n",
       "<p>437580 rows × 2 columns</p>\n",
       "</div>"
      ],
      "text/plain": [
       "                          id          y\n",
       "0       1075_2016-05-31_23_1  24.808698\n",
       "1       1075_2016-05-31_23_2  28.865819\n",
       "2       1075_2016-05-31_23_3  34.408516\n",
       "3       1075_2016-05-31_23_4  37.781713\n",
       "4       1075_2016-05-31_23_5  39.797501\n",
       "...                      ...        ...\n",
       "437575  2168_2016-06-30_17_2   4.099673\n",
       "437576  2168_2016-06-30_17_3   6.414224\n",
       "437577  2168_2016-06-30_17_4   6.070449\n",
       "437578  2168_2016-06-30_17_5   3.131153\n",
       "437579  2168_2016-06-30_17_6  -2.176978\n",
       "\n",
       "[437580 rows x 2 columns]"
      ]
     },
     "execution_count": 27,
     "metadata": {},
     "output_type": "execute_result"
    }
   ],
   "source": [
    "valid_predict"
   ]
  },
  {
   "cell_type": "code",
   "execution_count": 28,
   "metadata": {},
   "outputs": [],
   "source": [
    "valid_predict.to_csv('to_kaggle_week5.csv', index=False)"
   ]
  },
  {
   "cell_type": "markdown",
   "metadata": {},
   "source": [
    "6. Загрузите полученный файл на kaggle: https://inclass.kaggle.com/c/yellowtaxi. Добавьте в ноутбук ссылку на сабмишн."
   ]
  },
  {
   "cell_type": "markdown",
   "metadata": {},
   "source": [
    "**Score: 39.89764**"
   ]
  },
  {
   "cell_type": "markdown",
   "metadata": {},
   "source": [
    "7. Загрузите ноутбук в форму."
   ]
  },
  {
   "cell_type": "markdown",
   "metadata": {},
   "source": [
    "Done ^)"
   ]
  },
  {
   "cell_type": "code",
   "execution_count": 32,
   "metadata": {},
   "outputs": [],
   "source": [
    "april_X.to_csv('april_X.csv')\n",
    "may_X.to_csv('may_X.csv')\n",
    "june_X.to_csv('june_X.csv')\n",
    "\n",
    "train_ys.to_csv('train_ys.csv')\n",
    "test_ys.to_csv('test_ys.csv')\n",
    "valid_ys.to_csv('valid_ys.csv')"
   ]
  },
  {
   "cell_type": "code",
   "execution_count": null,
   "metadata": {},
   "outputs": [],
   "source": []
  }
 ],
 "metadata": {
  "kernelspec": {
   "display_name": "Python 3",
   "language": "python",
   "name": "python3"
  },
  "language_info": {
   "codemirror_mode": {
    "name": "ipython",
    "version": 3
   },
   "file_extension": ".py",
   "mimetype": "text/x-python",
   "name": "python",
   "nbconvert_exporter": "python",
   "pygments_lexer": "ipython3",
   "version": "3.7.6"
  }
 },
 "nbformat": 4,
 "nbformat_minor": 4
}
