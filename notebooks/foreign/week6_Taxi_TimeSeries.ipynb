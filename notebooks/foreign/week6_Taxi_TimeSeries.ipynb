{
 "cells": [
  {
   "cell_type": "markdown",
   "metadata": {},
   "source": [
    "# [Жёлтое такси в Нью-Йорке](https://www.coursera.org/learn/data-analysis-project/supplement/NuH2K/zhioltoie-taksi-v-n-iu-iorkie)"
   ]
  },
  {
   "cell_type": "markdown",
   "metadata": {},
   "source": [
    "Нью-Йоркская комиссия по такси и лимузинам (TLC) предоставляет подробные анонимизированные данные о поездках клиентов с 2009 года. Машины, выкрашенные жёлтым, имеют право брать пассажиров на улицах в любом из пяти боро города.\n",
    "\n",
    "Сырые данные о поездках в жёлтом такси можно найти на сайте TLC: www.nyc.gov/html/tlc/html/about/trip_record_data.shtml Эти данные разбиты на файлы по месяцам. В каждом из файлов содержится следующая информация о поездках:\n",
    "* VendorID провайдер данных (одна из двух категорий)\n",
    "* tpep_pickup_datetime - время начала поездки\n",
    "* tpep_dropoff_datetime - время окончания поездки\n",
    "* passenger_count - количество пассажиров\n",
    "* trip_distance - расстояние по счётчику\n",
    "* pickup_longitude &\tpickup_latitude - долгота и широта точки начала поездки\n",
    "* dropoff_longitude\t& dropoff_latitude - долгота и широта точки окончания поездки\n",
    "* RatecodeID - тип тарифа (одна из шести категорий)\n",
    "* store_and_fwd_flag\t- бинарный флаг, показывающий, были ли данные о поездке получены немедленно после её окончания, или какое-то время хранились в памяти автомобиля\n",
    "* payment_type - способ оплаты (одна из шести категорий)\n",
    "* fare_amount - стоимость поездки по счётчику\n",
    "* extra - доплата за поездки в пиковые часы и ночью\n",
    "* mta_tax - налог на счётчик\n",
    "* tip_amount - размер чаевых\n",
    "* tolls_amount - доплата за проезд по платным дорогам\n",
    "* improvement_surcharge\t- доплата за проезд, взимаемая с каждой поездки с января 2015\n",
    "* total_amount - общая стоимость поездки\n",
    "\n",
    "Подробнее: http://www.nyc.gov/html/tlc/downloads/pdf/data_dictionary_trip_records_yellow.pdf"
   ]
  },
  {
   "cell_type": "markdown",
   "metadata": {},
   "source": [
    "Задача проекта — научиться предсказывать количество поездок в ближайшие часы в каждом районе Нью-Йорка; для простоты мы определим прямоугольные районы. Для того, чтобы её решить, сырые данные необходимо агрегировать по часам и районам. Агрегированные данные будут представлять собой почасовые временные ряды с количествами поездок из каждого района.\n",
    "\n",
    "Задачу прогнозирования таких рядов можно решать с помощью авторегрессионных моделей, прогнозируя каждый ряд независимо. Ряды явно имеют сложную сезонность — суточную, недельную и годовую, поэтому для их моделирования понадобится использовать модель ARIMA с дополнительной регрессией на внешние признаки.\n",
    "\n",
    "Чтобы улучшить такую модель, можно попытаться учесть:\n",
    "\n",
    "* взаимосвязи между рядами\n",
    "* дополнительные параметры поездок, которые можно посчитать по исходным данным\n",
    "* внешние календарные и географические признаки"
   ]
  },
  {
   "cell_type": "markdown",
   "metadata": {},
   "source": [
    "В ходе выполнения проекта вы научитесь:\n",
    "\n",
    "* работать с геоданными\n",
    "* прогнозировать временные ряды сложной структуры\n",
    "* строить и настраивать регрессионные модели, делающие совместные предсказания для большого количества взаимосвязанных рядов\n",
    "\n",
    "Похожие задачи возникают на практике, если вам необходимо спрогнозировать продажи большого количества товаров в большом количестве магазинов, объём снятия денег в сети банкоматов, посещаемость разных страниц сайта и т.д.\n",
    "\n",
    "В ходе выполнения проекта у вас будет свобода выбора хода решения, используемых средств анализа, библиотек и моделей. Также обратите внимание, что для его успешного выполнения вам нужно будет скачать и обработать от 10 до 200 гигабайт сырых данных."
   ]
  },
  {
   "cell_type": "code",
   "execution_count": 1,
   "metadata": {},
   "outputs": [
    {
     "name": "stdout",
     "output_type": "stream",
     "text": [
      "Populating the interactive namespace from numpy and matplotlib\n"
     ]
    }
   ],
   "source": [
    "%pylab inline\n",
    "\n",
    "from datetime import datetime\n",
    "from datetime import timedelta\n",
    "from matplotlib import pyplot as plt\n",
    "import numpy as np\n",
    "import pandas as pd\n",
    "from scipy import stats\n",
    "\n",
    "from sklearn.linear_model import Ridge\n",
    "from sklearn.model_selection import GridSearchCV\n",
    "from sklearn.metrics import mean_squared_error\n",
    "from itertools import product\n",
    "\n",
    "import holidays"
   ]
  },
  {
   "cell_type": "markdown",
   "metadata": {},
   "source": [
    "---"
   ]
  },
  {
   "cell_type": "markdown",
   "metadata": {},
   "source": [
    "# [Week 6 - Дополнительные признаки](https://www.coursera.org/learn/data-analysis-project/peer/gtNEG/dopolnitiel-nyie-priznaki)"
   ]
  },
  {
   "cell_type": "markdown",
   "metadata": {},
   "source": [
    "На этой неделе вам предстоит попробовать добавить в вашу регрессионную модель дополнительные признаки.\n",
    "\n",
    "Во-первых, для прогнозирования можно использовать информацию, содержащуюся в сырых данных:\n",
    "* средняя длительность поездок\n",
    "* среднее количество пассажиров\n",
    "* среднее расстояние по счётчику\n",
    "* доли географических зон, в которые совершаются поездки\n",
    "* доли поездок, совершаемых по тарифам каждого из типов\n",
    "* доли способов оплаты поездок\n",
    "* средняя стоимость поездок\n",
    "* доли провайдеров данных\n",
    "\n",
    "Все эти признаки можно использовать только с задержкой, то есть, при прогнозировании эти признаки должны быть рассчитаны по данным не позднее момента времени T. Каждый из этих признаков можно использовать по-разному: как сырые значения за последние несколько часов, так и средние за последний день, неделю, месяц и т. д.\n",
    "\n",
    "Во-вторых, чтобы улучшить качество прогнозов в аномальные периоды, вы можете найти информацию о потенциально влияющих на количество поездок событиях, таких, как государственные праздники. Проанализируйте, как именно поведение пассажиров меняется во время этих событий, и создайте признаки, отражающие эти изменения. Как показывает наш опыт, правильный учёт праздничных дней часто позволяет существенно уменьшить среднюю ошибку прогноза.\n",
    "\n",
    "В-третьих, можно использовать признаки, связанные с географией. Например, скорее всего, суммарное количество поездок, совершаемых из географической зоны, пропорционально площади этой зоны. Для зон, прилегающих к аэропорту, может быть характерен специфический паттерн дневной сезонности, связанный с тем, что спрос на такси будет повышаться в те часы, когда общественный транспорт перестаёт работать. В деловом центре максимальное количество поездок будет приходиться на начало и окончание рабочего дня, на Бродвее — на время начала и окончания спектаклей. Все эти идеи не обязательно верны, мы приводим их здесь только для того, чтобы продемонстрировать принцип рассуждений. Ещё один пример географического признака: можно попробовать добавить идентификатор боро, который можно найти в файле https://s3.amazonaws.com/nyc-tlc/misc/taxi+_zone_lookup.csv. Кроме того, нам кажется перспективным использование в качестве фактора количества поездок, совершённых за прошлый час/день и т. д. из соседних географических зон, или количества поездок, совершённых за прошлый час/день в текущую географическую зону.\n",
    "\n",
    "Много примеров других признаков, которые можно использовать при регрессионном прогнозировании, можно найти в [лекции](https://habr.com/ru/company/yandex/blog/316232/) Вадима Стрижова."
   ]
  },
  {
   "cell_type": "markdown",
   "metadata": {},
   "source": [
    "Чтобы сдать задание, выполните следующую последовательность действий.\n",
    "\n",
    "1. Загрузите обучающие выборки прошлой недели, перечислите используемые в моделях признаки и посчитайте Q_may — качество прогнозов моделей, настроенных на данных до апреля 2016, в мае 2016."
   ]
  },
  {
   "cell_type": "markdown",
   "metadata": {},
   "source": [
    "###### Загружаем данные с прошлой недели"
   ]
  },
  {
   "cell_type": "code",
   "execution_count": 2,
   "metadata": {},
   "outputs": [],
   "source": [
    "week5_X = pd.read_csv('data/df_regions/week5_X.csv', index_col=[0],  header=[0,1,2])\n",
    "\n",
    "week5_may = pd.read_csv('data/df_regions/week5_may.csv', index_col=[0],  header=[0,1,2])\n",
    "week5_may.index = pd.to_datetime(week5_may.index, format='%Y-%m-%d %H:%M:%S')\n",
    "\n",
    "week5_june = pd.read_csv('data/df_regions/week5_june.csv', index_col=[0],  header=[0,1,2])\n",
    "week5_june.index = pd.to_datetime(week5_june.index, format='%Y-%m-%d %H:%M:%S')"
   ]
  },
  {
   "cell_type": "markdown",
   "metadata": {},
   "source": [
    "###### Использовались следующие признаки:\n",
    "* календарные - год, месяц, день недели, час;\n",
    "* синусы и косинусы по периодами годовой и недельной сезонности;\n",
    "* количество поездок из рассматриваемого района в моменты времени $y_T, y_{T-1}...y_{T-K}$;\n",
    "* количество поездок из рассматриваемого района в моменты времени $y_{T-24}, y_{T-48}...y_{T-24*K_d}$;    \n",
    "* суммарное количество поездок из рассматриваемого района за предшествующие полдня, сутки, неделю."
   ]
  },
  {
   "cell_type": "markdown",
   "metadata": {},
   "source": [
    "###### Расчитывает ошибку качества прогнозов моделей"
   ]
  },
  {
   "cell_type": "code",
   "execution_count": 3,
   "metadata": {},
   "outputs": [],
   "source": [
    "def error(df):\n",
    "    df_error = df.xs('error', level='y', axis=1)\n",
    "    regions = np.unique((df.columns.get_level_values(level='region'))).shape[0]\n",
    "    delta = np.unique((df.columns.get_level_values(level='delta'))).shape[0]\n",
    "    return df_error.sum().sum() / (regions * df_error.shape[0] * delta)"
   ]
  },
  {
   "cell_type": "code",
   "execution_count": 4,
   "metadata": {},
   "outputs": [
    {
     "name": "stdout",
     "output_type": "stream",
     "text": [
      "Ошибка качества прогнозов моделей за май составляет  22.827361210609638\n",
      "Wall time: 31 ms\n"
     ]
    }
   ],
   "source": [
    "%%time\n",
    "print('Ошибка качества прогнозов моделей за май составляет ', error(week5_may))"
   ]
  },
  {
   "cell_type": "code",
   "execution_count": 5,
   "metadata": {},
   "outputs": [
    {
     "name": "stdout",
     "output_type": "stream",
     "text": [
      "Ошибка качества прогнозов моделей за июнь составляет  20.99610128433658\n",
      "Wall time: 36 ms\n"
     ]
    }
   ],
   "source": [
    "%%time\n",
    "print('Ошибка качества прогнозов моделей за июнь составляет ', error(week5_june))"
   ]
  },
  {
   "cell_type": "markdown",
   "metadata": {},
   "source": [
    "###### Оптимизация параметров"
   ]
  },
  {
   "cell_type": "code",
   "execution_count": 30,
   "metadata": {},
   "outputs": [],
   "source": [
    "def features_predict(df, param):\n",
    "    df_regions = pd.DataFrame(index=df.index)\n",
    "    N = param[0]\n",
    "    K = param[1]\n",
    "    Kd = param[2]\n",
    "    \n",
    "    ## Признаки общие для всех регионов\n",
    "    # календарные признаки\n",
    "    df_regions[('for_all', 'X', 'year')] = df.index.year\n",
    "    df_regions[('for_all', 'X', 'month')] = df.index.month\n",
    "    df_regions[('for_all', 'X', 'day')] = df.index.day\n",
    "    df_regions[('for_all', 'X', 'weekday')] = df.index.weekday\n",
    "    df_regions[('for_all', 'X', 'hour')] = df.index.hour\n",
    "    \n",
    "    row = np.arange(1, df.shape[0]+1)\n",
    "    for i in range(1, N+1):\n",
    "        # годовая сезонность\n",
    "        df_regions[('for_all', 'X', 'y_c_'+str(i))] = np.cos(row*2*np.pi*i/8766)\n",
    "        df_regions[('for_all', 'X', 'y_s_'+str(i))] = np.sin(row*2*np.pi*i/8766)\n",
    "        # недельная сезонность\n",
    "        df_regions[('for_all', 'X', 'w_c_'+str(i))] = np.cos(row*2*np.pi*i/168)\n",
    "        df_regions[('for_all', 'X', 'w_s_'+str(i))] = np.sin(row*2*np.pi*i/168)\n",
    "        # дневная сезонность\n",
    "        df_regions[('for_all', 'X', 'd_c_'+str(i))] = np.cos(row*2*np.pi*i/24)\n",
    "        df_regions[('for_all', 'X', 'd_s_'+str(i))] = np.sin(row*2*np.pi*i/24)\n",
    "\n",
    "    ## Признаки индивидуальные для каждого региона\n",
    "    for region in df.columns:\n",
    "        \n",
    "        # кол-во поездок в момент времени (y.T-K)\n",
    "        for k in range(1, K+1):\n",
    "            df_regions[(region, 'X', 'T-'+str(k))] = df[region].shift(k)\n",
    "        \n",
    "        # кол-во поездок в момент времени (y.T-24*Kd)\n",
    "        for kd in range(1, Kd+1):\n",
    "            df_regions[(region, 'X', 'T-24*'+str(kd))] = df[region].shift(24*kd)\n",
    "        \n",
    "        # суммарное количество поездок за предшествующие полдня, сутки, неделю\n",
    "        sum_N = [12, 24, 168]\n",
    "        for sum_n in sum_N:\n",
    "            df_regions[(region, 'X', 'sum_'+str(sum_n))] = df[region].rolling(min_periods=1, window=sum_n).sum().shift(1)\n",
    "    \n",
    "        ## Добавляем кол-во поездок по регионам\n",
    "        df_regions[(region, 'y', 'real')] = df[region]\n",
    "        for t in range(1,7):\n",
    "            df_regions[(region, 'y', str(t))] = df[region].shift(-t)\n",
    "    \n",
    "    df_regions.columns = pd.MultiIndex.from_tuples(df_regions.columns, names=['region', 'X and y', 'features'])\n",
    "    df = df_regions[['for_all','1231']][168:]\n",
    "    \n",
    "    regions = np.unique((df.columns.get_level_values(level='region')))[:-1]\n",
    "    len_region = regions.shape[0]\n",
    "    \n",
    "    start_may = '2016-04-30 23:00:00'\n",
    "    end_may = '2016-05-31 17:00:00'\n",
    "    predict_may = pd.DataFrame(index=df[start_may:end_may].index)\n",
    "\n",
    "    start_june = '2016-05-31 23:00:00'\n",
    "    end_june = '2016-06-30 17:00:00'\n",
    "    predict_june = pd.DataFrame(index=df[start_june:end_june].index)\n",
    "    \n",
    "    for region in regions:\n",
    "        print('Расчет предсказания для региона - {}, осталось обработать регионов - {}'.format(region, len_region-1))\n",
    "        len_region -= 1\n",
    "        \n",
    "        X = pd.merge(df[('for_all','X')], df[(region, 'X')], left_index=True, right_index=True)\n",
    "        \n",
    "        mse_error = []\n",
    "        for t in range(1, 7):\n",
    "            print('Расчет предсказания на {} ч вперед'.format(t))\n",
    "            y = df[(region, 'y', str(t))]\n",
    "            ## ПРЕДСКАЗАНИЕ НА МАЙ 2016\n",
    "            # разделяем данные на обучение, тестовые и итоговые\n",
    "            X_train, y_train = X[:predict_may.index[0] - timedelta(hours=1)], y[:predict_may.index[0] - timedelta(hours=1)]\n",
    "            X_test_may = X[start_may:end_may]\n",
    "            predict_may[(region, 'y', str(t))] = df[(region, 'y', str(t))][start_may:end_may]\n",
    "\n",
    "            # построение модели с подбором гиперпараметров\n",
    "            model = Ridge()\n",
    "            param_grid = [{'alpha' : np.logspace(2, 3, 50)}]\n",
    "            clf = GridSearchCV(model, param_grid, cv = 5)\n",
    "            best_model = clf.fit(X_train, y_train)\n",
    "\n",
    "            # сохраняем предсказания\n",
    "            predict_may[(region, 'y_predict', str(t))] = best_model.predict(X_test_may).round()   \n",
    "            predict_may[(region, 'error', str(t))] = (predict_may[(region, 'y_predict', str(t))] - predict_may[(region, 'y', str(t))]).abs()\n",
    "\n",
    "            mse_error.append(mean_squared_error(predict_may[(region, 'y_predict', str(t))], predict_may[(region, 'y', str(t))]))\n",
    "        print(mse_error)\n",
    "    return mse_error"
   ]
  },
  {
   "cell_type": "code",
   "execution_count": 43,
   "metadata": {
    "scrolled": true
   },
   "outputs": [
    {
     "name": "stdout",
     "output_type": "stream",
     "text": [
      "Расчет предсказания для региона - 1231, осталось обработать регионов - 0\n",
      "Расчет предсказания на 1 ч вперед\n"
     ]
    },
    {
     "name": "stderr",
     "output_type": "stream",
     "text": [
      "C:\\Program Files\\Conda_3\\lib\\site-packages\\IPython\\core\\interactiveshell.py:2886: PerformanceWarning: indexing past lexsort depth may impact performance.\n",
      "  return runner(coro)\n"
     ]
    },
    {
     "name": "stdout",
     "output_type": "stream",
     "text": [
      "Расчет предсказания на 2 ч вперед\n",
      "Расчет предсказания на 3 ч вперед\n",
      "Расчет предсказания на 4 ч вперед\n",
      "Расчет предсказания на 5 ч вперед\n",
      "Расчет предсказания на 6 ч вперед\n",
      "[9405.370771312584, 12613.577807848444, 14974.843031123139, 16406.619756427604, 16775.10148849797, 16951.11907983762]\n",
      "Расчет предсказания для региона - 1231, осталось обработать регионов - 0\n",
      "Расчет предсказания на 1 ч вперед\n"
     ]
    },
    {
     "name": "stderr",
     "output_type": "stream",
     "text": [
      "C:\\Program Files\\Conda_3\\lib\\site-packages\\IPython\\core\\interactiveshell.py:2886: PerformanceWarning: indexing past lexsort depth may impact performance.\n",
      "  return runner(coro)\n"
     ]
    },
    {
     "name": "stdout",
     "output_type": "stream",
     "text": [
      "Расчет предсказания на 2 ч вперед\n",
      "Расчет предсказания на 3 ч вперед\n",
      "Расчет предсказания на 4 ч вперед\n",
      "Расчет предсказания на 5 ч вперед\n",
      "Расчет предсказания на 6 ч вперед\n",
      "[9408.094722598105, 12636.548037889039, 14954.125845737482, 16330.855209742896, 16756.721244925575, 16825.018944519623]\n",
      "Расчет предсказания для региона - 1231, осталось обработать регионов - 0\n",
      "Расчет предсказания на 1 ч вперед\n"
     ]
    },
    {
     "name": "stderr",
     "output_type": "stream",
     "text": [
      "C:\\Program Files\\Conda_3\\lib\\site-packages\\IPython\\core\\interactiveshell.py:2886: PerformanceWarning: indexing past lexsort depth may impact performance.\n",
      "  return runner(coro)\n"
     ]
    },
    {
     "name": "stdout",
     "output_type": "stream",
     "text": [
      "Расчет предсказания на 2 ч вперед\n",
      "Расчет предсказания на 3 ч вперед\n",
      "Расчет предсказания на 4 ч вперед\n",
      "Расчет предсказания на 5 ч вперед\n",
      "Расчет предсказания на 6 ч вперед\n",
      "[9408.289580514209, 12638.477672530447, 14970.611637347767, 16351.646820027063, 16820.125845737482, 16827.496617050067]\n",
      "Расчет предсказания для региона - 1231, осталось обработать регионов - 0\n",
      "Расчет предсказания на 1 ч вперед\n"
     ]
    },
    {
     "name": "stderr",
     "output_type": "stream",
     "text": [
      "C:\\Program Files\\Conda_3\\lib\\site-packages\\IPython\\core\\interactiveshell.py:2886: PerformanceWarning: indexing past lexsort depth may impact performance.\n",
      "  return runner(coro)\n"
     ]
    },
    {
     "name": "stdout",
     "output_type": "stream",
     "text": [
      "Расчет предсказания на 2 ч вперед\n",
      "Расчет предсказания на 3 ч вперед\n",
      "Расчет предсказания на 4 ч вперед\n",
      "Расчет предсказания на 5 ч вперед\n",
      "Расчет предсказания на 6 ч вперед\n",
      "[9401.91745602165, 12615.587280108255, 14932.0649526387, 16404.247631935046, 16796.38700947226, 16788.44654939107]\n",
      "Расчет предсказания для региона - 1231, осталось обработать регионов - 0\n",
      "Расчет предсказания на 1 ч вперед\n"
     ]
    },
    {
     "name": "stderr",
     "output_type": "stream",
     "text": [
      "C:\\Program Files\\Conda_3\\lib\\site-packages\\IPython\\core\\interactiveshell.py:2886: PerformanceWarning: indexing past lexsort depth may impact performance.\n",
      "  return runner(coro)\n"
     ]
    },
    {
     "name": "stdout",
     "output_type": "stream",
     "text": [
      "Расчет предсказания на 2 ч вперед\n",
      "Расчет предсказания на 3 ч вперед\n",
      "Расчет предсказания на 4 ч вперед\n",
      "Расчет предсказания на 5 ч вперед\n",
      "Расчет предсказания на 6 ч вперед\n",
      "[9774.41948579161, 12763.545331529094, 14892.600811907983, 16159.9350473613, 16428.140730717187, 16346.629228687416]\n",
      "Расчет предсказания для региона - 1231, осталось обработать регионов - 0\n",
      "Расчет предсказания на 1 ч вперед\n"
     ]
    },
    {
     "name": "stderr",
     "output_type": "stream",
     "text": [
      "C:\\Program Files\\Conda_3\\lib\\site-packages\\IPython\\core\\interactiveshell.py:2886: PerformanceWarning: indexing past lexsort depth may impact performance.\n",
      "  return runner(coro)\n"
     ]
    },
    {
     "name": "stdout",
     "output_type": "stream",
     "text": [
      "Расчет предсказания на 2 ч вперед\n",
      "Расчет предсказания на 3 ч вперед\n",
      "Расчет предсказания на 4 ч вперед\n",
      "Расчет предсказания на 5 ч вперед\n",
      "Расчет предсказания на 6 ч вперед\n",
      "[9768.811907983762, 12650.420838971584, 14889.924221921516, 16324.960757780786, 16649.342354533153, 16738.408660351826]\n"
     ]
    }
   ],
   "source": [
    "N = range(15, 50)\n",
    "K = range(6, 25)\n",
    "Kd = range(2, 8)\n",
    "parameters = product(N, K, Kd)\n",
    "mse_errors = []\n",
    "for params in list(parameters):\n",
    "    mse_errors.append(features_predict(df, params))"
   ]
  },
  {
   "cell_type": "markdown",
   "metadata": {},
   "source": [
    "###### Оптимизируем значение кол-во сезонных признаков"
   ]
  },
  {
   "cell_type": "code",
   "execution_count": 39,
   "metadata": {},
   "outputs": [
    {
     "data": {
      "image/png": "[encoded data removed]",
      "text/plain": [
       "<Figure size 1440x720 with 1 Axes>"
      ]
     },
     "metadata": {
      "needs_background": "light"
     },
     "output_type": "display_data"
    }
   ],
   "source": [
    "error_N = pd.DataFrame(mse_errors, index = range(15, 50), columns = range(1,7))\n",
    "error_N.plot(figsize = (20, 10))\n",
    "plt.title('Зависимость MSE от кол-ва сезонных признаков', fontsize=18)\n",
    "plt.legend(fontsize=18)\n",
    "plt.grid(True)"
   ]
  },
  {
   "cell_type": "markdown",
   "metadata": {},
   "source": [
    "###### Оптимизируем коэф. K (кол-во поездок в момент времени (y.T-K))"
   ]
  },
  {
   "cell_type": "code",
   "execution_count": 42,
   "metadata": {},
   "outputs": [
    {
     "data": {
      "image/png": "[encoded data removed]",
      "text/plain": [
       "<Figure size 1440x720 with 1 Axes>"
      ]
     },
     "metadata": {
      "needs_background": "light"
     },
     "output_type": "display_data"
    }
   ],
   "source": [
    "error_K = pd.DataFrame(mse_errors, index = range(6, 25), columns = range(1,7))\n",
    "error_K.plot(figsize = (20, 10))\n",
    "plt.title('Зависимость MSE от K (кол-во поездок в момент времени (y.T-K))', fontsize=18)\n",
    "plt.legend(fontsize=18)\n",
    "plt.grid(True)"
   ]
  },
  {
   "cell_type": "markdown",
   "metadata": {},
   "source": [
    "###### Оптимизируем коэф. Kd (кол-во поездок в момент времени (y.T-24*Kd))"
   ]
  },
  {
   "cell_type": "code",
   "execution_count": 44,
   "metadata": {},
   "outputs": [
    {
     "data": {
      "image/png": "[encoded data removed]",
      "text/plain": [
       "<Figure size 1440x720 with 1 Axes>"
      ]
     },
     "metadata": {
      "needs_background": "light"
     },
     "output_type": "display_data"
    }
   ],
   "source": [
    "error_Kd = pd.DataFrame(mse_errors, index = range(2, 8), columns = range(1,7))\n",
    "error_Kd.plot(figsize = (20, 10))\n",
    "plt.title('Зависимость MSE от Kd (кол-во поездок в момент времени (y.T-24*Kd))', fontsize=18)\n",
    "plt.legend(fontsize=18)\n",
    "plt.grid(True)"
   ]
  },
  {
   "cell_type": "markdown",
   "metadata": {},
   "source": [
    "2. Попробуйте добавить признаки. Используйте идеи, которые мы предложили, или какие-то свои. Обучайте обновлённые модели на данных до апреля 2016 включительно и считайте качество новых прогнозов на мае. Удаётся ли вам улучшить качество? Не нужно ли увеличить сложность регрессионной модели? Если добавляемый признак не улучшает качество, всё равно оставьте доказательства этому в ноутбуке, чтобы ваши коллеги это видели при проверке."
   ]
  },
  {
   "cell_type": "markdown",
   "metadata": {},
   "source": [
    "###### Формируем данные по регионам с января 2015 по июнь 2016"
   ]
  },
  {
   "cell_type": "code",
   "execution_count": 6,
   "metadata": {},
   "outputs": [],
   "source": [
    "def merge_df(date_list):\n",
    "    '''Объединение агрегированных данных'''\n",
    "    df = pd.read_csv('data/df_regions/df_group_' + date_list[0] + '.csv', index_col=[0])\n",
    "    df.index = pd.to_datetime(df.index, format='%Y-%m-%d %H:%M:%S')\n",
    "    for n in date_list[1:]:\n",
    "        df_merge = pd.read_csv('data/df_regions/df_group_' + n + '.csv', index_col=[0])\n",
    "        df_merge.index = pd.to_datetime(df_merge.index, format='%Y-%m-%d %H:%M:%S')\n",
    "        df = pd.concat([df, df_merge])\n",
    "    return df"
   ]
  },
  {
   "cell_type": "code",
   "execution_count": 7,
   "metadata": {},
   "outputs": [
    {
     "name": "stdout",
     "output_type": "stream",
     "text": [
      "Wall time: 32.1 s\n"
     ]
    }
   ],
   "source": [
    "%%time\n",
    "N_regions = pd.read_csv('data/df_regions/week4_region.csv', index_col=[0]).index\n",
    "df = merge_df([\n",
    "    '15-01','15-02','15-03','15-04','15-05','15-06','15-07','15-08','15-09','15-10','15-11','15-12',\n",
    "                  '16-01','16-02', '16-03', '16-04', '16-05', '16-06'\n",
    "]).iloc[:,list(N_regions-1)]"
   ]
  },
  {
   "cell_type": "markdown",
   "metadata": {},
   "source": [
    "###### Добавляем дополнительные признаки и составляем матрицу признаков для обучения:\n",
    "\n",
    "Во-первых:\n",
    "* средняя длительность поездок\n",
    "* среднее количество пассажиров\n",
    "* среднее расстояние по счётчику\n",
    "* средняя стоимость поездок\n",
    "\n",
    "Во-вторых:\n",
    "* праздничные дни\n",
    "\n",
    "В-третьих:\n",
    "* суммарное количество поездок за предшествующие полдня, сутки, неделю"
   ]
  },
  {
   "cell_type": "code",
   "execution_count": 8,
   "metadata": {},
   "outputs": [],
   "source": [
    "def merge_features(date_list):\n",
    "    '''Объединение агрегированных данных'''\n",
    "    df = pd.read_csv('data/df_regions/week6_df_features_' + date_list[0] + '.csv', index_col=[0],  header=[0,1])\n",
    "    df.index = pd.to_datetime(df.index, format='%Y-%m-%d %H:%M:%S')\n",
    "\n",
    "    for n in date_list[1:]:\n",
    "        df_merge = pd.read_csv('data/df_regions/week6_df_features_' + n + '.csv', index_col=[0],  header=[0,1])\n",
    "        df_merge.index = pd.to_datetime(df_merge.index, format='%Y-%m-%d %H:%M:%S')\n",
    "        df = pd.concat([df, df_merge])\n",
    "    return df"
   ]
  },
  {
   "cell_type": "code",
   "execution_count": 9,
   "metadata": {},
   "outputs": [],
   "source": [
    "df_features = merge_features([\n",
    "    '15-01','15-02','15-03','15-04','15-05','15-06','15-07','15-08','15-09','15-10','15-11','15-12',\n",
    "                  '16-01','16-02', '16-03', '16-04', '16-05', '16-06'\n",
    "])"
   ]
  },
  {
   "cell_type": "code",
   "execution_count": 10,
   "metadata": {},
   "outputs": [],
   "source": [
    "def features(df, df_f):\n",
    "    df_regions = pd.DataFrame(index=df.index)\n",
    "    \n",
    "    ## Признаки общие для всех регионов\n",
    "    # календарные признаки\n",
    "    df_regions[('for_all', 'X', 'year')] = df.index.year\n",
    "    df_regions[('for_all', 'X', 'month')] = df.index.month\n",
    "    df_regions[('for_all', 'X', 'day')] = df.index.day\n",
    "    df_regions[('for_all', 'X', 'weekday')] = df.index.weekday\n",
    "    df_regions[('for_all', 'X', 'hour')] = df.index.hour\n",
    "\n",
    "    # праздничные дни\n",
    "    NY_holidays = holidays.US(state='NY')\n",
    "    NY_holidays_list = []\n",
    "    for date, name in holidays.US(state='NY', years=[2015, 2016]).items():\n",
    "        NY_holidays_list.append(np.datetime64(date))\n",
    "    df_regions[('for_all', 'X', 'holiday')] = pd.to_datetime(df_regions.index.strftime('%Y-%m-%d')).isin(NY_holidays_list).astype(int)      \n",
    "    \n",
    "    N = 36\n",
    "    row = np.arange(1, df.shape[0]+1)\n",
    "    for i in range(1, N+1):\n",
    "        # годовая сезонность\n",
    "        df_regions[('for_all', 'X', 'y_c_'+str(i))] = np.cos(row*2*np.pi*i/8766)\n",
    "        df_regions[('for_all', 'X', 'y_s_'+str(i))] = np.sin(row*2*np.pi*i/8766)\n",
    "        # недельная сезонность\n",
    "        df_regions[('for_all', 'X', 'w_c_'+str(i))] = np.cos(row*2*np.pi*i/168)\n",
    "        df_regions[('for_all', 'X', 'w_s_'+str(i))] = np.sin(row*2*np.pi*i/168)\n",
    "        # дневная сезонность\n",
    "        df_regions[('for_all', 'X', 'd_c_'+str(i))] = np.cos(row*2*np.pi*i/24)\n",
    "        df_regions[('for_all', 'X', 'd_s_'+str(i))] = np.sin(row*2*np.pi*i/24)\n",
    "\n",
    "    ## Признаки индивидуальные для каждого региона\n",
    "    for region in df.columns:\n",
    "        \n",
    "        # кол-во поездок в момент времени (y.T-K)\n",
    "        K = 15\n",
    "        for k in range(1, K+1):\n",
    "            df_regions[(region, 'X', 'T-'+str(k))] = df[region].shift(k)\n",
    "        \n",
    "        # кол-во поездок в момент времени (y.T-24*Kd)\n",
    "        Kd = 2\n",
    "        for kd in range(1, Kd+1):\n",
    "            df_regions[(region, 'X', 'T-24*'+str(kd))] = df[region].shift(24*kd)\n",
    "        \n",
    "        # суммарное количество поездок за предшествующие полдня, сутки, неделю\n",
    "        sum_N = [12, 24, 168]\n",
    "        for sum_n in sum_N:\n",
    "            df_regions[(region, 'X', 'sum_'+str(sum_n))] = df[region].rolling(min_periods=1, window=sum_n).sum().shift(1)\n",
    "    \n",
    "        # дополнительные признаки (средняя длительность поездокб, среднее количество пассажиров, среднее расстояние по счётчику, средняя стоимость поездок)\n",
    "        for features in df_f[(str(region))].columns:\n",
    "            df_regions[(region, 'X', str(features))] = df_f[(str(region), str(features))]\n",
    "    \n",
    "        ## Добавляем кол-во поездок по регионам\n",
    "        df_regions[(region, 'y', 'real')] = df[region]\n",
    "        for t in range(1,7):\n",
    "            df_regions[(region, 'y', str(t))] = df[region].shift(-t)\n",
    "    \n",
    "    df_regions.columns = pd.MultiIndex.from_tuples(df_regions.columns, names=['region', 'X and y', 'features'])\n",
    "    \n",
    "    return df_regions[168:]"
   ]
  },
  {
   "cell_type": "code",
   "execution_count": 11,
   "metadata": {},
   "outputs": [
    {
     "name": "stdout",
     "output_type": "stream",
     "text": [
      "Wall time: 50.3 s\n"
     ]
    }
   ],
   "source": [
    "%%time\n",
    "X_y = features(df, df_features)\n",
    "X_y.fillna(0, inplace = True)"
   ]
  },
  {
   "cell_type": "code",
   "execution_count": 13,
   "metadata": {},
   "outputs": [],
   "source": [
    "def predict_model(df):\n",
    "    regions = np.unique((df.columns.get_level_values(level='region')))[:-1]\n",
    "    len_region = regions.shape[0]\n",
    "    \n",
    "    start_may = '2016-04-30 23:00:00'\n",
    "    end_may = '2016-05-31 17:00:00'\n",
    "    predict_may = pd.DataFrame(index=df[start_may:end_may].index)\n",
    "\n",
    "    start_june = '2016-05-31 23:00:00'\n",
    "    end_june = '2016-06-30 17:00:00'\n",
    "    predict_june = pd.DataFrame(index=df[start_june:end_june].index)\n",
    "    \n",
    "    for region in regions:\n",
    "        print('Расчет предсказания для региона - {}, осталось обработать регионов - {}'.format(region, len_region-1))\n",
    "        len_region -= 1\n",
    "        \n",
    "        X = pd.merge(df[('for_all','X')], df[(region, 'X')], left_index=True, right_index=True)\n",
    "        \n",
    "        for t in range(1, 7):\n",
    "            print('Расчет предсказания на {} ч вперед'.format(t))\n",
    "            y = df[(region, 'y', str(t))]\n",
    "            ## ПРЕДСКАЗАНИЕ НА МАЙ 2016\n",
    "            # разделяем данные на обучение, тестовые и итоговые\n",
    "            X_train, y_train = X[:predict_may.index[0] - timedelta(hours=1)], y[:predict_may.index[0] - timedelta(hours=1)]\n",
    "            X_test_may = X[start_may:end_may]\n",
    "            predict_may[(region, 'y', str(t))] = df[(region, 'y', str(t))][start_may:end_may]\n",
    "\n",
    "            # построение модели с подбором гиперпараметров\n",
    "            model = Ridge()\n",
    "            param_grid = [{'alpha' : np.logspace(2, 3, 50)}]\n",
    "            clf = GridSearchCV(model, param_grid, cv = 5)\n",
    "            best_model = clf.fit(X_train, y_train)\n",
    "\n",
    "            # сохраняем предсказания\n",
    "            predict_may[(region, 'y_predict', str(t))] = best_model.predict(X_test_may).round()   \n",
    "            predict_may[(region, 'error', str(t))] = (predict_may[(region, 'y_predict', str(t))] - predict_may[(region, 'y', str(t))]).abs()\n",
    "\n",
    "            ## ПРЕДСКАЗАНИЕ НА ИЮНЬ 2016 \n",
    "            # разделяем данные на обучение, тестовые и итоговые\n",
    "            X_test_june = X[start_june:end_june]\n",
    "            predict_june[(region, 'y', str(t))] = df[(region, 'y', str(t))][start_june:end_june]\n",
    "\n",
    "            # сохраняем предсказания\n",
    "            predict_june[(region, 'y_predict', str(t))] = best_model.predict(X_test_june).round()   \n",
    "            predict_june[(region, 'error', str(t))] = (predict_june[(region, 'y_predict', str(t))] - predict_june[(region, 'y', str(t))]).abs()\n",
    "    \n",
    "    predict_may.columns = pd.MultiIndex.from_tuples(predict_may.columns, names=['region', 'y', 'delta'])\n",
    "    predict_june.columns = pd.MultiIndex.from_tuples(predict_june.columns, names=['region', 'y', 'delta'])\n",
    "    \n",
    "    return predict_may, predict_june "
   ]
  },
  {
   "cell_type": "code",
   "execution_count": 14,
   "metadata": {},
   "outputs": [
    {
     "name": "stdout",
     "output_type": "stream",
     "text": [
      "Расчет предсказания для региона - 1075, осталось обработать регионов - 101\n",
      "Расчет предсказания на 1 ч вперед\n"
     ]
    },
    {
     "name": "stderr",
     "output_type": "stream",
     "text": [
      "C:\\Program Files\\Conda_3\\lib\\site-packages\\ipykernel_launcher.py:1: PerformanceWarning: indexing past lexsort depth may impact performance.\n",
      "  \"\"\"Entry point for launching an IPython kernel.\n"
     ]
    },
    {
     "name": "stdout",
     "output_type": "stream",
     "text": [
      "Расчет предсказания на 2 ч вперед\n",
      "Расчет предсказания на 3 ч вперед\n",
      "Расчет предсказания на 4 ч вперед\n",
      "Расчет предсказания на 5 ч вперед\n",
      "Расчет предсказания на 6 ч вперед\n",
      "Расчет предсказания для региона - 1076, осталось обработать регионов - 100\n",
      "Расчет предсказания на 1 ч вперед\n"
     ]
    },
    {
     "name": "stderr",
     "output_type": "stream",
     "text": [
      "C:\\Program Files\\Conda_3\\lib\\site-packages\\ipykernel_launcher.py:1: PerformanceWarning: indexing past lexsort depth may impact performance.\n",
      "  \"\"\"Entry point for launching an IPython kernel.\n"
     ]
    },
    {
     "name": "stdout",
     "output_type": "stream",
     "text": [
      "Расчет предсказания на 2 ч вперед\n",
      "Расчет предсказания на 3 ч вперед\n",
      "Расчет предсказания на 4 ч вперед\n",
      "Расчет предсказания на 5 ч вперед\n",
      "Расчет предсказания на 6 ч вперед\n",
      "Расчет предсказания для региона - 1077, осталось обработать регионов - 99\n",
      "Расчет предсказания на 1 ч вперед\n"
     ]
    },
    {
     "name": "stderr",
     "output_type": "stream",
     "text": [
      "C:\\Program Files\\Conda_3\\lib\\site-packages\\ipykernel_launcher.py:1: PerformanceWarning: indexing past lexsort depth may impact performance.\n",
      "  \"\"\"Entry point for launching an IPython kernel.\n"
     ]
    },
    {
     "name": "stdout",
     "output_type": "stream",
     "text": [
      "Расчет предсказания на 2 ч вперед\n",
      "Расчет предсказания на 3 ч вперед\n",
      "Расчет предсказания на 4 ч вперед\n",
      "Расчет предсказания на 5 ч вперед\n",
      "Расчет предсказания на 6 ч вперед\n",
      "Расчет предсказания для региона - 1125, осталось обработать регионов - 98\n",
      "Расчет предсказания на 1 ч вперед\n"
     ]
    },
    {
     "name": "stderr",
     "output_type": "stream",
     "text": [
      "C:\\Program Files\\Conda_3\\lib\\site-packages\\ipykernel_launcher.py:1: PerformanceWarning: indexing past lexsort depth may impact performance.\n",
      "  \"\"\"Entry point for launching an IPython kernel.\n"
     ]
    },
    {
     "name": "stdout",
     "output_type": "stream",
     "text": [
      "Расчет предсказания на 2 ч вперед\n",
      "Расчет предсказания на 3 ч вперед\n",
      "Расчет предсказания на 4 ч вперед\n",
      "Расчет предсказания на 5 ч вперед\n",
      "Расчет предсказания на 6 ч вперед\n",
      "Расчет предсказания для региона - 1126, осталось обработать регионов - 97\n",
      "Расчет предсказания на 1 ч вперед\n"
     ]
    },
    {
     "name": "stderr",
     "output_type": "stream",
     "text": [
      "C:\\Program Files\\Conda_3\\lib\\site-packages\\ipykernel_launcher.py:1: PerformanceWarning: indexing past lexsort depth may impact performance.\n",
      "  \"\"\"Entry point for launching an IPython kernel.\n"
     ]
    },
    {
     "name": "stdout",
     "output_type": "stream",
     "text": [
      "Расчет предсказания на 2 ч вперед\n",
      "Расчет предсказания на 3 ч вперед\n",
      "Расчет предсказания на 4 ч вперед\n",
      "Расчет предсказания на 5 ч вперед\n",
      "Расчет предсказания на 6 ч вперед\n",
      "Расчет предсказания для региона - 1127, осталось обработать регионов - 96\n",
      "Расчет предсказания на 1 ч вперед\n"
     ]
    },
    {
     "name": "stderr",
     "output_type": "stream",
     "text": [
      "C:\\Program Files\\Conda_3\\lib\\site-packages\\ipykernel_launcher.py:1: PerformanceWarning: indexing past lexsort depth may impact performance.\n",
      "  \"\"\"Entry point for launching an IPython kernel.\n"
     ]
    },
    {
     "name": "stdout",
     "output_type": "stream",
     "text": [
      "Расчет предсказания на 2 ч вперед\n",
      "Расчет предсказания на 3 ч вперед\n",
      "Расчет предсказания на 4 ч вперед\n",
      "Расчет предсказания на 5 ч вперед\n",
      "Расчет предсказания на 6 ч вперед\n",
      "Расчет предсказания для региона - 1128, осталось обработать регионов - 95\n",
      "Расчет предсказания на 1 ч вперед\n"
     ]
    },
    {
     "name": "stderr",
     "output_type": "stream",
     "text": [
      "C:\\Program Files\\Conda_3\\lib\\site-packages\\ipykernel_launcher.py:1: PerformanceWarning: indexing past lexsort depth may impact performance.\n",
      "  \"\"\"Entry point for launching an IPython kernel.\n"
     ]
    },
    {
     "name": "stdout",
     "output_type": "stream",
     "text": [
      "Расчет предсказания на 2 ч вперед\n",
      "Расчет предсказания на 3 ч вперед\n",
      "Расчет предсказания на 4 ч вперед\n",
      "Расчет предсказания на 5 ч вперед\n",
      "Расчет предсказания на 6 ч вперед\n",
      "Расчет предсказания для региона - 1129, осталось обработать регионов - 94\n",
      "Расчет предсказания на 1 ч вперед\n"
     ]
    },
    {
     "name": "stderr",
     "output_type": "stream",
     "text": [
      "C:\\Program Files\\Conda_3\\lib\\site-packages\\ipykernel_launcher.py:1: PerformanceWarning: indexing past lexsort depth may impact performance.\n",
      "  \"\"\"Entry point for launching an IPython kernel.\n"
     ]
    },
    {
     "name": "stdout",
     "output_type": "stream",
     "text": [
      "Расчет предсказания на 2 ч вперед\n",
      "Расчет предсказания на 3 ч вперед\n",
      "Расчет предсказания на 4 ч вперед\n",
      "Расчет предсказания на 5 ч вперед\n",
      "Расчет предсказания на 6 ч вперед\n",
      "Расчет предсказания для региона - 1130, осталось обработать регионов - 93\n",
      "Расчет предсказания на 1 ч вперед\n"
     ]
    },
    {
     "name": "stderr",
     "output_type": "stream",
     "text": [
      "C:\\Program Files\\Conda_3\\lib\\site-packages\\ipykernel_launcher.py:1: PerformanceWarning: indexing past lexsort depth may impact performance.\n",
      "  \"\"\"Entry point for launching an IPython kernel.\n"
     ]
    },
    {
     "name": "stdout",
     "output_type": "stream",
     "text": [
      "Расчет предсказания на 2 ч вперед\n",
      "Расчет предсказания на 3 ч вперед\n",
      "Расчет предсказания на 4 ч вперед\n",
      "Расчет предсказания на 5 ч вперед\n",
      "Расчет предсказания на 6 ч вперед\n",
      "Расчет предсказания для региона - 1131, осталось обработать регионов - 92\n",
      "Расчет предсказания на 1 ч вперед\n"
     ]
    },
    {
     "name": "stderr",
     "output_type": "stream",
     "text": [
      "C:\\Program Files\\Conda_3\\lib\\site-packages\\ipykernel_launcher.py:1: PerformanceWarning: indexing past lexsort depth may impact performance.\n",
      "  \"\"\"Entry point for launching an IPython kernel.\n"
     ]
    },
    {
     "name": "stdout",
     "output_type": "stream",
     "text": [
      "Расчет предсказания на 2 ч вперед\n",
      "Расчет предсказания на 3 ч вперед\n",
      "Расчет предсказания на 4 ч вперед\n",
      "Расчет предсказания на 5 ч вперед\n",
      "Расчет предсказания на 6 ч вперед\n",
      "Расчет предсказания для региона - 1132, осталось обработать регионов - 91\n",
      "Расчет предсказания на 1 ч вперед\n"
     ]
    },
    {
     "name": "stderr",
     "output_type": "stream",
     "text": [
      "C:\\Program Files\\Conda_3\\lib\\site-packages\\ipykernel_launcher.py:1: PerformanceWarning: indexing past lexsort depth may impact performance.\n",
      "  \"\"\"Entry point for launching an IPython kernel.\n"
     ]
    },
    {
     "name": "stdout",
     "output_type": "stream",
     "text": [
      "Расчет предсказания на 2 ч вперед\n",
      "Расчет предсказания на 3 ч вперед\n",
      "Расчет предсказания на 4 ч вперед\n",
      "Расчет предсказания на 5 ч вперед\n",
      "Расчет предсказания на 6 ч вперед\n",
      "Расчет предсказания для региона - 1172, осталось обработать регионов - 90\n",
      "Расчет предсказания на 1 ч вперед\n"
     ]
    },
    {
     "name": "stderr",
     "output_type": "stream",
     "text": [
      "C:\\Program Files\\Conda_3\\lib\\site-packages\\ipykernel_launcher.py:1: PerformanceWarning: indexing past lexsort depth may impact performance.\n",
      "  \"\"\"Entry point for launching an IPython kernel.\n"
     ]
    },
    {
     "name": "stdout",
     "output_type": "stream",
     "text": [
      "Расчет предсказания на 2 ч вперед\n",
      "Расчет предсказания на 3 ч вперед\n",
      "Расчет предсказания на 4 ч вперед\n",
      "Расчет предсказания на 5 ч вперед\n",
      "Расчет предсказания на 6 ч вперед\n",
      "Расчет предсказания для региона - 1173, осталось обработать регионов - 89\n",
      "Расчет предсказания на 1 ч вперед\n"
     ]
    },
    {
     "name": "stderr",
     "output_type": "stream",
     "text": [
      "C:\\Program Files\\Conda_3\\lib\\site-packages\\ipykernel_launcher.py:1: PerformanceWarning: indexing past lexsort depth may impact performance.\n",
      "  \"\"\"Entry point for launching an IPython kernel.\n"
     ]
    },
    {
     "name": "stdout",
     "output_type": "stream",
     "text": [
      "Расчет предсказания на 2 ч вперед\n",
      "Расчет предсказания на 3 ч вперед\n",
      "Расчет предсказания на 4 ч вперед\n",
      "Расчет предсказания на 5 ч вперед\n",
      "Расчет предсказания на 6 ч вперед\n",
      "Расчет предсказания для региона - 1174, осталось обработать регионов - 88\n",
      "Расчет предсказания на 1 ч вперед\n"
     ]
    },
    {
     "name": "stderr",
     "output_type": "stream",
     "text": [
      "C:\\Program Files\\Conda_3\\lib\\site-packages\\ipykernel_launcher.py:1: PerformanceWarning: indexing past lexsort depth may impact performance.\n",
      "  \"\"\"Entry point for launching an IPython kernel.\n"
     ]
    },
    {
     "name": "stdout",
     "output_type": "stream",
     "text": [
      "Расчет предсказания на 2 ч вперед\n",
      "Расчет предсказания на 3 ч вперед\n",
      "Расчет предсказания на 4 ч вперед\n",
      "Расчет предсказания на 5 ч вперед\n",
      "Расчет предсказания на 6 ч вперед\n",
      "Расчет предсказания для региона - 1175, осталось обработать регионов - 87\n",
      "Расчет предсказания на 1 ч вперед\n"
     ]
    },
    {
     "name": "stderr",
     "output_type": "stream",
     "text": [
      "C:\\Program Files\\Conda_3\\lib\\site-packages\\ipykernel_launcher.py:1: PerformanceWarning: indexing past lexsort depth may impact performance.\n",
      "  \"\"\"Entry point for launching an IPython kernel.\n"
     ]
    },
    {
     "name": "stdout",
     "output_type": "stream",
     "text": [
      "Расчет предсказания на 2 ч вперед\n",
      "Расчет предсказания на 3 ч вперед\n",
      "Расчет предсказания на 4 ч вперед\n",
      "Расчет предсказания на 5 ч вперед\n",
      "Расчет предсказания на 6 ч вперед\n",
      "Расчет предсказания для региона - 1176, осталось обработать регионов - 86\n",
      "Расчет предсказания на 1 ч вперед\n"
     ]
    },
    {
     "name": "stderr",
     "output_type": "stream",
     "text": [
      "C:\\Program Files\\Conda_3\\lib\\site-packages\\ipykernel_launcher.py:1: PerformanceWarning: indexing past lexsort depth may impact performance.\n",
      "  \"\"\"Entry point for launching an IPython kernel.\n"
     ]
    },
    {
     "name": "stdout",
     "output_type": "stream",
     "text": [
      "Расчет предсказания на 2 ч вперед\n",
      "Расчет предсказания на 3 ч вперед\n",
      "Расчет предсказания на 4 ч вперед\n",
      "Расчет предсказания на 5 ч вперед\n",
      "Расчет предсказания на 6 ч вперед\n",
      "Расчет предсказания для региона - 1177, осталось обработать регионов - 85\n",
      "Расчет предсказания на 1 ч вперед\n"
     ]
    },
    {
     "name": "stderr",
     "output_type": "stream",
     "text": [
      "C:\\Program Files\\Conda_3\\lib\\site-packages\\ipykernel_launcher.py:1: PerformanceWarning: indexing past lexsort depth may impact performance.\n",
      "  \"\"\"Entry point for launching an IPython kernel.\n"
     ]
    },
    {
     "name": "stdout",
     "output_type": "stream",
     "text": [
      "Расчет предсказания на 2 ч вперед\n",
      "Расчет предсказания на 3 ч вперед\n",
      "Расчет предсказания на 4 ч вперед\n",
      "Расчет предсказания на 5 ч вперед\n",
      "Расчет предсказания на 6 ч вперед\n",
      "Расчет предсказания для региона - 1178, осталось обработать регионов - 84\n",
      "Расчет предсказания на 1 ч вперед\n"
     ]
    },
    {
     "name": "stderr",
     "output_type": "stream",
     "text": [
      "C:\\Program Files\\Conda_3\\lib\\site-packages\\ipykernel_launcher.py:1: PerformanceWarning: indexing past lexsort depth may impact performance.\n",
      "  \"\"\"Entry point for launching an IPython kernel.\n"
     ]
    },
    {
     "name": "stdout",
     "output_type": "stream",
     "text": [
      "Расчет предсказания на 2 ч вперед\n",
      "Расчет предсказания на 3 ч вперед\n",
      "Расчет предсказания на 4 ч вперед\n",
      "Расчет предсказания на 5 ч вперед\n",
      "Расчет предсказания на 6 ч вперед\n",
      "Расчет предсказания для региона - 1179, осталось обработать регионов - 83\n",
      "Расчет предсказания на 1 ч вперед\n"
     ]
    },
    {
     "name": "stderr",
     "output_type": "stream",
     "text": [
      "C:\\Program Files\\Conda_3\\lib\\site-packages\\ipykernel_launcher.py:1: PerformanceWarning: indexing past lexsort depth may impact performance.\n",
      "  \"\"\"Entry point for launching an IPython kernel.\n"
     ]
    },
    {
     "name": "stdout",
     "output_type": "stream",
     "text": [
      "Расчет предсказания на 2 ч вперед\n",
      "Расчет предсказания на 3 ч вперед\n",
      "Расчет предсказания на 4 ч вперед\n",
      "Расчет предсказания на 5 ч вперед\n",
      "Расчет предсказания на 6 ч вперед\n",
      "Расчет предсказания для региона - 1180, осталось обработать регионов - 82\n",
      "Расчет предсказания на 1 ч вперед\n"
     ]
    },
    {
     "name": "stderr",
     "output_type": "stream",
     "text": [
      "C:\\Program Files\\Conda_3\\lib\\site-packages\\ipykernel_launcher.py:1: PerformanceWarning: indexing past lexsort depth may impact performance.\n",
      "  \"\"\"Entry point for launching an IPython kernel.\n"
     ]
    },
    {
     "name": "stdout",
     "output_type": "stream",
     "text": [
      "Расчет предсказания на 2 ч вперед\n",
      "Расчет предсказания на 3 ч вперед\n",
      "Расчет предсказания на 4 ч вперед\n",
      "Расчет предсказания на 5 ч вперед\n",
      "Расчет предсказания на 6 ч вперед\n",
      "Расчет предсказания для региона - 1181, осталось обработать регионов - 81\n",
      "Расчет предсказания на 1 ч вперед\n"
     ]
    },
    {
     "name": "stderr",
     "output_type": "stream",
     "text": [
      "C:\\Program Files\\Conda_3\\lib\\site-packages\\ipykernel_launcher.py:1: PerformanceWarning: indexing past lexsort depth may impact performance.\n",
      "  \"\"\"Entry point for launching an IPython kernel.\n"
     ]
    },
    {
     "name": "stdout",
     "output_type": "stream",
     "text": [
      "Расчет предсказания на 2 ч вперед\n",
      "Расчет предсказания на 3 ч вперед\n",
      "Расчет предсказания на 4 ч вперед\n",
      "Расчет предсказания на 5 ч вперед\n",
      "Расчет предсказания на 6 ч вперед\n",
      "Расчет предсказания для региона - 1182, осталось обработать регионов - 80\n",
      "Расчет предсказания на 1 ч вперед\n"
     ]
    },
    {
     "name": "stderr",
     "output_type": "stream",
     "text": [
      "C:\\Program Files\\Conda_3\\lib\\site-packages\\ipykernel_launcher.py:1: PerformanceWarning: indexing past lexsort depth may impact performance.\n",
      "  \"\"\"Entry point for launching an IPython kernel.\n"
     ]
    },
    {
     "name": "stdout",
     "output_type": "stream",
     "text": [
      "Расчет предсказания на 2 ч вперед\n",
      "Расчет предсказания на 3 ч вперед\n",
      "Расчет предсказания на 4 ч вперед\n",
      "Расчет предсказания на 5 ч вперед\n",
      "Расчет предсказания на 6 ч вперед\n",
      "Расчет предсказания для региона - 1183, осталось обработать регионов - 79\n",
      "Расчет предсказания на 1 ч вперед\n"
     ]
    },
    {
     "name": "stderr",
     "output_type": "stream",
     "text": [
      "C:\\Program Files\\Conda_3\\lib\\site-packages\\ipykernel_launcher.py:1: PerformanceWarning: indexing past lexsort depth may impact performance.\n",
      "  \"\"\"Entry point for launching an IPython kernel.\n"
     ]
    },
    {
     "name": "stdout",
     "output_type": "stream",
     "text": [
      "Расчет предсказания на 2 ч вперед\n",
      "Расчет предсказания на 3 ч вперед\n",
      "Расчет предсказания на 4 ч вперед\n",
      "Расчет предсказания на 5 ч вперед\n",
      "Расчет предсказания на 6 ч вперед\n",
      "Расчет предсказания для региона - 1184, осталось обработать регионов - 78\n",
      "Расчет предсказания на 1 ч вперед\n"
     ]
    },
    {
     "name": "stderr",
     "output_type": "stream",
     "text": [
      "C:\\Program Files\\Conda_3\\lib\\site-packages\\ipykernel_launcher.py:1: PerformanceWarning: indexing past lexsort depth may impact performance.\n",
      "  \"\"\"Entry point for launching an IPython kernel.\n"
     ]
    },
    {
     "name": "stdout",
     "output_type": "stream",
     "text": [
      "Расчет предсказания на 2 ч вперед\n",
      "Расчет предсказания на 3 ч вперед\n",
      "Расчет предсказания на 4 ч вперед\n",
      "Расчет предсказания на 5 ч вперед\n",
      "Расчет предсказания на 6 ч вперед\n",
      "Расчет предсказания для региона - 1221, осталось обработать регионов - 77\n",
      "Расчет предсказания на 1 ч вперед\n"
     ]
    },
    {
     "name": "stderr",
     "output_type": "stream",
     "text": [
      "C:\\Program Files\\Conda_3\\lib\\site-packages\\ipykernel_launcher.py:1: PerformanceWarning: indexing past lexsort depth may impact performance.\n",
      "  \"\"\"Entry point for launching an IPython kernel.\n"
     ]
    },
    {
     "name": "stdout",
     "output_type": "stream",
     "text": [
      "Расчет предсказания на 2 ч вперед\n",
      "Расчет предсказания на 3 ч вперед\n",
      "Расчет предсказания на 4 ч вперед\n",
      "Расчет предсказания на 5 ч вперед\n",
      "Расчет предсказания на 6 ч вперед\n",
      "Расчет предсказания для региона - 1222, осталось обработать регионов - 76\n",
      "Расчет предсказания на 1 ч вперед\n"
     ]
    },
    {
     "name": "stderr",
     "output_type": "stream",
     "text": [
      "C:\\Program Files\\Conda_3\\lib\\site-packages\\ipykernel_launcher.py:1: PerformanceWarning: indexing past lexsort depth may impact performance.\n",
      "  \"\"\"Entry point for launching an IPython kernel.\n"
     ]
    },
    {
     "name": "stdout",
     "output_type": "stream",
     "text": [
      "Расчет предсказания на 2 ч вперед\n",
      "Расчет предсказания на 3 ч вперед\n",
      "Расчет предсказания на 4 ч вперед\n",
      "Расчет предсказания на 5 ч вперед\n",
      "Расчет предсказания на 6 ч вперед\n",
      "Расчет предсказания для региона - 1223, осталось обработать регионов - 75\n",
      "Расчет предсказания на 1 ч вперед\n"
     ]
    },
    {
     "name": "stderr",
     "output_type": "stream",
     "text": [
      "C:\\Program Files\\Conda_3\\lib\\site-packages\\ipykernel_launcher.py:1: PerformanceWarning: indexing past lexsort depth may impact performance.\n",
      "  \"\"\"Entry point for launching an IPython kernel.\n"
     ]
    },
    {
     "name": "stdout",
     "output_type": "stream",
     "text": [
      "Расчет предсказания на 2 ч вперед\n",
      "Расчет предсказания на 3 ч вперед\n",
      "Расчет предсказания на 4 ч вперед\n",
      "Расчет предсказания на 5 ч вперед\n",
      "Расчет предсказания на 6 ч вперед\n",
      "Расчет предсказания для региона - 1224, осталось обработать регионов - 74\n",
      "Расчет предсказания на 1 ч вперед\n"
     ]
    },
    {
     "name": "stderr",
     "output_type": "stream",
     "text": [
      "C:\\Program Files\\Conda_3\\lib\\site-packages\\ipykernel_launcher.py:1: PerformanceWarning: indexing past lexsort depth may impact performance.\n",
      "  \"\"\"Entry point for launching an IPython kernel.\n"
     ]
    },
    {
     "name": "stdout",
     "output_type": "stream",
     "text": [
      "Расчет предсказания на 2 ч вперед\n",
      "Расчет предсказания на 3 ч вперед\n",
      "Расчет предсказания на 4 ч вперед\n",
      "Расчет предсказания на 5 ч вперед\n",
      "Расчет предсказания на 6 ч вперед\n",
      "Расчет предсказания для региона - 1225, осталось обработать регионов - 73\n",
      "Расчет предсказания на 1 ч вперед\n"
     ]
    },
    {
     "name": "stderr",
     "output_type": "stream",
     "text": [
      "C:\\Program Files\\Conda_3\\lib\\site-packages\\ipykernel_launcher.py:1: PerformanceWarning: indexing past lexsort depth may impact performance.\n",
      "  \"\"\"Entry point for launching an IPython kernel.\n"
     ]
    },
    {
     "name": "stdout",
     "output_type": "stream",
     "text": [
      "Расчет предсказания на 2 ч вперед\n",
      "Расчет предсказания на 3 ч вперед\n",
      "Расчет предсказания на 4 ч вперед\n",
      "Расчет предсказания на 5 ч вперед\n",
      "Расчет предсказания на 6 ч вперед\n",
      "Расчет предсказания для региона - 1227, осталось обработать регионов - 72\n",
      "Расчет предсказания на 1 ч вперед\n"
     ]
    },
    {
     "name": "stderr",
     "output_type": "stream",
     "text": [
      "C:\\Program Files\\Conda_3\\lib\\site-packages\\ipykernel_launcher.py:1: PerformanceWarning: indexing past lexsort depth may impact performance.\n",
      "  \"\"\"Entry point for launching an IPython kernel.\n"
     ]
    },
    {
     "name": "stdout",
     "output_type": "stream",
     "text": [
      "Расчет предсказания на 2 ч вперед\n",
      "Расчет предсказания на 3 ч вперед\n",
      "Расчет предсказания на 4 ч вперед\n",
      "Расчет предсказания на 5 ч вперед\n",
      "Расчет предсказания на 6 ч вперед\n",
      "Расчет предсказания для региона - 1228, осталось обработать регионов - 71\n",
      "Расчет предсказания на 1 ч вперед\n"
     ]
    },
    {
     "name": "stderr",
     "output_type": "stream",
     "text": [
      "C:\\Program Files\\Conda_3\\lib\\site-packages\\ipykernel_launcher.py:1: PerformanceWarning: indexing past lexsort depth may impact performance.\n",
      "  \"\"\"Entry point for launching an IPython kernel.\n"
     ]
    },
    {
     "name": "stdout",
     "output_type": "stream",
     "text": [
      "Расчет предсказания на 2 ч вперед\n",
      "Расчет предсказания на 3 ч вперед\n",
      "Расчет предсказания на 4 ч вперед\n",
      "Расчет предсказания на 5 ч вперед\n",
      "Расчет предсказания на 6 ч вперед\n",
      "Расчет предсказания для региона - 1229, осталось обработать регионов - 70\n",
      "Расчет предсказания на 1 ч вперед\n"
     ]
    },
    {
     "name": "stderr",
     "output_type": "stream",
     "text": [
      "C:\\Program Files\\Conda_3\\lib\\site-packages\\ipykernel_launcher.py:1: PerformanceWarning: indexing past lexsort depth may impact performance.\n",
      "  \"\"\"Entry point for launching an IPython kernel.\n"
     ]
    },
    {
     "name": "stdout",
     "output_type": "stream",
     "text": [
      "Расчет предсказания на 2 ч вперед\n",
      "Расчет предсказания на 3 ч вперед\n",
      "Расчет предсказания на 4 ч вперед\n",
      "Расчет предсказания на 5 ч вперед\n",
      "Расчет предсказания на 6 ч вперед\n",
      "Расчет предсказания для региона - 1230, осталось обработать регионов - 69\n",
      "Расчет предсказания на 1 ч вперед\n"
     ]
    },
    {
     "name": "stderr",
     "output_type": "stream",
     "text": [
      "C:\\Program Files\\Conda_3\\lib\\site-packages\\ipykernel_launcher.py:1: PerformanceWarning: indexing past lexsort depth may impact performance.\n",
      "  \"\"\"Entry point for launching an IPython kernel.\n"
     ]
    },
    {
     "name": "stdout",
     "output_type": "stream",
     "text": [
      "Расчет предсказания на 2 ч вперед\n",
      "Расчет предсказания на 3 ч вперед\n",
      "Расчет предсказания на 4 ч вперед\n",
      "Расчет предсказания на 5 ч вперед\n",
      "Расчет предсказания на 6 ч вперед\n",
      "Расчет предсказания для региона - 1231, осталось обработать регионов - 68\n",
      "Расчет предсказания на 1 ч вперед\n"
     ]
    },
    {
     "name": "stderr",
     "output_type": "stream",
     "text": [
      "C:\\Program Files\\Conda_3\\lib\\site-packages\\ipykernel_launcher.py:1: PerformanceWarning: indexing past lexsort depth may impact performance.\n",
      "  \"\"\"Entry point for launching an IPython kernel.\n"
     ]
    },
    {
     "name": "stdout",
     "output_type": "stream",
     "text": [
      "Расчет предсказания на 2 ч вперед\n",
      "Расчет предсказания на 3 ч вперед\n",
      "Расчет предсказания на 4 ч вперед\n",
      "Расчет предсказания на 5 ч вперед\n",
      "Расчет предсказания на 6 ч вперед\n",
      "Расчет предсказания для региона - 1232, осталось обработать регионов - 67\n",
      "Расчет предсказания на 1 ч вперед\n"
     ]
    },
    {
     "name": "stderr",
     "output_type": "stream",
     "text": [
      "C:\\Program Files\\Conda_3\\lib\\site-packages\\ipykernel_launcher.py:1: PerformanceWarning: indexing past lexsort depth may impact performance.\n",
      "  \"\"\"Entry point for launching an IPython kernel.\n"
     ]
    },
    {
     "name": "stdout",
     "output_type": "stream",
     "text": [
      "Расчет предсказания на 2 ч вперед\n",
      "Расчет предсказания на 3 ч вперед\n",
      "Расчет предсказания на 4 ч вперед\n",
      "Расчет предсказания на 5 ч вперед\n",
      "Расчет предсказания на 6 ч вперед\n",
      "Расчет предсказания для региона - 1233, осталось обработать регионов - 66\n",
      "Расчет предсказания на 1 ч вперед\n"
     ]
    },
    {
     "name": "stderr",
     "output_type": "stream",
     "text": [
      "C:\\Program Files\\Conda_3\\lib\\site-packages\\ipykernel_launcher.py:1: PerformanceWarning: indexing past lexsort depth may impact performance.\n",
      "  \"\"\"Entry point for launching an IPython kernel.\n"
     ]
    },
    {
     "name": "stdout",
     "output_type": "stream",
     "text": [
      "Расчет предсказания на 2 ч вперед\n",
      "Расчет предсказания на 3 ч вперед\n",
      "Расчет предсказания на 4 ч вперед\n",
      "Расчет предсказания на 5 ч вперед\n",
      "Расчет предсказания на 6 ч вперед\n",
      "Расчет предсказания для региона - 1234, осталось обработать регионов - 65\n",
      "Расчет предсказания на 1 ч вперед\n"
     ]
    },
    {
     "name": "stderr",
     "output_type": "stream",
     "text": [
      "C:\\Program Files\\Conda_3\\lib\\site-packages\\ipykernel_launcher.py:1: PerformanceWarning: indexing past lexsort depth may impact performance.\n",
      "  \"\"\"Entry point for launching an IPython kernel.\n"
     ]
    },
    {
     "name": "stdout",
     "output_type": "stream",
     "text": [
      "Расчет предсказания на 2 ч вперед\n",
      "Расчет предсказания на 3 ч вперед\n",
      "Расчет предсказания на 4 ч вперед\n",
      "Расчет предсказания на 5 ч вперед\n",
      "Расчет предсказания на 6 ч вперед\n",
      "Расчет предсказания для региона - 1235, осталось обработать регионов - 64\n",
      "Расчет предсказания на 1 ч вперед\n"
     ]
    },
    {
     "name": "stderr",
     "output_type": "stream",
     "text": [
      "C:\\Program Files\\Conda_3\\lib\\site-packages\\ipykernel_launcher.py:1: PerformanceWarning: indexing past lexsort depth may impact performance.\n",
      "  \"\"\"Entry point for launching an IPython kernel.\n"
     ]
    },
    {
     "name": "stdout",
     "output_type": "stream",
     "text": [
      "Расчет предсказания на 2 ч вперед\n",
      "Расчет предсказания на 3 ч вперед\n",
      "Расчет предсказания на 4 ч вперед\n",
      "Расчет предсказания на 5 ч вперед\n",
      "Расчет предсказания на 6 ч вперед\n",
      "Расчет предсказания для региона - 1272, осталось обработать регионов - 63\n",
      "Расчет предсказания на 1 ч вперед\n"
     ]
    },
    {
     "name": "stderr",
     "output_type": "stream",
     "text": [
      "C:\\Program Files\\Conda_3\\lib\\site-packages\\ipykernel_launcher.py:1: PerformanceWarning: indexing past lexsort depth may impact performance.\n",
      "  \"\"\"Entry point for launching an IPython kernel.\n"
     ]
    },
    {
     "name": "stdout",
     "output_type": "stream",
     "text": [
      "Расчет предсказания на 2 ч вперед\n",
      "Расчет предсказания на 3 ч вперед\n",
      "Расчет предсказания на 4 ч вперед\n",
      "Расчет предсказания на 5 ч вперед\n",
      "Расчет предсказания на 6 ч вперед\n",
      "Расчет предсказания для региона - 1273, осталось обработать регионов - 62\n",
      "Расчет предсказания на 1 ч вперед\n"
     ]
    },
    {
     "name": "stderr",
     "output_type": "stream",
     "text": [
      "C:\\Program Files\\Conda_3\\lib\\site-packages\\ipykernel_launcher.py:1: PerformanceWarning: indexing past lexsort depth may impact performance.\n",
      "  \"\"\"Entry point for launching an IPython kernel.\n"
     ]
    },
    {
     "name": "stdout",
     "output_type": "stream",
     "text": [
      "Расчет предсказания на 2 ч вперед\n",
      "Расчет предсказания на 3 ч вперед\n",
      "Расчет предсказания на 4 ч вперед\n",
      "Расчет предсказания на 5 ч вперед\n",
      "Расчет предсказания на 6 ч вперед\n",
      "Расчет предсказания для региона - 1274, осталось обработать регионов - 61\n",
      "Расчет предсказания на 1 ч вперед\n"
     ]
    },
    {
     "name": "stderr",
     "output_type": "stream",
     "text": [
      "C:\\Program Files\\Conda_3\\lib\\site-packages\\ipykernel_launcher.py:1: PerformanceWarning: indexing past lexsort depth may impact performance.\n",
      "  \"\"\"Entry point for launching an IPython kernel.\n"
     ]
    },
    {
     "name": "stdout",
     "output_type": "stream",
     "text": [
      "Расчет предсказания на 2 ч вперед\n",
      "Расчет предсказания на 3 ч вперед\n",
      "Расчет предсказания на 4 ч вперед\n",
      "Расчет предсказания на 5 ч вперед\n",
      "Расчет предсказания на 6 ч вперед\n",
      "Расчет предсказания для региона - 1278, осталось обработать регионов - 60\n",
      "Расчет предсказания на 1 ч вперед\n"
     ]
    },
    {
     "name": "stderr",
     "output_type": "stream",
     "text": [
      "C:\\Program Files\\Conda_3\\lib\\site-packages\\ipykernel_launcher.py:1: PerformanceWarning: indexing past lexsort depth may impact performance.\n",
      "  \"\"\"Entry point for launching an IPython kernel.\n"
     ]
    },
    {
     "name": "stdout",
     "output_type": "stream",
     "text": [
      "Расчет предсказания на 2 ч вперед\n",
      "Расчет предсказания на 3 ч вперед\n",
      "Расчет предсказания на 4 ч вперед\n",
      "Расчет предсказания на 5 ч вперед\n",
      "Расчет предсказания на 6 ч вперед\n",
      "Расчет предсказания для региона - 1279, осталось обработать регионов - 59\n",
      "Расчет предсказания на 1 ч вперед\n"
     ]
    },
    {
     "name": "stderr",
     "output_type": "stream",
     "text": [
      "C:\\Program Files\\Conda_3\\lib\\site-packages\\ipykernel_launcher.py:1: PerformanceWarning: indexing past lexsort depth may impact performance.\n",
      "  \"\"\"Entry point for launching an IPython kernel.\n"
     ]
    },
    {
     "name": "stdout",
     "output_type": "stream",
     "text": [
      "Расчет предсказания на 2 ч вперед\n",
      "Расчет предсказания на 3 ч вперед\n",
      "Расчет предсказания на 4 ч вперед\n",
      "Расчет предсказания на 5 ч вперед\n",
      "Расчет предсказания на 6 ч вперед\n",
      "Расчет предсказания для региона - 1280, осталось обработать регионов - 58\n",
      "Расчет предсказания на 1 ч вперед\n"
     ]
    },
    {
     "name": "stderr",
     "output_type": "stream",
     "text": [
      "C:\\Program Files\\Conda_3\\lib\\site-packages\\ipykernel_launcher.py:1: PerformanceWarning: indexing past lexsort depth may impact performance.\n",
      "  \"\"\"Entry point for launching an IPython kernel.\n"
     ]
    },
    {
     "name": "stdout",
     "output_type": "stream",
     "text": [
      "Расчет предсказания на 2 ч вперед\n",
      "Расчет предсказания на 3 ч вперед\n",
      "Расчет предсказания на 4 ч вперед\n",
      "Расчет предсказания на 5 ч вперед\n",
      "Расчет предсказания на 6 ч вперед\n",
      "Расчет предсказания для региона - 1281, осталось обработать регионов - 57\n",
      "Расчет предсказания на 1 ч вперед\n"
     ]
    },
    {
     "name": "stderr",
     "output_type": "stream",
     "text": [
      "C:\\Program Files\\Conda_3\\lib\\site-packages\\ipykernel_launcher.py:1: PerformanceWarning: indexing past lexsort depth may impact performance.\n",
      "  \"\"\"Entry point for launching an IPython kernel.\n"
     ]
    },
    {
     "name": "stdout",
     "output_type": "stream",
     "text": [
      "Расчет предсказания на 2 ч вперед\n",
      "Расчет предсказания на 3 ч вперед\n",
      "Расчет предсказания на 4 ч вперед\n",
      "Расчет предсказания на 5 ч вперед\n",
      "Расчет предсказания на 6 ч вперед\n",
      "Расчет предсказания для региона - 1282, осталось обработать регионов - 56\n",
      "Расчет предсказания на 1 ч вперед\n"
     ]
    },
    {
     "name": "stderr",
     "output_type": "stream",
     "text": [
      "C:\\Program Files\\Conda_3\\lib\\site-packages\\ipykernel_launcher.py:1: PerformanceWarning: indexing past lexsort depth may impact performance.\n",
      "  \"\"\"Entry point for launching an IPython kernel.\n"
     ]
    },
    {
     "name": "stdout",
     "output_type": "stream",
     "text": [
      "Расчет предсказания на 2 ч вперед\n",
      "Расчет предсказания на 3 ч вперед\n",
      "Расчет предсказания на 4 ч вперед\n",
      "Расчет предсказания на 5 ч вперед\n",
      "Расчет предсказания на 6 ч вперед\n",
      "Расчет предсказания для региона - 1283, осталось обработать регионов - 55\n",
      "Расчет предсказания на 1 ч вперед\n"
     ]
    },
    {
     "name": "stderr",
     "output_type": "stream",
     "text": [
      "C:\\Program Files\\Conda_3\\lib\\site-packages\\ipykernel_launcher.py:1: PerformanceWarning: indexing past lexsort depth may impact performance.\n",
      "  \"\"\"Entry point for launching an IPython kernel.\n"
     ]
    },
    {
     "name": "stdout",
     "output_type": "stream",
     "text": [
      "Расчет предсказания на 2 ч вперед\n",
      "Расчет предсказания на 3 ч вперед\n",
      "Расчет предсказания на 4 ч вперед\n",
      "Расчет предсказания на 5 ч вперед\n",
      "Расчет предсказания на 6 ч вперед\n",
      "Расчет предсказания для региона - 1284, осталось обработать регионов - 54\n",
      "Расчет предсказания на 1 ч вперед\n"
     ]
    },
    {
     "name": "stderr",
     "output_type": "stream",
     "text": [
      "C:\\Program Files\\Conda_3\\lib\\site-packages\\ipykernel_launcher.py:1: PerformanceWarning: indexing past lexsort depth may impact performance.\n",
      "  \"\"\"Entry point for launching an IPython kernel.\n"
     ]
    },
    {
     "name": "stdout",
     "output_type": "stream",
     "text": [
      "Расчет предсказания на 2 ч вперед\n",
      "Расчет предсказания на 3 ч вперед\n",
      "Расчет предсказания на 4 ч вперед\n",
      "Расчет предсказания на 5 ч вперед\n",
      "Расчет предсказания на 6 ч вперед\n",
      "Расчет предсказания для региона - 1285, осталось обработать регионов - 53\n",
      "Расчет предсказания на 1 ч вперед\n"
     ]
    },
    {
     "name": "stderr",
     "output_type": "stream",
     "text": [
      "C:\\Program Files\\Conda_3\\lib\\site-packages\\ipykernel_launcher.py:1: PerformanceWarning: indexing past lexsort depth may impact performance.\n",
      "  \"\"\"Entry point for launching an IPython kernel.\n"
     ]
    },
    {
     "name": "stdout",
     "output_type": "stream",
     "text": [
      "Расчет предсказания на 2 ч вперед\n",
      "Расчет предсказания на 3 ч вперед\n",
      "Расчет предсказания на 4 ч вперед\n",
      "Расчет предсказания на 5 ч вперед\n",
      "Расчет предсказания на 6 ч вперед\n",
      "Расчет предсказания для региона - 1286, осталось обработать регионов - 52\n",
      "Расчет предсказания на 1 ч вперед\n"
     ]
    },
    {
     "name": "stderr",
     "output_type": "stream",
     "text": [
      "C:\\Program Files\\Conda_3\\lib\\site-packages\\ipykernel_launcher.py:1: PerformanceWarning: indexing past lexsort depth may impact performance.\n",
      "  \"\"\"Entry point for launching an IPython kernel.\n"
     ]
    },
    {
     "name": "stdout",
     "output_type": "stream",
     "text": [
      "Расчет предсказания на 2 ч вперед\n",
      "Расчет предсказания на 3 ч вперед\n",
      "Расчет предсказания на 4 ч вперед\n",
      "Расчет предсказания на 5 ч вперед\n",
      "Расчет предсказания на 6 ч вперед\n",
      "Расчет предсказания для региона - 1287, осталось обработать регионов - 51\n",
      "Расчет предсказания на 1 ч вперед\n"
     ]
    },
    {
     "name": "stderr",
     "output_type": "stream",
     "text": [
      "C:\\Program Files\\Conda_3\\lib\\site-packages\\ipykernel_launcher.py:1: PerformanceWarning: indexing past lexsort depth may impact performance.\n",
      "  \"\"\"Entry point for launching an IPython kernel.\n"
     ]
    },
    {
     "name": "stdout",
     "output_type": "stream",
     "text": [
      "Расчет предсказания на 2 ч вперед\n",
      "Расчет предсказания на 3 ч вперед\n",
      "Расчет предсказания на 4 ч вперед\n",
      "Расчет предсказания на 5 ч вперед\n",
      "Расчет предсказания на 6 ч вперед\n",
      "Расчет предсказания для региона - 1326, осталось обработать регионов - 50\n",
      "Расчет предсказания на 1 ч вперед\n"
     ]
    },
    {
     "name": "stderr",
     "output_type": "stream",
     "text": [
      "C:\\Program Files\\Conda_3\\lib\\site-packages\\ipykernel_launcher.py:1: PerformanceWarning: indexing past lexsort depth may impact performance.\n",
      "  \"\"\"Entry point for launching an IPython kernel.\n"
     ]
    },
    {
     "name": "stdout",
     "output_type": "stream",
     "text": [
      "Расчет предсказания на 2 ч вперед\n",
      "Расчет предсказания на 3 ч вперед\n",
      "Расчет предсказания на 4 ч вперед\n",
      "Расчет предсказания на 5 ч вперед\n",
      "Расчет предсказания на 6 ч вперед\n",
      "Расчет предсказания для региона - 1327, осталось обработать регионов - 49\n",
      "Расчет предсказания на 1 ч вперед\n"
     ]
    },
    {
     "name": "stderr",
     "output_type": "stream",
     "text": [
      "C:\\Program Files\\Conda_3\\lib\\site-packages\\ipykernel_launcher.py:1: PerformanceWarning: indexing past lexsort depth may impact performance.\n",
      "  \"\"\"Entry point for launching an IPython kernel.\n"
     ]
    },
    {
     "name": "stdout",
     "output_type": "stream",
     "text": [
      "Расчет предсказания на 2 ч вперед\n",
      "Расчет предсказания на 3 ч вперед\n",
      "Расчет предсказания на 4 ч вперед\n",
      "Расчет предсказания на 5 ч вперед\n",
      "Расчет предсказания на 6 ч вперед\n",
      "Расчет предсказания для региона - 1331, осталось обработать регионов - 48\n",
      "Расчет предсказания на 1 ч вперед\n"
     ]
    },
    {
     "name": "stderr",
     "output_type": "stream",
     "text": [
      "C:\\Program Files\\Conda_3\\lib\\site-packages\\ipykernel_launcher.py:1: PerformanceWarning: indexing past lexsort depth may impact performance.\n",
      "  \"\"\"Entry point for launching an IPython kernel.\n"
     ]
    },
    {
     "name": "stdout",
     "output_type": "stream",
     "text": [
      "Расчет предсказания на 2 ч вперед\n",
      "Расчет предсказания на 3 ч вперед\n",
      "Расчет предсказания на 4 ч вперед\n",
      "Расчет предсказания на 5 ч вперед\n",
      "Расчет предсказания на 6 ч вперед\n",
      "Расчет предсказания для региона - 1332, осталось обработать регионов - 47\n",
      "Расчет предсказания на 1 ч вперед\n"
     ]
    },
    {
     "name": "stderr",
     "output_type": "stream",
     "text": [
      "C:\\Program Files\\Conda_3\\lib\\site-packages\\ipykernel_launcher.py:1: PerformanceWarning: indexing past lexsort depth may impact performance.\n",
      "  \"\"\"Entry point for launching an IPython kernel.\n"
     ]
    },
    {
     "name": "stdout",
     "output_type": "stream",
     "text": [
      "Расчет предсказания на 2 ч вперед\n",
      "Расчет предсказания на 3 ч вперед\n",
      "Расчет предсказания на 4 ч вперед\n",
      "Расчет предсказания на 5 ч вперед\n",
      "Расчет предсказания на 6 ч вперед\n",
      "Расчет предсказания для региона - 1333, осталось обработать регионов - 46\n",
      "Расчет предсказания на 1 ч вперед\n"
     ]
    },
    {
     "name": "stderr",
     "output_type": "stream",
     "text": [
      "C:\\Program Files\\Conda_3\\lib\\site-packages\\ipykernel_launcher.py:1: PerformanceWarning: indexing past lexsort depth may impact performance.\n",
      "  \"\"\"Entry point for launching an IPython kernel.\n"
     ]
    },
    {
     "name": "stdout",
     "output_type": "stream",
     "text": [
      "Расчет предсказания на 2 ч вперед\n",
      "Расчет предсказания на 3 ч вперед\n",
      "Расчет предсказания на 4 ч вперед\n",
      "Расчет предсказания на 5 ч вперед\n",
      "Расчет предсказания на 6 ч вперед\n",
      "Расчет предсказания для региона - 1334, осталось обработать регионов - 45\n",
      "Расчет предсказания на 1 ч вперед\n"
     ]
    },
    {
     "name": "stderr",
     "output_type": "stream",
     "text": [
      "C:\\Program Files\\Conda_3\\lib\\site-packages\\ipykernel_launcher.py:1: PerformanceWarning: indexing past lexsort depth may impact performance.\n",
      "  \"\"\"Entry point for launching an IPython kernel.\n"
     ]
    },
    {
     "name": "stdout",
     "output_type": "stream",
     "text": [
      "Расчет предсказания на 2 ч вперед\n",
      "Расчет предсказания на 3 ч вперед\n",
      "Расчет предсказания на 4 ч вперед\n",
      "Расчет предсказания на 5 ч вперед\n",
      "Расчет предсказания на 6 ч вперед\n",
      "Расчет предсказания для региона - 1335, осталось обработать регионов - 44\n",
      "Расчет предсказания на 1 ч вперед\n"
     ]
    },
    {
     "name": "stderr",
     "output_type": "stream",
     "text": [
      "C:\\Program Files\\Conda_3\\lib\\site-packages\\ipykernel_launcher.py:1: PerformanceWarning: indexing past lexsort depth may impact performance.\n",
      "  \"\"\"Entry point for launching an IPython kernel.\n"
     ]
    },
    {
     "name": "stdout",
     "output_type": "stream",
     "text": [
      "Расчет предсказания на 2 ч вперед\n",
      "Расчет предсказания на 3 ч вперед\n",
      "Расчет предсказания на 4 ч вперед\n",
      "Расчет предсказания на 5 ч вперед\n",
      "Расчет предсказания на 6 ч вперед\n",
      "Расчет предсказания для региона - 1336, осталось обработать регионов - 43\n",
      "Расчет предсказания на 1 ч вперед\n"
     ]
    },
    {
     "name": "stderr",
     "output_type": "stream",
     "text": [
      "C:\\Program Files\\Conda_3\\lib\\site-packages\\ipykernel_launcher.py:1: PerformanceWarning: indexing past lexsort depth may impact performance.\n",
      "  \"\"\"Entry point for launching an IPython kernel.\n"
     ]
    },
    {
     "name": "stdout",
     "output_type": "stream",
     "text": [
      "Расчет предсказания на 2 ч вперед\n",
      "Расчет предсказания на 3 ч вперед\n",
      "Расчет предсказания на 4 ч вперед\n",
      "Расчет предсказания на 5 ч вперед\n",
      "Расчет предсказания на 6 ч вперед\n",
      "Расчет предсказания для региона - 1337, осталось обработать регионов - 42\n",
      "Расчет предсказания на 1 ч вперед\n"
     ]
    },
    {
     "name": "stderr",
     "output_type": "stream",
     "text": [
      "C:\\Program Files\\Conda_3\\lib\\site-packages\\ipykernel_launcher.py:1: PerformanceWarning: indexing past lexsort depth may impact performance.\n",
      "  \"\"\"Entry point for launching an IPython kernel.\n"
     ]
    },
    {
     "name": "stdout",
     "output_type": "stream",
     "text": [
      "Расчет предсказания на 2 ч вперед\n",
      "Расчет предсказания на 3 ч вперед\n",
      "Расчет предсказания на 4 ч вперед\n",
      "Расчет предсказания на 5 ч вперед\n",
      "Расчет предсказания на 6 ч вперед\n",
      "Расчет предсказания для региона - 1338, осталось обработать регионов - 41\n",
      "Расчет предсказания на 1 ч вперед\n"
     ]
    },
    {
     "name": "stderr",
     "output_type": "stream",
     "text": [
      "C:\\Program Files\\Conda_3\\lib\\site-packages\\ipykernel_launcher.py:1: PerformanceWarning: indexing past lexsort depth may impact performance.\n",
      "  \"\"\"Entry point for launching an IPython kernel.\n"
     ]
    },
    {
     "name": "stdout",
     "output_type": "stream",
     "text": [
      "Расчет предсказания на 2 ч вперед\n",
      "Расчет предсказания на 3 ч вперед\n",
      "Расчет предсказания на 4 ч вперед\n",
      "Расчет предсказания на 5 ч вперед\n",
      "Расчет предсказания на 6 ч вперед\n",
      "Расчет предсказания для региона - 1339, осталось обработать регионов - 40\n",
      "Расчет предсказания на 1 ч вперед\n"
     ]
    },
    {
     "name": "stderr",
     "output_type": "stream",
     "text": [
      "C:\\Program Files\\Conda_3\\lib\\site-packages\\ipykernel_launcher.py:1: PerformanceWarning: indexing past lexsort depth may impact performance.\n",
      "  \"\"\"Entry point for launching an IPython kernel.\n"
     ]
    },
    {
     "name": "stdout",
     "output_type": "stream",
     "text": [
      "Расчет предсказания на 2 ч вперед\n",
      "Расчет предсказания на 3 ч вперед\n",
      "Расчет предсказания на 4 ч вперед\n",
      "Расчет предсказания на 5 ч вперед\n",
      "Расчет предсказания на 6 ч вперед\n",
      "Расчет предсказания для региона - 1376, осталось обработать регионов - 39\n",
      "Расчет предсказания на 1 ч вперед\n"
     ]
    },
    {
     "name": "stderr",
     "output_type": "stream",
     "text": [
      "C:\\Program Files\\Conda_3\\lib\\site-packages\\ipykernel_launcher.py:1: PerformanceWarning: indexing past lexsort depth may impact performance.\n",
      "  \"\"\"Entry point for launching an IPython kernel.\n"
     ]
    },
    {
     "name": "stdout",
     "output_type": "stream",
     "text": [
      "Расчет предсказания на 2 ч вперед\n",
      "Расчет предсказания на 3 ч вперед\n",
      "Расчет предсказания на 4 ч вперед\n",
      "Расчет предсказания на 5 ч вперед\n",
      "Расчет предсказания на 6 ч вперед\n",
      "Расчет предсказания для региона - 1377, осталось обработать регионов - 38\n",
      "Расчет предсказания на 1 ч вперед\n"
     ]
    },
    {
     "name": "stderr",
     "output_type": "stream",
     "text": [
      "C:\\Program Files\\Conda_3\\lib\\site-packages\\ipykernel_launcher.py:1: PerformanceWarning: indexing past lexsort depth may impact performance.\n",
      "  \"\"\"Entry point for launching an IPython kernel.\n"
     ]
    },
    {
     "name": "stdout",
     "output_type": "stream",
     "text": [
      "Расчет предсказания на 2 ч вперед\n",
      "Расчет предсказания на 3 ч вперед\n",
      "Расчет предсказания на 4 ч вперед\n",
      "Расчет предсказания на 5 ч вперед\n",
      "Расчет предсказания на 6 ч вперед\n",
      "Расчет предсказания для региона - 1378, осталось обработать регионов - 37\n"
     ]
    },
    {
     "name": "stderr",
     "output_type": "stream",
     "text": [
      "C:\\Program Files\\Conda_3\\lib\\site-packages\\ipykernel_launcher.py:1: PerformanceWarning: indexing past lexsort depth may impact performance.\n",
      "  \"\"\"Entry point for launching an IPython kernel.\n"
     ]
    },
    {
     "name": "stdout",
     "output_type": "stream",
     "text": [
      "Расчет предсказания на 1 ч вперед\n",
      "Расчет предсказания на 2 ч вперед\n",
      "Расчет предсказания на 3 ч вперед\n",
      "Расчет предсказания на 4 ч вперед\n",
      "Расчет предсказания на 5 ч вперед\n",
      "Расчет предсказания на 6 ч вперед\n",
      "Расчет предсказания для региона - 1380, осталось обработать регионов - 36\n",
      "Расчет предсказания на 1 ч вперед\n"
     ]
    },
    {
     "name": "stderr",
     "output_type": "stream",
     "text": [
      "C:\\Program Files\\Conda_3\\lib\\site-packages\\ipykernel_launcher.py:1: PerformanceWarning: indexing past lexsort depth may impact performance.\n",
      "  \"\"\"Entry point for launching an IPython kernel.\n"
     ]
    },
    {
     "name": "stdout",
     "output_type": "stream",
     "text": [
      "Расчет предсказания на 2 ч вперед\n",
      "Расчет предсказания на 3 ч вперед\n",
      "Расчет предсказания на 4 ч вперед\n",
      "Расчет предсказания на 5 ч вперед\n",
      "Расчет предсказания на 6 ч вперед\n",
      "Расчет предсказания для региона - 1382, осталось обработать регионов - 35\n",
      "Расчет предсказания на 1 ч вперед\n"
     ]
    },
    {
     "name": "stderr",
     "output_type": "stream",
     "text": [
      "C:\\Program Files\\Conda_3\\lib\\site-packages\\ipykernel_launcher.py:1: PerformanceWarning: indexing past lexsort depth may impact performance.\n",
      "  \"\"\"Entry point for launching an IPython kernel.\n"
     ]
    },
    {
     "name": "stdout",
     "output_type": "stream",
     "text": [
      "Расчет предсказания на 2 ч вперед\n",
      "Расчет предсказания на 3 ч вперед\n",
      "Расчет предсказания на 4 ч вперед\n",
      "Расчет предсказания на 5 ч вперед\n",
      "Расчет предсказания на 6 ч вперед\n",
      "Расчет предсказания для региона - 1383, осталось обработать регионов - 34\n",
      "Расчет предсказания на 1 ч вперед\n"
     ]
    },
    {
     "name": "stderr",
     "output_type": "stream",
     "text": [
      "C:\\Program Files\\Conda_3\\lib\\site-packages\\ipykernel_launcher.py:1: PerformanceWarning: indexing past lexsort depth may impact performance.\n",
      "  \"\"\"Entry point for launching an IPython kernel.\n"
     ]
    },
    {
     "name": "stdout",
     "output_type": "stream",
     "text": [
      "Расчет предсказания на 2 ч вперед\n",
      "Расчет предсказания на 3 ч вперед\n",
      "Расчет предсказания на 4 ч вперед\n",
      "Расчет предсказания на 5 ч вперед\n",
      "Расчет предсказания на 6 ч вперед\n",
      "Расчет предсказания для региона - 1384, осталось обработать регионов - 33\n",
      "Расчет предсказания на 1 ч вперед\n"
     ]
    },
    {
     "name": "stderr",
     "output_type": "stream",
     "text": [
      "C:\\Program Files\\Conda_3\\lib\\site-packages\\ipykernel_launcher.py:1: PerformanceWarning: indexing past lexsort depth may impact performance.\n",
      "  \"\"\"Entry point for launching an IPython kernel.\n"
     ]
    },
    {
     "name": "stdout",
     "output_type": "stream",
     "text": [
      "Расчет предсказания на 2 ч вперед\n",
      "Расчет предсказания на 3 ч вперед\n",
      "Расчет предсказания на 4 ч вперед\n",
      "Расчет предсказания на 5 ч вперед\n",
      "Расчет предсказания на 6 ч вперед\n",
      "Расчет предсказания для региона - 1385, осталось обработать регионов - 32\n",
      "Расчет предсказания на 1 ч вперед\n"
     ]
    },
    {
     "name": "stderr",
     "output_type": "stream",
     "text": [
      "C:\\Program Files\\Conda_3\\lib\\site-packages\\ipykernel_launcher.py:1: PerformanceWarning: indexing past lexsort depth may impact performance.\n",
      "  \"\"\"Entry point for launching an IPython kernel.\n"
     ]
    },
    {
     "name": "stdout",
     "output_type": "stream",
     "text": [
      "Расчет предсказания на 2 ч вперед\n",
      "Расчет предсказания на 3 ч вперед\n",
      "Расчет предсказания на 4 ч вперед\n",
      "Расчет предсказания на 5 ч вперед\n",
      "Расчет предсказания на 6 ч вперед\n",
      "Расчет предсказания для региона - 1386, осталось обработать регионов - 31\n",
      "Расчет предсказания на 1 ч вперед\n"
     ]
    },
    {
     "name": "stderr",
     "output_type": "stream",
     "text": [
      "C:\\Program Files\\Conda_3\\lib\\site-packages\\ipykernel_launcher.py:1: PerformanceWarning: indexing past lexsort depth may impact performance.\n",
      "  \"\"\"Entry point for launching an IPython kernel.\n"
     ]
    },
    {
     "name": "stdout",
     "output_type": "stream",
     "text": [
      "Расчет предсказания на 2 ч вперед\n",
      "Расчет предсказания на 3 ч вперед\n",
      "Расчет предсказания на 4 ч вперед\n",
      "Расчет предсказания на 5 ч вперед\n",
      "Расчет предсказания на 6 ч вперед\n",
      "Расчет предсказания для региона - 1387, осталось обработать регионов - 30\n",
      "Расчет предсказания на 1 ч вперед\n"
     ]
    },
    {
     "name": "stderr",
     "output_type": "stream",
     "text": [
      "C:\\Program Files\\Conda_3\\lib\\site-packages\\ipykernel_launcher.py:1: PerformanceWarning: indexing past lexsort depth may impact performance.\n",
      "  \"\"\"Entry point for launching an IPython kernel.\n"
     ]
    },
    {
     "name": "stdout",
     "output_type": "stream",
     "text": [
      "Расчет предсказания на 2 ч вперед\n",
      "Расчет предсказания на 3 ч вперед\n",
      "Расчет предсказания на 4 ч вперед\n",
      "Расчет предсказания на 5 ч вперед\n",
      "Расчет предсказания на 6 ч вперед\n",
      "Расчет предсказания для региона - 1388, осталось обработать регионов - 29\n",
      "Расчет предсказания на 1 ч вперед\n"
     ]
    },
    {
     "name": "stderr",
     "output_type": "stream",
     "text": [
      "C:\\Program Files\\Conda_3\\lib\\site-packages\\ipykernel_launcher.py:1: PerformanceWarning: indexing past lexsort depth may impact performance.\n",
      "  \"\"\"Entry point for launching an IPython kernel.\n"
     ]
    },
    {
     "name": "stdout",
     "output_type": "stream",
     "text": [
      "Расчет предсказания на 2 ч вперед\n",
      "Расчет предсказания на 3 ч вперед\n",
      "Расчет предсказания на 4 ч вперед\n",
      "Расчет предсказания на 5 ч вперед\n",
      "Расчет предсказания на 6 ч вперед\n",
      "Расчет предсказания для региона - 1389, осталось обработать регионов - 28\n",
      "Расчет предсказания на 1 ч вперед\n"
     ]
    },
    {
     "name": "stderr",
     "output_type": "stream",
     "text": [
      "C:\\Program Files\\Conda_3\\lib\\site-packages\\ipykernel_launcher.py:1: PerformanceWarning: indexing past lexsort depth may impact performance.\n",
      "  \"\"\"Entry point for launching an IPython kernel.\n"
     ]
    },
    {
     "name": "stdout",
     "output_type": "stream",
     "text": [
      "Расчет предсказания на 2 ч вперед\n",
      "Расчет предсказания на 3 ч вперед\n",
      "Расчет предсказания на 4 ч вперед\n",
      "Расчет предсказания на 5 ч вперед\n",
      "Расчет предсказания на 6 ч вперед\n",
      "Расчет предсказания для региона - 1390, осталось обработать регионов - 27\n",
      "Расчет предсказания на 1 ч вперед\n"
     ]
    },
    {
     "name": "stderr",
     "output_type": "stream",
     "text": [
      "C:\\Program Files\\Conda_3\\lib\\site-packages\\ipykernel_launcher.py:1: PerformanceWarning: indexing past lexsort depth may impact performance.\n",
      "  \"\"\"Entry point for launching an IPython kernel.\n"
     ]
    },
    {
     "name": "stdout",
     "output_type": "stream",
     "text": [
      "Расчет предсказания на 2 ч вперед\n",
      "Расчет предсказания на 3 ч вперед\n",
      "Расчет предсказания на 4 ч вперед\n",
      "Расчет предсказания на 5 ч вперед\n",
      "Расчет предсказания на 6 ч вперед\n",
      "Расчет предсказания для региона - 1426, осталось обработать регионов - 26\n",
      "Расчет предсказания на 1 ч вперед\n"
     ]
    },
    {
     "name": "stderr",
     "output_type": "stream",
     "text": [
      "C:\\Program Files\\Conda_3\\lib\\site-packages\\ipykernel_launcher.py:1: PerformanceWarning: indexing past lexsort depth may impact performance.\n",
      "  \"\"\"Entry point for launching an IPython kernel.\n"
     ]
    },
    {
     "name": "stdout",
     "output_type": "stream",
     "text": [
      "Расчет предсказания на 2 ч вперед\n",
      "Расчет предсказания на 3 ч вперед\n",
      "Расчет предсказания на 4 ч вперед\n",
      "Расчет предсказания на 5 ч вперед\n",
      "Расчет предсказания на 6 ч вперед\n",
      "Расчет предсказания для региона - 1431, осталось обработать регионов - 25\n",
      "Расчет предсказания на 1 ч вперед\n"
     ]
    },
    {
     "name": "stderr",
     "output_type": "stream",
     "text": [
      "C:\\Program Files\\Conda_3\\lib\\site-packages\\ipykernel_launcher.py:1: PerformanceWarning: indexing past lexsort depth may impact performance.\n",
      "  \"\"\"Entry point for launching an IPython kernel.\n"
     ]
    },
    {
     "name": "stdout",
     "output_type": "stream",
     "text": [
      "Расчет предсказания на 2 ч вперед\n",
      "Расчет предсказания на 3 ч вперед\n",
      "Расчет предсказания на 4 ч вперед\n",
      "Расчет предсказания на 5 ч вперед\n",
      "Расчет предсказания на 6 ч вперед\n",
      "Расчет предсказания для региона - 1434, осталось обработать регионов - 24\n",
      "Расчет предсказания на 1 ч вперед\n"
     ]
    },
    {
     "name": "stderr",
     "output_type": "stream",
     "text": [
      "C:\\Program Files\\Conda_3\\lib\\site-packages\\ipykernel_launcher.py:1: PerformanceWarning: indexing past lexsort depth may impact performance.\n",
      "  \"\"\"Entry point for launching an IPython kernel.\n"
     ]
    },
    {
     "name": "stdout",
     "output_type": "stream",
     "text": [
      "Расчет предсказания на 2 ч вперед\n",
      "Расчет предсказания на 3 ч вперед\n",
      "Расчет предсказания на 4 ч вперед\n",
      "Расчет предсказания на 5 ч вперед\n",
      "Расчет предсказания на 6 ч вперед\n",
      "Расчет предсказания для региона - 1435, осталось обработать регионов - 23\n",
      "Расчет предсказания на 1 ч вперед\n"
     ]
    },
    {
     "name": "stderr",
     "output_type": "stream",
     "text": [
      "C:\\Program Files\\Conda_3\\lib\\site-packages\\ipykernel_launcher.py:1: PerformanceWarning: indexing past lexsort depth may impact performance.\n",
      "  \"\"\"Entry point for launching an IPython kernel.\n"
     ]
    },
    {
     "name": "stdout",
     "output_type": "stream",
     "text": [
      "Расчет предсказания на 2 ч вперед\n",
      "Расчет предсказания на 3 ч вперед\n",
      "Расчет предсказания на 4 ч вперед\n",
      "Расчет предсказания на 5 ч вперед\n",
      "Расчет предсказания на 6 ч вперед\n",
      "Расчет предсказания для региона - 1436, осталось обработать регионов - 22\n",
      "Расчет предсказания на 1 ч вперед\n"
     ]
    },
    {
     "name": "stderr",
     "output_type": "stream",
     "text": [
      "C:\\Program Files\\Conda_3\\lib\\site-packages\\ipykernel_launcher.py:1: PerformanceWarning: indexing past lexsort depth may impact performance.\n",
      "  \"\"\"Entry point for launching an IPython kernel.\n"
     ]
    },
    {
     "name": "stdout",
     "output_type": "stream",
     "text": [
      "Расчет предсказания на 2 ч вперед\n",
      "Расчет предсказания на 3 ч вперед\n",
      "Расчет предсказания на 4 ч вперед\n",
      "Расчет предсказания на 5 ч вперед\n",
      "Расчет предсказания на 6 ч вперед\n",
      "Расчет предсказания для региона - 1437, осталось обработать регионов - 21\n",
      "Расчет предсказания на 1 ч вперед\n"
     ]
    },
    {
     "name": "stderr",
     "output_type": "stream",
     "text": [
      "C:\\Program Files\\Conda_3\\lib\\site-packages\\ipykernel_launcher.py:1: PerformanceWarning: indexing past lexsort depth may impact performance.\n",
      "  \"\"\"Entry point for launching an IPython kernel.\n"
     ]
    },
    {
     "name": "stdout",
     "output_type": "stream",
     "text": [
      "Расчет предсказания на 2 ч вперед\n",
      "Расчет предсказания на 3 ч вперед\n",
      "Расчет предсказания на 4 ч вперед\n",
      "Расчет предсказания на 5 ч вперед\n",
      "Расчет предсказания на 6 ч вперед\n",
      "Расчет предсказания для региона - 1438, осталось обработать регионов - 20\n",
      "Расчет предсказания на 1 ч вперед\n"
     ]
    },
    {
     "name": "stderr",
     "output_type": "stream",
     "text": [
      "C:\\Program Files\\Conda_3\\lib\\site-packages\\ipykernel_launcher.py:1: PerformanceWarning: indexing past lexsort depth may impact performance.\n",
      "  \"\"\"Entry point for launching an IPython kernel.\n"
     ]
    },
    {
     "name": "stdout",
     "output_type": "stream",
     "text": [
      "Расчет предсказания на 2 ч вперед\n",
      "Расчет предсказания на 3 ч вперед\n",
      "Расчет предсказания на 4 ч вперед\n",
      "Расчет предсказания на 5 ч вперед\n",
      "Расчет предсказания на 6 ч вперед\n",
      "Расчет предсказания для региона - 1439, осталось обработать регионов - 19\n",
      "Расчет предсказания на 1 ч вперед\n"
     ]
    },
    {
     "name": "stderr",
     "output_type": "stream",
     "text": [
      "C:\\Program Files\\Conda_3\\lib\\site-packages\\ipykernel_launcher.py:1: PerformanceWarning: indexing past lexsort depth may impact performance.\n",
      "  \"\"\"Entry point for launching an IPython kernel.\n"
     ]
    },
    {
     "name": "stdout",
     "output_type": "stream",
     "text": [
      "Расчет предсказания на 2 ч вперед\n",
      "Расчет предсказания на 3 ч вперед\n",
      "Расчет предсказания на 4 ч вперед\n",
      "Расчет предсказания на 5 ч вперед\n",
      "Расчет предсказания на 6 ч вперед\n",
      "Расчет предсказания для региона - 1441, осталось обработать регионов - 18\n",
      "Расчет предсказания на 1 ч вперед\n"
     ]
    },
    {
     "name": "stderr",
     "output_type": "stream",
     "text": [
      "C:\\Program Files\\Conda_3\\lib\\site-packages\\ipykernel_launcher.py:1: PerformanceWarning: indexing past lexsort depth may impact performance.\n",
      "  \"\"\"Entry point for launching an IPython kernel.\n"
     ]
    },
    {
     "name": "stdout",
     "output_type": "stream",
     "text": [
      "Расчет предсказания на 2 ч вперед\n",
      "Расчет предсказания на 3 ч вперед\n",
      "Расчет предсказания на 4 ч вперед\n",
      "Расчет предсказания на 5 ч вперед\n",
      "Расчет предсказания на 6 ч вперед\n",
      "Расчет предсказания для региона - 1442, осталось обработать регионов - 17\n",
      "Расчет предсказания на 1 ч вперед\n"
     ]
    },
    {
     "name": "stderr",
     "output_type": "stream",
     "text": [
      "C:\\Program Files\\Conda_3\\lib\\site-packages\\ipykernel_launcher.py:1: PerformanceWarning: indexing past lexsort depth may impact performance.\n",
      "  \"\"\"Entry point for launching an IPython kernel.\n"
     ]
    },
    {
     "name": "stdout",
     "output_type": "stream",
     "text": [
      "Расчет предсказания на 2 ч вперед\n",
      "Расчет предсказания на 3 ч вперед\n",
      "Расчет предсказания на 4 ч вперед\n",
      "Расчет предсказания на 5 ч вперед\n",
      "Расчет предсказания на 6 ч вперед\n",
      "Расчет предсказания для региона - 1480, осталось обработать регионов - 16\n",
      "Расчет предсказания на 1 ч вперед\n"
     ]
    },
    {
     "name": "stderr",
     "output_type": "stream",
     "text": [
      "C:\\Program Files\\Conda_3\\lib\\site-packages\\ipykernel_launcher.py:1: PerformanceWarning: indexing past lexsort depth may impact performance.\n",
      "  \"\"\"Entry point for launching an IPython kernel.\n"
     ]
    },
    {
     "name": "stdout",
     "output_type": "stream",
     "text": [
      "Расчет предсказания на 2 ч вперед\n",
      "Расчет предсказания на 3 ч вперед\n",
      "Расчет предсказания на 4 ч вперед\n",
      "Расчет предсказания на 5 ч вперед\n",
      "Расчет предсказания на 6 ч вперед\n",
      "Расчет предсказания для региона - 1482, осталось обработать регионов - 15\n",
      "Расчет предсказания на 1 ч вперед\n"
     ]
    },
    {
     "name": "stderr",
     "output_type": "stream",
     "text": [
      "C:\\Program Files\\Conda_3\\lib\\site-packages\\ipykernel_launcher.py:1: PerformanceWarning: indexing past lexsort depth may impact performance.\n",
      "  \"\"\"Entry point for launching an IPython kernel.\n"
     ]
    },
    {
     "name": "stdout",
     "output_type": "stream",
     "text": [
      "Расчет предсказания на 2 ч вперед\n",
      "Расчет предсказания на 3 ч вперед\n",
      "Расчет предсказания на 4 ч вперед\n",
      "Расчет предсказания на 5 ч вперед\n",
      "Расчет предсказания на 6 ч вперед\n",
      "Расчет предсказания для региона - 1483, осталось обработать регионов - 14\n",
      "Расчет предсказания на 1 ч вперед\n"
     ]
    },
    {
     "name": "stderr",
     "output_type": "stream",
     "text": [
      "C:\\Program Files\\Conda_3\\lib\\site-packages\\ipykernel_launcher.py:1: PerformanceWarning: indexing past lexsort depth may impact performance.\n",
      "  \"\"\"Entry point for launching an IPython kernel.\n"
     ]
    },
    {
     "name": "stdout",
     "output_type": "stream",
     "text": [
      "Расчет предсказания на 2 ч вперед\n",
      "Расчет предсказания на 3 ч вперед\n",
      "Расчет предсказания на 4 ч вперед\n",
      "Расчет предсказания на 5 ч вперед\n",
      "Расчет предсказания на 6 ч вперед\n",
      "Расчет предсказания для региона - 1530, осталось обработать регионов - 13\n",
      "Расчет предсказания на 1 ч вперед\n"
     ]
    },
    {
     "name": "stderr",
     "output_type": "stream",
     "text": [
      "C:\\Program Files\\Conda_3\\lib\\site-packages\\ipykernel_launcher.py:1: PerformanceWarning: indexing past lexsort depth may impact performance.\n",
      "  \"\"\"Entry point for launching an IPython kernel.\n"
     ]
    },
    {
     "name": "stdout",
     "output_type": "stream",
     "text": [
      "Расчет предсказания на 2 ч вперед\n",
      "Расчет предсказания на 3 ч вперед\n",
      "Расчет предсказания на 4 ч вперед\n",
      "Расчет предсказания на 5 ч вперед\n",
      "Расчет предсказания на 6 ч вперед\n",
      "Расчет предсказания для региона - 1532, осталось обработать регионов - 12\n",
      "Расчет предсказания на 1 ч вперед\n"
     ]
    },
    {
     "name": "stderr",
     "output_type": "stream",
     "text": [
      "C:\\Program Files\\Conda_3\\lib\\site-packages\\ipykernel_launcher.py:1: PerformanceWarning: indexing past lexsort depth may impact performance.\n",
      "  \"\"\"Entry point for launching an IPython kernel.\n"
     ]
    },
    {
     "name": "stdout",
     "output_type": "stream",
     "text": [
      "Расчет предсказания на 2 ч вперед\n",
      "Расчет предсказания на 3 ч вперед\n",
      "Расчет предсказания на 4 ч вперед\n",
      "Расчет предсказания на 5 ч вперед\n",
      "Расчет предсказания на 6 ч вперед\n",
      "Расчет предсказания для региона - 1533, осталось обработать регионов - 11\n",
      "Расчет предсказания на 1 ч вперед\n"
     ]
    },
    {
     "name": "stderr",
     "output_type": "stream",
     "text": [
      "C:\\Program Files\\Conda_3\\lib\\site-packages\\ipykernel_launcher.py:1: PerformanceWarning: indexing past lexsort depth may impact performance.\n",
      "  \"\"\"Entry point for launching an IPython kernel.\n"
     ]
    },
    {
     "name": "stdout",
     "output_type": "stream",
     "text": [
      "Расчет предсказания на 2 ч вперед\n",
      "Расчет предсказания на 3 ч вперед\n",
      "Расчет предсказания на 4 ч вперед\n",
      "Расчет предсказания на 5 ч вперед\n",
      "Расчет предсказания на 6 ч вперед\n",
      "Расчет предсказания для региона - 1580, осталось обработать регионов - 10\n",
      "Расчет предсказания на 1 ч вперед\n"
     ]
    },
    {
     "name": "stderr",
     "output_type": "stream",
     "text": [
      "C:\\Program Files\\Conda_3\\lib\\site-packages\\ipykernel_launcher.py:1: PerformanceWarning: indexing past lexsort depth may impact performance.\n",
      "  \"\"\"Entry point for launching an IPython kernel.\n"
     ]
    },
    {
     "name": "stdout",
     "output_type": "stream",
     "text": [
      "Расчет предсказания на 2 ч вперед\n",
      "Расчет предсказания на 3 ч вперед\n",
      "Расчет предсказания на 4 ч вперед\n",
      "Расчет предсказания на 5 ч вперед\n",
      "Расчет предсказания на 6 ч вперед\n",
      "Расчет предсказания для региона - 1630, осталось обработать регионов - 9\n",
      "Расчет предсказания на 1 ч вперед\n"
     ]
    },
    {
     "name": "stderr",
     "output_type": "stream",
     "text": [
      "C:\\Program Files\\Conda_3\\lib\\site-packages\\ipykernel_launcher.py:1: PerformanceWarning: indexing past lexsort depth may impact performance.\n",
      "  \"\"\"Entry point for launching an IPython kernel.\n"
     ]
    },
    {
     "name": "stdout",
     "output_type": "stream",
     "text": [
      "Расчет предсказания на 2 ч вперед\n",
      "Расчет предсказания на 3 ч вперед\n",
      "Расчет предсказания на 4 ч вперед\n",
      "Расчет предсказания на 5 ч вперед\n",
      "Расчет предсказания на 6 ч вперед\n",
      "Расчет предсказания для региона - 1684, осталось обработать регионов - 8\n",
      "Расчет предсказания на 1 ч вперед\n"
     ]
    },
    {
     "name": "stderr",
     "output_type": "stream",
     "text": [
      "C:\\Program Files\\Conda_3\\lib\\site-packages\\ipykernel_launcher.py:1: PerformanceWarning: indexing past lexsort depth may impact performance.\n",
      "  \"\"\"Entry point for launching an IPython kernel.\n"
     ]
    },
    {
     "name": "stdout",
     "output_type": "stream",
     "text": [
      "Расчет предсказания на 2 ч вперед\n",
      "Расчет предсказания на 3 ч вперед\n",
      "Расчет предсказания на 4 ч вперед\n",
      "Расчет предсказания на 5 ч вперед\n",
      "Расчет предсказания на 6 ч вперед\n",
      "Расчет предсказания для региона - 1733, осталось обработать регионов - 7\n",
      "Расчет предсказания на 1 ч вперед\n"
     ]
    },
    {
     "name": "stderr",
     "output_type": "stream",
     "text": [
      "C:\\Program Files\\Conda_3\\lib\\site-packages\\ipykernel_launcher.py:1: PerformanceWarning: indexing past lexsort depth may impact performance.\n",
      "  \"\"\"Entry point for launching an IPython kernel.\n"
     ]
    },
    {
     "name": "stdout",
     "output_type": "stream",
     "text": [
      "Расчет предсказания на 2 ч вперед\n",
      "Расчет предсказания на 3 ч вперед\n",
      "Расчет предсказания на 4 ч вперед\n",
      "Расчет предсказания на 5 ч вперед\n",
      "Расчет предсказания на 6 ч вперед\n",
      "Расчет предсказания для региона - 1734, осталось обработать регионов - 6\n",
      "Расчет предсказания на 1 ч вперед\n"
     ]
    },
    {
     "name": "stderr",
     "output_type": "stream",
     "text": [
      "C:\\Program Files\\Conda_3\\lib\\site-packages\\ipykernel_launcher.py:1: PerformanceWarning: indexing past lexsort depth may impact performance.\n",
      "  \"\"\"Entry point for launching an IPython kernel.\n"
     ]
    },
    {
     "name": "stdout",
     "output_type": "stream",
     "text": [
      "Расчет предсказания на 2 ч вперед\n",
      "Расчет предсказания на 3 ч вперед\n",
      "Расчет предсказания на 4 ч вперед\n",
      "Расчет предсказания на 5 ч вперед\n",
      "Расчет предсказания на 6 ч вперед\n",
      "Расчет предсказания для региона - 1783, осталось обработать регионов - 5\n",
      "Расчет предсказания на 1 ч вперед\n"
     ]
    },
    {
     "name": "stderr",
     "output_type": "stream",
     "text": [
      "C:\\Program Files\\Conda_3\\lib\\site-packages\\ipykernel_launcher.py:1: PerformanceWarning: indexing past lexsort depth may impact performance.\n",
      "  \"\"\"Entry point for launching an IPython kernel.\n"
     ]
    },
    {
     "name": "stdout",
     "output_type": "stream",
     "text": [
      "Расчет предсказания на 2 ч вперед\n",
      "Расчет предсказания на 3 ч вперед\n",
      "Расчет предсказания на 4 ч вперед\n",
      "Расчет предсказания на 5 ч вперед\n",
      "Расчет предсказания на 6 ч вперед\n",
      "Расчет предсказания для региона - 2068, осталось обработать регионов - 4\n",
      "Расчет предсказания на 1 ч вперед\n"
     ]
    },
    {
     "name": "stderr",
     "output_type": "stream",
     "text": [
      "C:\\Program Files\\Conda_3\\lib\\site-packages\\ipykernel_launcher.py:1: PerformanceWarning: indexing past lexsort depth may impact performance.\n",
      "  \"\"\"Entry point for launching an IPython kernel.\n"
     ]
    },
    {
     "name": "stdout",
     "output_type": "stream",
     "text": [
      "Расчет предсказания на 2 ч вперед\n",
      "Расчет предсказания на 3 ч вперед\n",
      "Расчет предсказания на 4 ч вперед\n",
      "Расчет предсказания на 5 ч вперед\n",
      "Расчет предсказания на 6 ч вперед\n",
      "Расчет предсказания для региона - 2069, осталось обработать регионов - 3\n",
      "Расчет предсказания на 1 ч вперед\n"
     ]
    },
    {
     "name": "stderr",
     "output_type": "stream",
     "text": [
      "C:\\Program Files\\Conda_3\\lib\\site-packages\\ipykernel_launcher.py:1: PerformanceWarning: indexing past lexsort depth may impact performance.\n",
      "  \"\"\"Entry point for launching an IPython kernel.\n"
     ]
    },
    {
     "name": "stdout",
     "output_type": "stream",
     "text": [
      "Расчет предсказания на 2 ч вперед\n",
      "Расчет предсказания на 3 ч вперед\n",
      "Расчет предсказания на 4 ч вперед\n",
      "Расчет предсказания на 5 ч вперед\n",
      "Расчет предсказания на 6 ч вперед\n",
      "Расчет предсказания для региона - 2118, осталось обработать регионов - 2\n",
      "Расчет предсказания на 1 ч вперед\n"
     ]
    },
    {
     "name": "stderr",
     "output_type": "stream",
     "text": [
      "C:\\Program Files\\Conda_3\\lib\\site-packages\\ipykernel_launcher.py:1: PerformanceWarning: indexing past lexsort depth may impact performance.\n",
      "  \"\"\"Entry point for launching an IPython kernel.\n"
     ]
    },
    {
     "name": "stdout",
     "output_type": "stream",
     "text": [
      "Расчет предсказания на 2 ч вперед\n",
      "Расчет предсказания на 3 ч вперед\n",
      "Расчет предсказания на 4 ч вперед\n",
      "Расчет предсказания на 5 ч вперед\n",
      "Расчет предсказания на 6 ч вперед\n",
      "Расчет предсказания для региона - 2119, осталось обработать регионов - 1\n",
      "Расчет предсказания на 1 ч вперед\n"
     ]
    },
    {
     "name": "stderr",
     "output_type": "stream",
     "text": [
      "C:\\Program Files\\Conda_3\\lib\\site-packages\\ipykernel_launcher.py:1: PerformanceWarning: indexing past lexsort depth may impact performance.\n",
      "  \"\"\"Entry point for launching an IPython kernel.\n"
     ]
    },
    {
     "name": "stdout",
     "output_type": "stream",
     "text": [
      "Расчет предсказания на 2 ч вперед\n",
      "Расчет предсказания на 3 ч вперед\n",
      "Расчет предсказания на 4 ч вперед\n",
      "Расчет предсказания на 5 ч вперед\n",
      "Расчет предсказания на 6 ч вперед\n",
      "Расчет предсказания для региона - 2168, осталось обработать регионов - 0\n",
      "Расчет предсказания на 1 ч вперед\n"
     ]
    },
    {
     "name": "stderr",
     "output_type": "stream",
     "text": [
      "C:\\Program Files\\Conda_3\\lib\\site-packages\\ipykernel_launcher.py:1: PerformanceWarning: indexing past lexsort depth may impact performance.\n",
      "  \"\"\"Entry point for launching an IPython kernel.\n"
     ]
    },
    {
     "name": "stdout",
     "output_type": "stream",
     "text": [
      "Расчет предсказания на 2 ч вперед\n",
      "Расчет предсказания на 3 ч вперед\n",
      "Расчет предсказания на 4 ч вперед\n",
      "Расчет предсказания на 5 ч вперед\n",
      "Расчет предсказания на 6 ч вперед\n",
      "Wall time: 7h 36min 9s\n"
     ]
    }
   ],
   "source": [
    "%%time\n",
    "y_may, y_june = predict_model(X_y)"
   ]
  },
  {
   "cell_type": "code",
   "execution_count": 21,
   "metadata": {},
   "outputs": [],
   "source": [
    "y_june.to_csv('data/df_regions/week6_june.csv')"
   ]
  },
  {
   "cell_type": "markdown",
   "metadata": {},
   "source": [
    "3. Когда вы примете решение остановиться и перестать добавлять признаки, постройте для каждой географической зоны и каждого конца истории от 2016.04.30 23:00 до 2016.05.31 17:00 прогнозы на 6 часов вперёд; посчитайте в ноутбуке ошибку прогноза по следующему функционалу:\n",
    "Убедитесь, что среднее качество прогнозов увеличилось."
   ]
  },
  {
   "cell_type": "code",
   "execution_count": 15,
   "metadata": {},
   "outputs": [
    {
     "name": "stdout",
     "output_type": "stream",
     "text": [
      "Ошибка качества прогнозов моделей за май составляет  20.964395004731706\n",
      "Wall time: 39 ms\n"
     ]
    }
   ],
   "source": [
    "%%time\n",
    "print('Ошибка качества прогнозов моделей за май составляет ', error(y_may))"
   ]
  },
  {
   "cell_type": "markdown",
   "metadata": {},
   "source": [
    "4. Переобучите итоговые модели на данных до мая 2016 включительно, постройте прогнозы на июнь для каждого конца истории от 2016.05.31 23:00 до 2016.06.30 17:00 и запишите все результаты в один файл в уже знакомом вам формате: geoID, histEndDay, histEndHour, step, y"
   ]
  },
  {
   "cell_type": "code",
   "execution_count": 16,
   "metadata": {},
   "outputs": [],
   "source": [
    "def kaggle(df):\n",
    "    df_predict = df.xs('y_predict', level='y', axis=1)\n",
    "    list_date = []\n",
    "    list_predict = []\n",
    "    for date in df_predict.index:\n",
    "        for region_delta in df_predict.columns:\n",
    "            list_date.append(str(region_delta[0])+'_'+str(date)[:10]+'_'+str(date.hour)+'_'+str(region_delta[1]))\n",
    "            list_predict.append(df_predict[(region_delta)][date])\n",
    "    return pd.DataFrame(np.array((list_date, list_predict)).T, columns=['id', 'y'])"
   ]
  },
  {
   "cell_type": "code",
   "execution_count": 18,
   "metadata": {},
   "outputs": [
    {
     "name": "stdout",
     "output_type": "stream",
     "text": [
      "Ошибка качества прогнозов моделей за июнь составляет  17.5737556561086\n",
      "Wall time: 58.4 s\n"
     ]
    }
   ],
   "source": [
    "%%time\n",
    "print('Ошибка качества прогнозов моделей за июнь составляет ', error(y_june))\n",
    "kaggle_df = kaggle(y_june)\n",
    "kaggle_df.to_csv('data/df_regions/result_june_week6.csv', index=False)"
   ]
  },
  {
   "cell_type": "markdown",
   "metadata": {},
   "source": [
    "###### Вывод: Ошибка качества прогноза при добавлении дополнительных признаков уменьшилась по сравнению с предыдущей неделей (с 20.996 до 17.574)"
   ]
  },
  {
   "cell_type": "markdown",
   "metadata": {},
   "source": [
    "5. Загрузите полученный файл на kaggle: https://inclass.kaggle.com/c/yellowtaxi. Добавьте в ноутбук ссылку на сабмишн."
   ]
  },
  {
   "cell_type": "markdown",
   "metadata": {},
   "source": [
    "[**ссылка**](https://www.kaggle.com/c/yellowtaxi/submissions?sortBy=date&group=successful&page=1&pageSize=100), если не сработает вот скриншот"
   ]
  },
  {
   "cell_type": "code",
   "execution_count": 19,
   "metadata": {},
   "outputs": [
    {
     "data": {
      "text/html": [
       "<img src=\"data/df_regions/kaggle_week6.png\" width=\"900\"/>"
      ],
      "text/plain": [
       "<IPython.core.display.Image object>"
      ]
     },
     "metadata": {},
     "output_type": "display_data"
    }
   ],
   "source": [
    "from IPython.display import Image # Библиотека для отображения картинок\n",
    "\n",
    "display(Image(url='data/df_regions/kaggle_week6.png', width = 900))"
   ]
  },
  {
   "cell_type": "markdown",
   "metadata": {},
   "source": [
    "6. Загрузите ноутбук в форму."
   ]
  },
  {
   "cell_type": "markdown",
   "metadata": {},
   "source": [
    "---"
   ]
  }
 ],
 "metadata": {
  "kernelspec": {
   "display_name": "Python 3",
   "language": "python",
   "name": "python3"
  },
  "language_info": {
   "codemirror_mode": {
    "name": "ipython",
    "version": 3
   },
   "file_extension": ".py",
   "mimetype": "text/x-python",
   "name": "python",
   "nbconvert_exporter": "python",
   "pygments_lexer": "ipython3",
   "version": "3.7.6"
  }
 },
 "nbformat": 4,
 "nbformat_minor": 4
}
